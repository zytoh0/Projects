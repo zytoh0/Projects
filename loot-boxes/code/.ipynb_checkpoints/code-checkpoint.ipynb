{
 "cells": [
  {
   "cell_type": "markdown",
   "metadata": {},
   "source": [
    "# \"Fun with Loot Boxes\" Lab\n",
    "\n",
    "> Author: Caroline Schmitt, Matt Brems\n",
    "\n",
    "### Scenario:\n",
    "\n",
    "You're an analyst for [Zynga](https://en.wikipedia.org/wiki/Zynga), a gaming studio working on an event for an MMO (massively multiplayer online) game. This event is going to include **loot boxes**.\n",
    "\n",
    "<img src=\"https://vignette.wikia.nocookie.net/2007scape/images/0/06/Culinaromancer%27s_chest.png/revision/latest?cb=20180403231423\" alt=\"drawing\" width=\"150\"/> \n",
    "\n",
    "A loot box is basically a treasure chest in a game. This loot box can be opened to reveal a variety of items: some items are very rare and valuable, other items are common and less valuable. (You may consult [the esteemed Wikipedia](https://en.wikipedia.org/wiki/Loot_box) for a more extensive definition.)\n",
    "\n",
    "In our specific game, suppose that loot boxes can be obtained in one of two ways: \n",
    "- After every three hours of playing the game, a user will earn one loot box.\n",
    "- If the user wishes to purchase a loot box, they may pay $1 (in real money!) for a loot box.\n",
    "\n",
    "These loot boxes are very good for our business!\n",
    "- If a player earns a loot box, it means they are spending lots of time on the game. This often leads to advertisement revenue, they may tell their friends to join the game, etc.\n",
    "- If the player purchases a loot box, it means we've earned $1 from our customer.\n",
    "\n",
    "Suppose each loot box is opened to reveal either:\n",
    "- magical elixir (super rare, very valuable), or\n",
    "- nothing.\n",
    "\n",
    "Whether each loot box contains the elixir or nothing is **random**. Our boss wants some guidance on what sort of randomness to use on these loot boxes! \n",
    "- If the magical elixir is too rare, then users may not be motivated to try to get them, because they believe they'll never find the magical elixir.\n",
    "- If the magical elixir is too common, then users may not be motivated to try to get them, because the game has so much of the magical elixir that it isn't worthwhile to try to get it.\n",
    "\n",
    "However, our boss isn't a math-y type person! When explaining things to our boss, we need to explain the impact of our choices on the game as concretely as possible.\n",
    "\n",
    "### Version 1\n",
    "In our first version of the game, we'll say that loot boxes contain magical elixir 15% of the time and nothing 85% of the time.\n",
    "\n",
    "#### 1. Our boss asks, \"If a user buys 100 loot boxes, how many elixirs will they get?\" How would you respond?"
   ]
  },
  {
   "cell_type": "markdown",
   "metadata": {},
   "source": [
    "**Answer**: We can't guarantee how many elixirs one person would get. It's possible that someone who is very unlucky gets 0 elixirs and someone who is very lucky gets 100 elixirs out of 100 loot boxes! We can describe how many people are _expected_ to get, but we can't say anything with certainty."
   ]
  },
  {
   "cell_type": "markdown",
   "metadata": {},
   "source": [
    "#### 2. Our boss asks, \"How many loot boxes does someone have to purchase in order to definitely get elixir?\" How would you respond?"
   ]
  },
  {
   "cell_type": "markdown",
   "metadata": {},
   "source": [
    "**Answer**: Someone could theoretically purchase an infinite number of loot boxes and can't ever get elixir. (You can think about this like us flipping a coin - it's unlikely, but it could take a very, very long time before we flip one `Heads`.) So, we can't guarantee how many loot boxes one needs to purchase until they find an elixir."
   ]
  },
  {
   "cell_type": "markdown",
   "metadata": {},
   "source": [
    "#### 3. Our boss asks, \"If a user earns 100 loot boxes, what is the chance that a user gets more than 20 elixirs?\" This is a bit more complicated, so let's break it down before answering."
   ]
  },
  {
   "cell_type": "markdown",
   "metadata": {},
   "source": [
    "#### 3a. Let's suppose my random variable $X$ counts up how many elixirs I observe out of my 100 loot boxes. Why is $X$ a discrete random variable?"
   ]
  },
  {
   "cell_type": "markdown",
   "metadata": {},
   "source": [
    "**Answer**: A discrete random variable has a countable number of outcomes; a continuous random variable has an uncountable number of outcomes.\n",
    "\n",
    "$X$ can take on the values 0, 1, 2, 3, $\\ldots$, 100. This is a countable (in fact, finite!) number of outcomes. Therefore, $X$ is a discrete random variable."
   ]
  },
  {
   "cell_type": "markdown",
   "metadata": {},
   "source": [
    "#### 3b. Recall our discrete distributions: discrete uniform, Bernoulli, binomial, Poisson. Let's suppose my random variable $X$ counts up how many elixirs I observe out of my 100 loot boxes. What distribution is best suited for $X$? Why?\n",
    "- Hint: It may help to consider getting the magical elixir a \"success\" and getting nothing a \"failure.\" "
   ]
  },
  {
   "cell_type": "markdown",
   "metadata": {},
   "source": [
    "**Answer**: The Binomial distribution is the best distribution to model $X$.\n",
    "\n",
    "- A discrete uniform distribution assumes that each outcome is equally likely. Since there is a 15% chance that the user gets the magical elixir, $P(X=0)$ is not the same as $P(X=15)$ which is not the same as $P(X=100)$. Thus, a discrete uniform distribution is not a good choice here.\n",
    "- A Bernoulli distribution models the number of successes we observe in 1 trial. In our situation, we have 100 trials (100 attempts to get the elixir from a loot box). Thus, the Bernoulli distribution is not a good choice here.\n",
    "- A Binomial distribution models the number of successes we observe in $n$ trials. In our situation, we have 100 trials ($n = 100$ attempts to get the elixir from a loot box). **Thus, the Binomial distribution is a good choice here.**\n",
    "- A Poisson distribution models the number of successes we observe in a fixed amount of time, not a fixed number of trials. In our situation, we have 100 trials (100 attempts to get the elixir from a loot box), and not a fixed amount of time. Thus, the Poisson distribution is not a good choice here."
   ]
  },
  {
   "cell_type": "markdown",
   "metadata": {},
   "source": [
    "#### 3c. Our boss asks, \"If a user earns 100 loot boxes, what is the chance that a user gets more than 20 elixirs?\" Use the probability mass function to answer the boss' question."
   ]
  },
  {
   "cell_type": "code",
   "execution_count": 1,
   "metadata": {},
   "outputs": [],
   "source": [
    "import scipy.stats as stats"
   ]
  },
  {
   "cell_type": "code",
   "execution_count": 2,
   "metadata": {},
   "outputs": [
    {
     "data": {
      "text/plain": [
       "0.027041674394231836"
      ]
     },
     "execution_count": 2,
     "metadata": {},
     "output_type": "execute_result"
    }
   ],
   "source": [
    "# What is the probability of getting 21 elixirs out of 100 loot boxes?\n",
    "stats.binom(n=100, p=0.15).pmf(21)"
   ]
  },
  {
   "cell_type": "code",
   "execution_count": 3,
   "metadata": {},
   "outputs": [
    {
     "data": {
      "text/plain": [
       "0.017136034308643126"
      ]
     },
     "execution_count": 3,
     "metadata": {},
     "output_type": "execute_result"
    }
   ],
   "source": [
    "# What is the probability of getting 22 elixirs out of 100 loot boxes?\n",
    "stats.binom(n=100, p=0.15).pmf(22)"
   ]
  },
  {
   "cell_type": "code",
   "execution_count": 4,
   "metadata": {},
   "outputs": [
    {
     "name": "stdout",
     "output_type": "stream",
     "text": [
      "The probability that a user gets more than 20 elixirs in 100 loot boxes is 6.63198%.\n"
     ]
    }
   ],
   "source": [
    "# Instantiate prob at 0.\n",
    "prob = 0\n",
    "\n",
    "# Iterate through getting 21, 22, 23, ..., 100 elixirs.\n",
    "for successes in range(21,101):\n",
    "\n",
    "    # Use the .pmf() method to get P(X = successes) and add to prob.\n",
    "    prob += stats.binom(n=100, p=0.15).pmf(successes)\n",
    "    \n",
    "# Use f-string to print result embedded in a string.\n",
    "print(f'The probability that a user gets more than 20 elixirs in 100 loot boxes is {round(prob * 100, 5)}%.')\n",
    "# I calculated the probability, multiplied it by 100 to turn it \n",
    "# into a percentage, then rounded it to 5 decimal places."
   ]
  },
  {
   "cell_type": "markdown",
   "metadata": {},
   "source": [
    "#### 3d. Our boss asks, \"If a user earns 100 loot boxes, what is the chance that a user gets more than 20 elixirs?\" Use the cumulative distribution function to answer the boss' question."
   ]
  },
  {
   "cell_type": "code",
   "execution_count": 5,
   "metadata": {},
   "outputs": [
    {
     "data": {
      "text/plain": [
       "0.9336802341811183"
      ]
     },
     "execution_count": 5,
     "metadata": {},
     "output_type": "execute_result"
    }
   ],
   "source": [
    "# What is the probability of getting 20 or fewer elixirs out of 100 loot boxes?\n",
    "stats.binom(n=100, p=0.15).cdf(20)"
   ]
  },
  {
   "cell_type": "code",
   "execution_count": 6,
   "metadata": {},
   "outputs": [
    {
     "name": "stdout",
     "output_type": "stream",
     "text": [
      "The probability that a user gets more than 20 elixirs in 100 loot boxes is 6.63198%.\n"
     ]
    }
   ],
   "source": [
    "# What is the probability of getting more than 20 elixirs out of 100 loot boxes?\n",
    "prob = 1 - stats.binom(n=100, p=0.15).cdf(20)\n",
    "\n",
    "# Use f-string to print result embedded in a string.\n",
    "print(f'The probability that a user gets more than 20 elixirs in 100 loot boxes is {round(prob * 100, 5)}%.')\n",
    "# I calculated the probability, multiplied it by 100 to turn it \n",
    "# into a percentage, then rounded it to 5 decimal places."
   ]
  },
  {
   "cell_type": "markdown",
   "metadata": {},
   "source": [
    "_Note: It's a good thing that our answers to 3c and 3d are the same! If they weren't, then we'd have made a mistake on at least one of them!_"
   ]
  },
  {
   "cell_type": "markdown",
   "metadata": {},
   "source": [
    "#### 3e. Our boss asks, \"If a user earns 100 loot boxes, what is the chance that a user gets more than 20 elixirs?\" Answer your boss' question. *Remember that your boss is not a math-y person!*"
   ]
  },
  {
   "cell_type": "markdown",
   "metadata": {},
   "source": [
    "**Answer:**\n",
    "- \"If someone were to earn 100 loot boxes, there's about a 6.6% chance that they would get more than 20 elixirs.\"\n",
    "- If we knew how many users were on our platform, we could use this piece of information. For example, suppose that there are 25,000 users. Then, I would say something like \"If all 25,000 of our users had earned 100 loot boxes, then we'd expect about 1,650 of those users to get more than 20 elixirs.\""
   ]
  },
  {
   "cell_type": "markdown",
   "metadata": {},
   "source": [
    "#### 4. Your boss wants to know how many people purchased how many loot boxes last month. \n",
    "> For example, last month, 70% of users did not purchase any loot boxes. 10% of people purchased one loot box. 5% of people purchased two loot boxes... and so on.\n",
    "\n",
    "#### 4a. Recall our discrete distributions: discrete uniform, Bernoulli, binomial, Poisson. Let's suppose my random variable $Y$ counts up how many loot boxes each person purchased through the game last month. What distribution is best suited for $Y$? Why?"
   ]
  },
  {
   "cell_type": "markdown",
   "metadata": {},
   "source": [
    "**Answer**: The Poisson distribution is the best distribution to model $Y$.\n",
    "\n",
    "- A discrete uniform distribution assumes that each outcome is equally likely. Since there is a 70% chance that a user purchases zero loot boxes, 10% chance a user purchases one loot box, and so on, $P(Y=0) \\neq P(Y=1) \\neq \\ldots$. Thus, a discrete uniform distribution is not a good choice here.\n",
    "- A Bernoulli distribution models the number of successes we observe in 1 trial. In our situation, we do not have a fixed number of trials. Thus, the Bernoulli distribution is not a good choice here.\n",
    "- A Binomial distribution models the number of successes we observe in $n$ trials. In our situation, we do not have a fixed number of trials. Thus, the Binomial distribution is not a good choice here.\n",
    "- A Poisson distribution models the number of successes we observe in a fixed amount of time, not a fixed number of trials. In our situation, we don't have a fixed number of trials, but are counting up how many loot boxes a person purchases in a fixed amount of time (last month). **Thus, the Poisson distribution is a good choice here.**"
   ]
  },
  {
   "cell_type": "markdown",
   "metadata": {},
   "source": [
    "#### 4b. Suppose that, on average, your customers purchased 2.7 loot boxes last month. In order for your revenue to be at least $500,000, at least how many users would you need on your platform? (Round your answer up to the nearest thousand.) "
   ]
  },
  {
   "cell_type": "code",
   "execution_count": 7,
   "metadata": {},
   "outputs": [
    {
     "data": {
      "text/plain": [
       "185185.18518518517"
      ]
     },
     "execution_count": 7,
     "metadata": {},
     "output_type": "execute_result"
    }
   ],
   "source": [
    "# Show your work; leave your answer in a comment.\n",
    "\n",
    "revenue = 500_000\n",
    "avg_purchase = 2.7\n",
    "\n",
    "# revenue = avg_purchase * number_of_users\n",
    "# revenue / avg_purchase = number_of_users\n",
    "\n",
    "revenue / avg_purchase"
   ]
  },
  {
   "cell_type": "code",
   "execution_count": 8,
   "metadata": {},
   "outputs": [],
   "source": [
    "# The number of users we need on our platform would be 185,186. \n",
    "# Rounding up to the nearest thousand, the answer is 186,000 users."
   ]
  },
  {
   "cell_type": "markdown",
   "metadata": {},
   "source": [
    "#### 4c. Assume that your platform has the numer of users you mentioned in your last answer. Suppose that your platform calls anyone who purchases 5 or more loot boxes in a month a \"high value user.\" How much money do you expect to have earned from \"high value users?\" How about \"low value users?\""
   ]
  },
  {
   "cell_type": "markdown",
   "metadata": {},
   "source": [
    "**Answer:** \n",
    "\n",
    "We will use a Poisson distribution to model $Y$. Since we know that users purchase an average of 2.7 loot boxes, $\\lambda = 2.7$ and $Y\\sim Poisson(2.7)$.\n",
    "\n",
    "Let's see how many users who purchase 0, 1, 2, $\\ldots$ loot boxes."
   ]
  },
  {
   "cell_type": "code",
   "execution_count": 9,
   "metadata": {},
   "outputs": [
    {
     "name": "stdout",
     "output_type": "stream",
     "text": [
      "There are 12500.0 users expected to purchase 0 loot boxes.\n",
      "We are expected to make $0.0 from those expected to purchase 0 loot boxes.\n",
      "There are 33751.0 users expected to purchase 1 loot boxes.\n",
      "We are expected to make $33750.61 from those expected to purchase 1 loot boxes.\n",
      "There are 45563.0 users expected to purchase 2 loot boxes.\n",
      "We are expected to make $91126.64 from those expected to purchase 2 loot boxes.\n",
      "There are 41007.0 users expected to purchase 3 loot boxes.\n",
      "We are expected to make $123020.97 from those expected to purchase 3 loot boxes.\n",
      "There are 27680.0 users expected to purchase 4 loot boxes.\n",
      "We are expected to make $110718.88 from those expected to purchase 4 loot boxes.\n",
      "\n",
      "We expect to make $358617.1 from \"low-value\" users.\n",
      "Since we expect to earn $502200.0 from all users, we expect to earn $143582.9 from \"high-value\" users.\n"
     ]
    }
   ],
   "source": [
    "# Set our total purchase amount to be 0.\n",
    "amount = 0\n",
    "\n",
    "# Check values from 0 to 4.\n",
    "for purchases in range(5):\n",
    "    \n",
    "    # How many users purchase y loot boxes?\n",
    "    print(f'There are {round(186_000 * stats.poisson(mu = 2.7).pmf(purchases))} users expected to purchase {purchases} loot boxes.')\n",
    "    \n",
    "    # How much money would we make from those people? (dollar amount) * (number of individuals)\n",
    "    print(f'We are expected to make ${purchases * round(186_000 * stats.poisson(mu = 2.7).pmf(purchases), 2)} from those expected to purchase {purchases} loot boxes.')\n",
    "    \n",
    "    # Add the above quantity to amount.\n",
    "    amount += purchases * round(186_000 * stats.poisson(mu = 2.7).pmf(purchases), 2)\n",
    "\n",
    "print()\n",
    "\n",
    "# How much we expect to make from people buying 4 or fewer loot boxes. (Low value.)\n",
    "print(f'We expect to make ${round(amount, 2)} from \"low-value\" users.')\n",
    "\n",
    "# How much we expect to make from people buying at least 5 loot boxes. (High value.)\n",
    "print(f'Since we expect to earn ${round(186_000 * 2.7,2)} from all users, we expect to earn ${round(round(186_000 * 2.7,2) - round(amount, 2),2)} from \"high-value\" users.')"
   ]
  },
  {
   "cell_type": "markdown",
   "metadata": {},
   "source": [
    "#### 4d. Suppose that you want to summarize how many people purchased how many loot boxes last month for your boss. Since your boss isn't math-y, what are 2-4 summary numbers you might use to summarize this for your boss? (Your answers will vary here - use your judgment!)"
   ]
  },
  {
   "cell_type": "markdown",
   "metadata": {},
   "source": [
    "**Answer**: In order to summarize how many people purchased how many loot boxes, I would probably share:\n",
    "- The percentage of active users who bought at least one loot box.\n",
    "- The average number of loot boxes purchased by users.\n",
    "- Among people who purchased at least one loot box, the average number of loot boxes purchased.\n",
    "- The total number of loot boxes purchased by users.\n",
    "\n",
    "_(Answers will vary.)_"
   ]
  },
  {
   "cell_type": "markdown",
   "metadata": {},
   "source": [
    "#### 5. Your boss asks \"How many loot boxes does it take before someone gets their first elixir?\" Using `np.random.choice`, simulate how many loot boxes it takes somone to get their first elixir. \n",
    "- Start an empty list.\n",
    "- Use control flow to have someone open loot boxes repeatedly.\n",
    "- Once they open a loot box containing an elixir, record the number of loot boxes it took in the empty list.\n",
    "- Repeat this process 100,000 times. \n",
    "\n",
    "This simulates how long it takes for someone to open a loot box containing elixir. Share the 5th, 25th, 50th, 75th, and 95th percentiles.\n",
    "\n",
    "> You may find [this documentation](https://docs.scipy.org/doc/numpy/reference/generated/numpy.random.choice.html)  and [this documentation](https://docs.scipy.org/doc/numpy/reference/generated/numpy.percentile.html) helpful."
   ]
  },
  {
   "cell_type": "code",
   "execution_count": 10,
   "metadata": {},
   "outputs": [],
   "source": [
    "# Import NumPy.\n",
    "import numpy as np\n",
    "\n",
    "# Set random seed.\n",
    "np.random.seed(42)\n",
    "\n",
    "# Instantiate list to collect how long until elixir is found.\n",
    "times_until_elixir = []\n",
    "\n",
    "# Possible outcomes from loot chest.\n",
    "loot_chest = ['elixir', 'nothing']\n",
    "\n",
    "# Repeat experiment 100,000 times.\n",
    "for i in range(100_000):\n",
    "\n",
    "    # Start count at 0.\n",
    "    turns = 0\n",
    "    \n",
    "    while True:\n",
    "        \n",
    "        # Open loot chest.\n",
    "        opened_loot_chest = np.random.choice(loot_chest, p = [0.15, 0.85])\n",
    "        \n",
    "        # It takes one more turn to get elixir.\n",
    "        turns += 1\n",
    "        \n",
    "        # If we find elixir, add turns to the list.\n",
    "        if opened_loot_chest == 'elixir':\n",
    "            times_until_elixir.append(turns)\n",
    "            break"
   ]
  },
  {
   "cell_type": "code",
   "execution_count": 11,
   "metadata": {},
   "outputs": [
    {
     "name": "stdout",
     "output_type": "stream",
     "text": [
      "The 5th percentile of how long it takes to find elixir is 1.0\n",
      "The 25th percentile of how long it takes to find elixir is 2.0\n",
      "The 50th percentile of how long it takes to find elixir is 5.0\n",
      "The 75th percentile of how long it takes to find elixir is 9.0\n",
      "The 95th percentile of how long it takes to find elixir is 19.0\n"
     ]
    }
   ],
   "source": [
    "print(f'The 5th percentile of how long it takes to find elixir is {np.percentile(times_until_elixir, 5)}')\n",
    "print(f'The 25th percentile of how long it takes to find elixir is {np.percentile(times_until_elixir, 25)}')\n",
    "print(f'The 50th percentile of how long it takes to find elixir is {np.percentile(times_until_elixir, 50)}')\n",
    "print(f'The 75th percentile of how long it takes to find elixir is {np.percentile(times_until_elixir, 75)}')\n",
    "print(f'The 95th percentile of how long it takes to find elixir is {np.percentile(times_until_elixir, 95)}')"
   ]
  },
  {
   "cell_type": "markdown",
   "metadata": {},
   "source": [
    "### Version 2\n",
    "\n",
    "After a substantial update to the game, suppose every loot box can be opened to reveal *one of four different* items:\n",
    "- magical elixir (occurs 1% of the time, most valuable)\n",
    "- golden pendant (occurs 9% of the time, valuable)\n",
    "- steel armor (occurs 30% of the time, semi-valuable)\n",
    "- bronze coin (occurs 60% of the time, least valuable)"
   ]
  },
  {
   "cell_type": "markdown",
   "metadata": {},
   "source": [
    "#### 6. Suppose you want repeat problem 5 above, but do that for the version 2 loot boxes so you can track how many loot boxes are needed to get each item? (e.g. You'd like to be able to say that on average it takes 10 trials to get a golden pendant, 3 trials to get steel armor, and so on.) What Python datatype is the best way to store this data? Why?"
   ]
  },
  {
   "cell_type": "markdown",
   "metadata": {},
   "source": [
    "**Answer**: We'd probably want to store information in a dictionary.\n",
    "- A dictionary allows us to store key-value pairs.\n",
    "- Each key in our dictionary could be the name of the item (e.g. magical elixir, golden pendant, etc.)\n",
    "- Each value in our dictionary could be the simulated list of how many turns are needed to find that item.\n",
    "\n",
    "_(Answers may vary.)_\n",
    "\n",
    "**NOTE:** You do not need to actually attempt problem 5 for version 2. However, you may find it helpful to do so as a bonus or challenge!"
   ]
  },
  {
   "cell_type": "markdown",
   "metadata": {},
   "source": [
    "#### 7. Suppose you and your boss want to measure whether \"Version 2\" is better than \"Version 1.\" What metrics do you think are important to measure? (Your answers will vary here - use your judgment!)"
   ]
  },
  {
   "cell_type": "markdown",
   "metadata": {},
   "source": [
    "**Answer:** There are many answers here.\n",
    "- We will likely want to measure the daily revenue for version 2 to compare to version 1. (Ideally, daily revenue in version 2 is higher!)\n",
    "- We may want to look at the number of users, or number of users active every day (or every week). \n",
    "- We may want to see how many loot boxes are earned in a given day.\n",
    "- We may want to compare the proportion of loot boxes that are purchased (instead of earned) in versions 1 and 2.\n",
    "- We may want to look at the rate of growth of revenue or number of users.\n",
    "- We may want to look at the average length of time a user spends on the game in versions 1 and 2."
   ]
  }
 ],
 "metadata": {
  "kernelspec": {
   "display_name": "Python 3",
   "language": "python",
   "name": "python3"
  },
  "language_info": {
   "codemirror_mode": {
    "name": "ipython",
    "version": 3
   },
   "file_extension": ".py",
   "mimetype": "text/x-python",
   "name": "python",
   "nbconvert_exporter": "python",
   "pygments_lexer": "ipython3",
   "version": "3.6.8"
  }
 },
 "nbformat": 4,
 "nbformat_minor": 2
}
