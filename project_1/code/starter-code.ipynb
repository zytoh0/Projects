{
 "cells": [
  {
   "cell_type": "markdown",
   "metadata": {},
   "source": [
    "<img src=\"http://imgur.com/1ZcRyrc.png\" style=\"float: left; margin: 20px; height: 55px\">\n",
    "\n",
    "# Project 1: Standardized Test Analysis"
   ]
  },
  {
   "cell_type": "markdown",
   "metadata": {},
   "source": [
    "--- \n",
    "# Part 1\n",
    "\n",
    "Part 1 requires knowledge of basic Python.\n",
    "\n",
    "---"
   ]
  },
  {
   "cell_type": "markdown",
   "metadata": {},
   "source": [
    "## Problem Statement"
   ]
  },
  {
   "cell_type": "markdown",
   "metadata": {},
   "source": [
    "The state of California has many school counties. This project aims to identify the counties that have the worst overall student performance on the SAT tests so the state can recommend programs and allocate resources to these counties in need."
   ]
  },
  {
   "cell_type": "markdown",
   "metadata": {},
   "source": [
    "### Contents:\n",
    "- [Background](#Background)\n",
    "- [Data Import & Cleaning](#Data-Import-and-Cleaning)\n",
    "- [Exploratory Data Analysis](#Exploratory-Data-Analysis)\n",
    "- [Data Visualization](#Visualize-the-Data)\n",
    "- [Conclusions and Recommendations](#Conclusions-and-Recommendations)"
   ]
  },
  {
   "cell_type": "markdown",
   "metadata": {},
   "source": [
    "## Background"
   ]
  },
  {
   "cell_type": "markdown",
   "metadata": {},
   "source": [
    "The SAT and ACT are standardized tests that many colleges and universities in the United States require for their admissions process. This score is used along with other materials such as grade point average (GPA) and essay responses to determine whether or not a potential student will be accepted to the university.\n",
    "\n",
    "The SAT has two sections of the test: Evidence-Based Reading and Writing and Math ([*source*](https://www.princetonreview.com/college/sat-sections)). The ACT has 4 sections: English, Mathematics, Reading, and Science, with an additional optional writing section ([*source*](https://www.act.org/content/act/en/products-and-services/the-act/scores/understanding-your-scores.html)). They have different score ranges, which you can read more about on their websites or additional outside sources (a quick Google search will help you understand the scores for each test):\n",
    "* [SAT](https://collegereadiness.collegeboard.org/sat)\n",
    "* [ACT](https://www.act.org/content/act/en.html)\n",
    "\n",
    "Standardized tests have long been a controversial topic for students, administrators, and legislators. Since the 1940's, an increasing number of colleges have been using scores from sudents' performances on tests like the SAT and the ACT as a measure for college readiness and aptitude ([*source*](https://www.minotdailynews.com/news/local-news/2017/04/a-brief-history-of-the-sat-and-act/)). Supporters of these tests argue that these scores can be used as an objective measure to determine college admittance. Opponents of these tests claim that these tests are not accurate measures of students potential or ability and serve as an inequitable barrier to entry. Lately, more and more schools are opting to drop the SAT/ACT requirement for their Fall 2021 applications ([*read more about this here*](https://www.cnn.com/2020/04/14/us/coronavirus-colleges-sat-act-test-trnd/index.html))."
   ]
  },
  {
   "cell_type": "markdown",
   "metadata": {},
   "source": [
    "**To-Do:** *Fill out this cell (or edit the above cell) with any other background or information that is necessary for your problem statement.*"
   ]
  },
  {
   "cell_type": "markdown",
   "metadata": {},
   "source": [
    "### Choose your Data\n",
    "\n",
    "There are 10 datasets included in the [`data`](./data/) folder for this project. You are required to pick **at least two** of these to complete your analysis. Feel free to use more than two if you would like, or add other relevant datasets you find online.\n",
    "\n",
    "* [`act_2017.csv`](./data/act_2017.csv): 2017 ACT Scores by State\n",
    "* [`act_2018.csv`](./data/act_2018.csv): 2018 ACT Scores by State\n",
    "* [`act_2019.csv`](./data/act_2019.csv): 2019 ACT Scores by State\n",
    "* [`act_2019_ca.csv`](./data/act_2019_ca.csv): 2019 ACT Scores in California by School\n",
    "* [`sat_2017.csv`](./data/sat_2017.csv): 2017 SAT Scores by State\n",
    "* [`sat_2018.csv`](./data/sat_2018.csv): 2018 SAT Scores by State\n",
    "* [`sat_2019.csv`](./data/sat_2019.csv): 2019 SAT Scores by State\n",
    "* [`sat_2019_by_intended_college_major.csv`](./data/sat_2019_by_intended_college_major.csv): 2019 SAT Scores by Intended College Major\n",
    "* [`sat_2019_ca.csv`](./data/sat_2019_ca.csv): 2019 SAT Scores in California by School\n",
    "* [`sat_act_by_college.csv`](./data/sat_act_by_college.csv): Ranges of Accepted ACT & SAT Student Scores by Colleges"
   ]
  },
  {
   "cell_type": "markdown",
   "metadata": {},
   "source": [
    "**To-Do:** *Fill out this cell with the datasets you will use for your analysis. Write a brief description of the contents for each dataset that you choose.*"
   ]
  },
  {
   "cell_type": "markdown",
   "metadata": {},
   "source": [
    "### Outside Research"
   ]
  },
  {
   "cell_type": "markdown",
   "metadata": {},
   "source": [
    "Based on your problem statement and your chosen datasets, spend some time doing outside research on state policies or additional information that might be relevant. Summarize your findings below. If you bring in any outside tables or charts, make sure you are explicit about having borrowed them. If you quote any text, make sure that it renders as being quoted. **Make sure that you cite your sources.**"
   ]
  },
  {
   "cell_type": "markdown",
   "metadata": {},
   "source": [
    "**To-Do:** *Fill out this cell with outside research or any additional background information that will support your analysis.*"
   ]
  },
  {
   "cell_type": "markdown",
   "metadata": {},
   "source": [
    "### Coding Challenges\n",
    "\n",
    "1. Manually calculate mean:\n",
    "\n",
    "    Write a function that takes in values and returns the mean of the values. Create a list of numbers that you test on your function to check to make sure your function works!\n",
    "    \n",
    "    *Note*: Do not use any mean methods built-in to any Python libraries to do this! This should be done without importing any additional libraries."
   ]
  },
  {
   "cell_type": "code",
   "execution_count": 728,
   "metadata": {},
   "outputs": [
    {
     "data": {
      "text/plain": [
       "2.0"
      ]
     },
     "execution_count": 728,
     "metadata": {},
     "output_type": "execute_result"
    }
   ],
   "source": [
    "# Code:\n",
    "def mean(num): return sum(num)/len(num)\n",
    "\n",
    "mean([1, 2, 3])"
   ]
  },
  {
   "cell_type": "markdown",
   "metadata": {},
   "source": [
    "2. Manually calculate standard deviation:\n",
    "\n",
    "    The formula for standard deviation is below:\n",
    "\n",
    "    $$\\sigma = \\sqrt{\\frac{1}{n}\\sum_{i=1}^n(x_i - \\mu)^2}$$\n",
    "\n",
    "    Where $x_i$ represents each value in the dataset, $\\mu$ represents the mean of all values in the dataset and $n$ represents the number of values in the dataset.\n",
    "\n",
    "    Write a function that takes in values and returns the standard deviation of the values using the formula above. Hint: use the function you wrote above to calculate the mean! Use the list of numbers you created above to test on your function.\n",
    "    \n",
    "    *Note*: Do not use any standard deviation methods built-in to any Python libraries to do this! This should be done without importing any additional libraries."
   ]
  },
  {
   "cell_type": "code",
   "execution_count": 729,
   "metadata": {},
   "outputs": [
    {
     "data": {
      "text/plain": [
       "0.816496580927726"
      ]
     },
     "execution_count": 729,
     "metadata": {},
     "output_type": "execute_result"
    }
   ],
   "source": [
    "# Code:\n",
    "def stddev(num): return (sum([x**2 for x in [x-mean(num) for x in num]])/len(num))**0.5\n",
    "\n",
    "stddev([1,2,3])"
   ]
  },
  {
   "cell_type": "markdown",
   "metadata": {},
   "source": [
    "3. Data cleaning function:\n",
    "    \n",
    "    Write a function that takes in a string that is a number and a percent symbol (ex. '50%', '30.5%', etc.) and converts this to a float that is the decimal approximation of the percent. For example, inputting '50%' in your function should return 0.5, '30.5%' should return 0.305, etc. Make sure to test your function to make sure it works!\n",
    "\n",
    "You will use these functions later on in the project!"
   ]
  },
  {
   "cell_type": "code",
   "execution_count": 730,
   "metadata": {},
   "outputs": [
    {
     "data": {
      "text/plain": [
       "0.5"
      ]
     },
     "execution_count": 730,
     "metadata": {},
     "output_type": "execute_result"
    }
   ],
   "source": [
    "# Code:\n",
    "def dataclean(string): return float(string.replace('%',''))/100\n",
    "\n",
    "dataclean('50%')"
   ]
  },
  {
   "cell_type": "markdown",
   "metadata": {},
   "source": [
    "--- \n",
    "# Part 2\n",
    "\n",
    "Part 2 requires knowledge of Pandas, EDA, data cleaning, and data visualization.\n",
    "\n",
    "---"
   ]
  },
  {
   "cell_type": "markdown",
   "metadata": {},
   "source": [
    "*All libraries used should be added here*"
   ]
  },
  {
   "cell_type": "code",
   "execution_count": 731,
   "metadata": {},
   "outputs": [],
   "source": [
    "# Imports:\n",
    "import pandas as pd\n",
    "import numpy as np\n",
    "import matplotlib.pyplot as plt\n",
    "import seaborn as sns\n",
    "from sklearn.linear_model import LinearRegression"
   ]
  },
  {
   "cell_type": "markdown",
   "metadata": {},
   "source": [
    "## Data Import and Cleaning"
   ]
  },
  {
   "cell_type": "markdown",
   "metadata": {},
   "source": [
    "### Data Import & Cleaning\n",
    "\n",
    "Import the datasets that you selected for this project and go through the following steps at a minimum. You are welcome to do further cleaning as you feel necessary:\n",
    "1. Display the data: print the first 5 rows of each dataframe to your Jupyter notebook.\n",
    "2. Check for missing values.\n",
    "3. Check for any obvious issues with the observations (keep in mind the minimum & maximum possible values for each test/subtest).\n",
    "4. Fix any errors you identified in steps 2-3.\n",
    "5. Display the data types of each feature.\n",
    "6. Fix any incorrect data types found in step 5.\n",
    "    - Fix any individual values preventing other columns from being the appropriate type.\n",
    "    - If your dataset has a column of percents (ex. '50%', '30.5%', etc.), use the function you wrote in Part 1 (coding challenges, number 3) to convert this to floats! *Hint*: use `.map()` or `.apply()`.\n",
    "7. Rename Columns.\n",
    "    - Column names should be all lowercase.\n",
    "    - Column names should not contain spaces (underscores will suffice--this allows for using the `df.column_name` method to access columns in addition to `df['column_name']`).\n",
    "    - Column names should be unique and informative.\n",
    "8. Drop unnecessary rows (if needed).\n",
    "9. Merge dataframes that can be merged.\n",
    "10. Perform any additional cleaning that you feel is necessary.\n",
    "11. Save your cleaned and merged dataframes as csv files."
   ]
  },
  {
   "cell_type": "code",
   "execution_count": 732,
   "metadata": {},
   "outputs": [
    {
     "name": "stdout",
     "output_type": "stream",
     "text": [
      "WARNING *** OLE2 inconsistency: SSCS size is 0 but SSAT size is non-zero\n"
     ]
    }
   ],
   "source": [
    "# Code:\n",
    "\n",
    "# Import, drop rows with na and remove %\n",
    "act_2017=pd.read_csv('../data/act_2017.csv').dropna()\n",
    "act_2018=pd.read_csv('../data/act_2018.csv').dropna()\n",
    "act_2019=pd.read_csv('../data/act_2019.csv').dropna()\n",
    "sat_2017=pd.read_csv('../data/sat_2017.csv').dropna()\n",
    "sat_2018=pd.read_csv('../data/sat_2018.csv').dropna()\n",
    "sat_2019_by_intended_college_major=pd.read_csv('../data/sat_2019_by_intended_college_major.csv').dropna()\n",
    "sat_2019_ca=pd.read_csv('../data/sat_2019_ca.csv').iloc[:,0:25].dropna()\n",
    "sat_2019=pd.read_csv('../data/sat_2019.csv').dropna()\n",
    "sat_act_by_college=pd.read_csv('../data/sat_act_by_college.csv').dropna()\n",
    "sat_act_by_college['Accept Rate']=sat_act_by_college['Accept Rate'].apply(dataclean)\n",
    "sat_act_by_college=sat_act_by_college[sat_act_by_college!=sat_act_by_college.iloc[386]['SAT Total 25th-75th Percentile']].dropna()\n",
    "sat_2017_ca=pd.read_excel('../data/sat_2017_ca.xls').dropna()\n",
    "sat_2018_ca=pd.read_excel('../data/sat_2018_ca.xlsx').dropna()\n",
    "sat_2019_by_intended_college_major['Percent']=sat_2019_by_intended_college_major['Percent'].apply(dataclean)\n",
    "sat_2017['Participation']=sat_2017['Participation'].apply(dataclean)\n",
    "sat_2018['Participation']=sat_2018['Participation'].apply(dataclean)\n",
    "sat_2018_ca=sat_2018_ca[sat_2018_ca!='*'].dropna()\n",
    "sat_2018_ca=sat_2018_ca[sat_2018_ca!='\\n'].dropna()\n",
    "sat_2019_ca=sat_2019_ca[sat_2019_ca!='*'].dropna()\n",
    "sat_2019=sat_2019[sat_2019!=sat_2019['Participation Rate'][39]].dropna()\n",
    "sat_2019=sat_2019.rename({'Participation Rate':'Participation'}, axis=1)\n",
    "sat_2019['Participation']=sat_2019['Participation'].apply(dataclean)\n",
    "sat_2017=sat_2017.rename({'Evidence-Based Reading and Writing':'EBRW'}, axis=1)\n",
    "sat_2018=sat_2018.rename({'Evidence-Based Reading and Writing':'EBRW'}, axis=1)\n",
    "\n",
    "#lower case all column names\n",
    "act_2017.columns=act_2017.columns.str.lower()\n",
    "act_2018.columns=act_2018.columns.str.lower()\n",
    "act_2019.columns=act_2019.columns.str.lower()\n",
    "sat_2017.columns=sat_2017.columns.str.lower()\n",
    "sat_2018.columns=sat_2018.columns.str.lower()\n",
    "sat_2019.columns=sat_2019.columns.str.lower()\n",
    "\n",
    "act_2017['year']=2017\n",
    "act_2018['year']=2018\n",
    "act_2019['year']=2019\n",
    "sat_2017['year']=2017\n",
    "sat_2018['year']=2018\n",
    "sat_2019['year']=2019\n",
    "\n",
    "sat_2017_ca.columns=sat_2017_ca.columns.str.lower()\n",
    "sat_2018_ca.columns=sat_2018_ca.columns.str.lower()\n",
    "sat_2019_ca.columns=sat_2019_ca.columns.str.lower()\n",
    "\n",
    "act_2017.drop(columns=['english','math','reading','science'],axis=1,inplace=True)\n",
    "\n",
    "act=pd.concat([act_2017,act_2018,act_2019])\n",
    "sat=pd.concat([sat_2017,sat_2018,sat_2019])\n",
    "\n",
    "act['participation']=act['participation'].apply(dataclean)\n",
    "\n",
    "sat_2019_ca=sat_2019_ca.drop([x for x in sat_2019_ca.columns if '11' in x], axis=1)\n",
    "sat_2019_ca.columns = sat_2019_ca.columns.str.replace('12', '')\n",
    "sat_2018_ca.columns = sat_2018_ca.columns.str.replace('12', '')\n",
    "sat_2017_ca.columns = sat_2017_ca.columns.str.replace('12', '')\n",
    "\n",
    "sat_2017_ca['year']=2017\n",
    "sat_2018_ca['year']=2018\n",
    "sat_2019_ca['year']=2019\n",
    "\n",
    "act.dropna(axis=1,inplace=True)\n",
    "sat_ca=pd.merge(sat_2017_ca,sat_2018_ca,how='outer')\n",
    "sat_ca=pd.merge(sat_ca,sat_2019_ca,how='outer')\n",
    "sat_ca.dropna(axis=1,inplace=True)\n",
    "sat_ca=sat_ca[sat_ca!='*'].dropna()\n",
    "sat_ca=sat_ca.iloc[:-1]\n",
    "\n",
    "#Save cleaned and merged dataframes as csv files.\n",
    "act.to_csv('../data/act.csv',index=False)\n",
    "sat.to_csv('../data/sat.csv',index=False)\n",
    "sat_ca.to_csv('../data/sat_ca.csv',index=False)"
   ]
  },
  {
   "cell_type": "markdown",
   "metadata": {},
   "source": [
    "### Data Dictionary\n",
    "\n",
    "Now that we've fixed our data, and given it appropriate names, let's create a [data dictionary](http://library.ucmerced.edu/node/10249). \n",
    "\n",
    "A data dictionary provides a quick overview of features/variables/columns, alongside data types and descriptions. The more descriptive you can be, the more useful this document is.\n",
    "\n",
    "Example of a Fictional Data Dictionary Entry: \n",
    "\n",
    "|Feature|Type|Dataset|Description|\n",
    "|---|---|---|---|\n",
    "|**county_pop**|*integer*|2010 census|The population of the county (units in thousands, where 2.5 represents 2500 people).| \n",
    "|**per_poverty**|*float*|2010 census|The percent of the county over the age of 18 living below the 200% of official US poverty rate (units percent to two decimal places 98.10 means 98.1%)|\n",
    "\n",
    "[Here's a quick link to a short guide for formatting markdown in Jupyter notebooks](https://jupyter-notebook.readthedocs.io/en/stable/examples/Notebook/Working%20With%20Markdown%20Cells.html).\n",
    "\n",
    "Provided is the skeleton for formatting a markdown table, with columns headers that will help you create a data dictionary to quickly summarize your data, as well as some examples. **This would be a great thing to copy and paste into your custom README for this project.**\n",
    "\n",
    "*Note*: if you are unsure of what a feature is, check the source of the data! This can be found in the README."
   ]
  },
  {
   "cell_type": "markdown",
   "metadata": {},
   "source": [
    "|Feature|Type|Dataset|Description|\n",
    "|---|---|---|---|\n",
    "|column name|int/float/object|ACT/SAT|This is an example| \n",
    "|CDS|float|SAT|County/District/School Code|\n",
    "|CCode|float|SAT|County Code|\n",
    "|CDCode|float|SAT|District Code|\n",
    "|SCode|float|SAT|School Code|\n",
    "|RType|str|SAT|Record Type: C=County, D=District, S=School, X=State|\n",
    "|SName|str|SAT|School Name|\n",
    "|DName|str|SAT|District/LEA Name|\n",
    "|CName|str|SAT|County Name|\n",
    "|Enroll12|float|SAT|Enrollment of Grade 12|\n",
    "|NumTSTTakr12|float|SAT|Number of Test Takers Grade 12|\n",
    "|NumERWBenchmark12|str|SAT|The number meeting the Evidence-Based Reading & Writing (ERW) benchmark established by the College Board based on the New 2016 SAT test format as of March 2016 for Grade 12|\n",
    "|PctERWBenchmark12|str|SAT|The percent of students who met or exceeded the benchmark for Evidence-Based Reading & Writing (ERW) test for Grade 12|\n",
    "|NumMathBenchmark12|str|SAT|The number of students who met or exceeded the benchmark for the New SAT math test format as of March 2016 for Grade 12|\n",
    "|PctMathBenchmark12|str|SAT|The percent of students who met or exceeded the benchmark for SAT Math test for Grade 12.|\n",
    "|Enroll11|float|SAT|Enrollment of Grade 11|\n",
    "|NumTSTTakr11|float|SAT|Number of Test Takers Grade 11|\n",
    "|NumERWBenchmark11|str|SAT|The number meeting the Evidence-Based Reading & Writing (ERW) benchmark established by the College Board based on the New 2016 SAT test format as of March 2016 for Grade 11|\n",
    "|PctERWBenchmark11|str|SAT|The percent of students who met or exceeded the benchmark for Evidence-Based Reading & Writing (ERW) test for Grade 11|\n",
    "|NumMathBenchmark11|str|SAT|The number of students who met or exceeded the benchmark for the New SAT math test format as of March 2016 for Grade 11|\n",
    "|PctMathBenchmark11|str|SAT|The percent of students who met or exceeded the benchmark for SAT Math test for Grade 11.|\n",
    "|TotNumBothBenchmark12|str|SAT|The total number of students who met the benchmark of both Evidence-Based Reading & Writing (ERW) and Math Grade 12.|\n",
    "|PctBothBenchmark12|str|SAT|The percent of students who met the benchmark of both Evidence-Based Reading & Writing (ERW) and Math Grade 12.|\n",
    "|TotNumBothBenchmark11|str|SAT|The total number of students who met the benchmark of both Evidence-Based Reading & Writing (ERW) and Math Grade 11.|\n",
    "|PctBothBenchmark11|str|SAT|The percent of students who met the benchmark of both Evidence-Based Reading & Writing (ERW) and Math Grade 11.|\n",
    "|Year|str|SAT|The SAT test administraion year.|"
   ]
  },
  {
   "cell_type": "markdown",
   "metadata": {},
   "source": [
    "## Exploratory Data Analysis\n",
    "\n",
    "Complete the following steps to explore your data. You are welcome to do more EDA than the steps outlined here as you feel necessary:\n",
    "1. Summary Statistics.\n",
    "2. Use a **dictionary comprehension** to apply the standard deviation function you create in part 1 to each numeric column in the dataframe.  **No loops**.\n",
    "    - Assign the output to variable `sd` as a dictionary where: \n",
    "        - Each column name is now a key \n",
    "        - That standard deviation of the column is the value \n",
    "        - *Example Output :* `{'ACT_Math': 120, 'ACT_Reading': 120, ...}`\n",
    "3. Investigate trends in the data.\n",
    "    - Using sorting and/or masking (along with the `.head()` method to avoid printing our entire dataframe), consider questions relevant to your problem statement. Some examples are provided below (but feel free to change these questions for your specific problem):\n",
    "        - Which states have the highest and lowest participation rates for the 2017, 2019, or 2019 SAT and ACT?\n",
    "        - Which states have the highest and lowest mean total/composite scores for the 2017, 2019, or 2019 SAT and ACT?\n",
    "        - Do any states with 100% participation on a given test have a rate change year-to-year?\n",
    "        - Do any states show have >50% participation on *both* tests each year?\n",
    "        - Which colleges have the highest median SAT and ACT scores for admittance?\n",
    "        - Which California school districts have the highest and lowest mean test scores?\n",
    "    - **You should comment on your findings at each step in a markdown cell below your code block**. Make sure you include at least one example of sorting your dataframe by a column, and one example of using boolean filtering (i.e., masking) to select a subset of the dataframe."
   ]
  },
  {
   "cell_type": "code",
   "execution_count": 733,
   "metadata": {},
   "outputs": [
    {
     "data": {
      "text/html": [
       "<div>\n",
       "<style scoped>\n",
       "    .dataframe tbody tr th:only-of-type {\n",
       "        vertical-align: middle;\n",
       "    }\n",
       "\n",
       "    .dataframe tbody tr th {\n",
       "        vertical-align: top;\n",
       "    }\n",
       "\n",
       "    .dataframe thead th {\n",
       "        text-align: right;\n",
       "    }\n",
       "</style>\n",
       "<table border=\"1\" class=\"dataframe\">\n",
       "  <thead>\n",
       "    <tr style=\"text-align: right;\">\n",
       "      <th></th>\n",
       "      <th>cds</th>\n",
       "      <th>ccode</th>\n",
       "      <th>cdcode</th>\n",
       "      <th>scode</th>\n",
       "      <th>enroll</th>\n",
       "      <th>numtsttakr</th>\n",
       "      <th>year</th>\n",
       "    </tr>\n",
       "  </thead>\n",
       "  <tbody>\n",
       "    <tr>\n",
       "      <th>count</th>\n",
       "      <td>3.777000e+03</td>\n",
       "      <td>3777.000000</td>\n",
       "      <td>3.777000e+03</td>\n",
       "      <td>3.777000e+03</td>\n",
       "      <td>3777.000000</td>\n",
       "      <td>3777.000000</td>\n",
       "      <td>3777.000000</td>\n",
       "    </tr>\n",
       "    <tr>\n",
       "      <th>mean</th>\n",
       "      <td>2.842882e+13</td>\n",
       "      <td>27.764628</td>\n",
       "      <td>2.842882e+06</td>\n",
       "      <td>2.194071e+06</td>\n",
       "      <td>328.335716</td>\n",
       "      <td>164.001324</td>\n",
       "      <td>2017.979084</td>\n",
       "    </tr>\n",
       "    <tr>\n",
       "      <th>std</th>\n",
       "      <td>1.359915e+13</td>\n",
       "      <td>13.570923</td>\n",
       "      <td>1.359915e+06</td>\n",
       "      <td>1.784934e+06</td>\n",
       "      <td>214.182658</td>\n",
       "      <td>129.616877</td>\n",
       "      <td>0.809332</td>\n",
       "    </tr>\n",
       "    <tr>\n",
       "      <th>min</th>\n",
       "      <td>1.100170e+12</td>\n",
       "      <td>1.000000</td>\n",
       "      <td>1.100170e+05</td>\n",
       "      <td>1.000650e+05</td>\n",
       "      <td>0.000000</td>\n",
       "      <td>15.000000</td>\n",
       "      <td>2017.000000</td>\n",
       "    </tr>\n",
       "    <tr>\n",
       "      <th>25%</th>\n",
       "      <td>1.964733e+13</td>\n",
       "      <td>19.000000</td>\n",
       "      <td>1.964733e+06</td>\n",
       "      <td>1.272740e+05</td>\n",
       "      <td>128.000000</td>\n",
       "      <td>65.000000</td>\n",
       "      <td>2017.000000</td>\n",
       "    </tr>\n",
       "    <tr>\n",
       "      <th>50%</th>\n",
       "      <td>3.066514e+13</td>\n",
       "      <td>30.000000</td>\n",
       "      <td>3.066514e+06</td>\n",
       "      <td>1.937424e+06</td>\n",
       "      <td>321.000000</td>\n",
       "      <td>131.000000</td>\n",
       "      <td>2018.000000</td>\n",
       "    </tr>\n",
       "    <tr>\n",
       "      <th>75%</th>\n",
       "      <td>3.768338e+13</td>\n",
       "      <td>37.000000</td>\n",
       "      <td>3.768338e+06</td>\n",
       "      <td>3.635844e+06</td>\n",
       "      <td>489.000000</td>\n",
       "      <td>229.000000</td>\n",
       "      <td>2019.000000</td>\n",
       "    </tr>\n",
       "    <tr>\n",
       "      <th>max</th>\n",
       "      <td>5.872770e+13</td>\n",
       "      <td>58.000000</td>\n",
       "      <td>5.872769e+06</td>\n",
       "      <td>6.120893e+06</td>\n",
       "      <td>1139.000000</td>\n",
       "      <td>1111.000000</td>\n",
       "      <td>2019.000000</td>\n",
       "    </tr>\n",
       "  </tbody>\n",
       "</table>\n",
       "</div>"
      ],
      "text/plain": [
       "                cds        ccode        cdcode         scode       enroll  \\\n",
       "count  3.777000e+03  3777.000000  3.777000e+03  3.777000e+03  3777.000000   \n",
       "mean   2.842882e+13    27.764628  2.842882e+06  2.194071e+06   328.335716   \n",
       "std    1.359915e+13    13.570923  1.359915e+06  1.784934e+06   214.182658   \n",
       "min    1.100170e+12     1.000000  1.100170e+05  1.000650e+05     0.000000   \n",
       "25%    1.964733e+13    19.000000  1.964733e+06  1.272740e+05   128.000000   \n",
       "50%    3.066514e+13    30.000000  3.066514e+06  1.937424e+06   321.000000   \n",
       "75%    3.768338e+13    37.000000  3.768338e+06  3.635844e+06   489.000000   \n",
       "max    5.872770e+13    58.000000  5.872769e+06  6.120893e+06  1139.000000   \n",
       "\n",
       "        numtsttakr         year  \n",
       "count  3777.000000  3777.000000  \n",
       "mean    164.001324  2017.979084  \n",
       "std     129.616877     0.809332  \n",
       "min      15.000000  2017.000000  \n",
       "25%      65.000000  2017.000000  \n",
       "50%     131.000000  2018.000000  \n",
       "75%     229.000000  2019.000000  \n",
       "max    1111.000000  2019.000000  "
      ]
     },
     "execution_count": 733,
     "metadata": {},
     "output_type": "execute_result"
    }
   ],
   "source": [
    "#Code:\n",
    "sat_ca.describe()"
   ]
  },
  {
   "cell_type": "code",
   "execution_count": 734,
   "metadata": {},
   "outputs": [
    {
     "data": {
      "text/html": [
       "<div>\n",
       "<style scoped>\n",
       "    .dataframe tbody tr th:only-of-type {\n",
       "        vertical-align: middle;\n",
       "    }\n",
       "\n",
       "    .dataframe tbody tr th {\n",
       "        vertical-align: top;\n",
       "    }\n",
       "\n",
       "    .dataframe thead th {\n",
       "        text-align: right;\n",
       "    }\n",
       "</style>\n",
       "<table border=\"1\" class=\"dataframe\">\n",
       "  <thead>\n",
       "    <tr style=\"text-align: right;\">\n",
       "      <th></th>\n",
       "      <th>participation</th>\n",
       "      <th>ebrw</th>\n",
       "      <th>math</th>\n",
       "      <th>total</th>\n",
       "      <th>year</th>\n",
       "    </tr>\n",
       "  </thead>\n",
       "  <tbody>\n",
       "    <tr>\n",
       "      <th>count</th>\n",
       "      <td>153.000000</td>\n",
       "      <td>153.000000</td>\n",
       "      <td>153.000000</td>\n",
       "      <td>153.000000</td>\n",
       "      <td>153.000000</td>\n",
       "    </tr>\n",
       "    <tr>\n",
       "      <th>mean</th>\n",
       "      <td>0.448693</td>\n",
       "      <td>564.535948</td>\n",
       "      <td>552.019608</td>\n",
       "      <td>1119.732026</td>\n",
       "      <td>2018.000000</td>\n",
       "    </tr>\n",
       "    <tr>\n",
       "      <th>std</th>\n",
       "      <td>0.370944</td>\n",
       "      <td>46.301362</td>\n",
       "      <td>63.246434</td>\n",
       "      <td>94.162654</td>\n",
       "      <td>0.819178</td>\n",
       "    </tr>\n",
       "    <tr>\n",
       "      <th>min</th>\n",
       "      <td>0.020000</td>\n",
       "      <td>480.000000</td>\n",
       "      <td>52.000000</td>\n",
       "      <td>943.000000</td>\n",
       "      <td>2017.000000</td>\n",
       "    </tr>\n",
       "    <tr>\n",
       "      <th>25%</th>\n",
       "      <td>0.040000</td>\n",
       "      <td>531.000000</td>\n",
       "      <td>521.000000</td>\n",
       "      <td>1053.000000</td>\n",
       "      <td>2017.000000</td>\n",
       "    </tr>\n",
       "    <tr>\n",
       "      <th>50%</th>\n",
       "      <td>0.500000</td>\n",
       "      <td>554.000000</td>\n",
       "      <td>546.000000</td>\n",
       "      <td>1099.000000</td>\n",
       "      <td>2018.000000</td>\n",
       "    </tr>\n",
       "    <tr>\n",
       "      <th>75%</th>\n",
       "      <td>0.760000</td>\n",
       "      <td>614.000000</td>\n",
       "      <td>596.000000</td>\n",
       "      <td>1210.000000</td>\n",
       "      <td>2019.000000</td>\n",
       "    </tr>\n",
       "    <tr>\n",
       "      <th>max</th>\n",
       "      <td>1.000000</td>\n",
       "      <td>644.000000</td>\n",
       "      <td>655.000000</td>\n",
       "      <td>1298.000000</td>\n",
       "      <td>2019.000000</td>\n",
       "    </tr>\n",
       "  </tbody>\n",
       "</table>\n",
       "</div>"
      ],
      "text/plain": [
       "       participation        ebrw        math        total         year\n",
       "count     153.000000  153.000000  153.000000   153.000000   153.000000\n",
       "mean        0.448693  564.535948  552.019608  1119.732026  2018.000000\n",
       "std         0.370944   46.301362   63.246434    94.162654     0.819178\n",
       "min         0.020000  480.000000   52.000000   943.000000  2017.000000\n",
       "25%         0.040000  531.000000  521.000000  1053.000000  2017.000000\n",
       "50%         0.500000  554.000000  546.000000  1099.000000  2018.000000\n",
       "75%         0.760000  614.000000  596.000000  1210.000000  2019.000000\n",
       "max         1.000000  644.000000  655.000000  1298.000000  2019.000000"
      ]
     },
     "execution_count": 734,
     "metadata": {},
     "output_type": "execute_result"
    }
   ],
   "source": [
    "sat.describe()"
   ]
  },
  {
   "cell_type": "code",
   "execution_count": 735,
   "metadata": {},
   "outputs": [
    {
     "data": {
      "text/plain": [
       "{'cds': 13597352987791.643,\n",
       " 'ccode': 13.569126545524623,\n",
       " 'cdcode': 1359735.1859812266,\n",
       " 'scode': 1784697.2664011028,\n",
       " 'enroll': 214.15430234677035,\n",
       " 'numtsttakr': 129.59971672382494}"
      ]
     },
     "execution_count": 735,
     "metadata": {},
     "output_type": "execute_result"
    }
   ],
   "source": [
    "sd={k:stddev(sat_ca[k]) for k in sat_ca.columns if type(sat_ca[k][1])==type(sat_ca['cdcode'][1])}\n",
    "sd"
   ]
  },
  {
   "cell_type": "code",
   "execution_count": 736,
   "metadata": {},
   "outputs": [
    {
     "data": {
      "text/html": [
       "<div>\n",
       "<style scoped>\n",
       "    .dataframe tbody tr th:only-of-type {\n",
       "        vertical-align: middle;\n",
       "    }\n",
       "\n",
       "    .dataframe tbody tr th {\n",
       "        vertical-align: top;\n",
       "    }\n",
       "\n",
       "    .dataframe thead th {\n",
       "        text-align: right;\n",
       "    }\n",
       "</style>\n",
       "<table border=\"1\" class=\"dataframe\">\n",
       "  <thead>\n",
       "    <tr style=\"text-align: right;\">\n",
       "      <th></th>\n",
       "      <th>state</th>\n",
       "      <th>participation</th>\n",
       "      <th>ebrw</th>\n",
       "      <th>math</th>\n",
       "      <th>total</th>\n",
       "      <th>year</th>\n",
       "    </tr>\n",
       "  </thead>\n",
       "  <tbody>\n",
       "    <tr>\n",
       "      <th>0</th>\n",
       "      <td>Alabama</td>\n",
       "      <td>0.05</td>\n",
       "      <td>593</td>\n",
       "      <td>572</td>\n",
       "      <td>1165</td>\n",
       "      <td>2017</td>\n",
       "    </tr>\n",
       "    <tr>\n",
       "      <th>1</th>\n",
       "      <td>Alaska</td>\n",
       "      <td>0.38</td>\n",
       "      <td>547</td>\n",
       "      <td>533</td>\n",
       "      <td>1080</td>\n",
       "      <td>2017</td>\n",
       "    </tr>\n",
       "    <tr>\n",
       "      <th>2</th>\n",
       "      <td>Arizona</td>\n",
       "      <td>0.30</td>\n",
       "      <td>563</td>\n",
       "      <td>553</td>\n",
       "      <td>1116</td>\n",
       "      <td>2017</td>\n",
       "    </tr>\n",
       "    <tr>\n",
       "      <th>3</th>\n",
       "      <td>Arkansas</td>\n",
       "      <td>0.03</td>\n",
       "      <td>614</td>\n",
       "      <td>594</td>\n",
       "      <td>1208</td>\n",
       "      <td>2017</td>\n",
       "    </tr>\n",
       "    <tr>\n",
       "      <th>4</th>\n",
       "      <td>California</td>\n",
       "      <td>0.53</td>\n",
       "      <td>531</td>\n",
       "      <td>524</td>\n",
       "      <td>1055</td>\n",
       "      <td>2017</td>\n",
       "    </tr>\n",
       "  </tbody>\n",
       "</table>\n",
       "</div>"
      ],
      "text/plain": [
       "        state  participation  ebrw  math  total  year\n",
       "0     Alabama           0.05   593   572   1165  2017\n",
       "1      Alaska           0.38   547   533   1080  2017\n",
       "2     Arizona           0.30   563   553   1116  2017\n",
       "3    Arkansas           0.03   614   594   1208  2017\n",
       "4  California           0.53   531   524   1055  2017"
      ]
     },
     "execution_count": 736,
     "metadata": {},
     "output_type": "execute_result"
    }
   ],
   "source": [
    "sat.head()"
   ]
  },
  {
   "cell_type": "code",
   "execution_count": 737,
   "metadata": {},
   "outputs": [
    {
     "data": {
      "text/html": [
       "<div>\n",
       "<style scoped>\n",
       "    .dataframe tbody tr th:only-of-type {\n",
       "        vertical-align: middle;\n",
       "    }\n",
       "\n",
       "    .dataframe tbody tr th {\n",
       "        vertical-align: top;\n",
       "    }\n",
       "\n",
       "    .dataframe thead th {\n",
       "        text-align: right;\n",
       "    }\n",
       "</style>\n",
       "<table border=\"1\" class=\"dataframe\">\n",
       "  <thead>\n",
       "    <tr style=\"text-align: right;\">\n",
       "      <th></th>\n",
       "      <th>cds</th>\n",
       "      <th>ccode</th>\n",
       "      <th>cdcode</th>\n",
       "      <th>scode</th>\n",
       "      <th>rtype</th>\n",
       "      <th>sname</th>\n",
       "      <th>dname</th>\n",
       "      <th>cname</th>\n",
       "      <th>enroll</th>\n",
       "      <th>numtsttakr</th>\n",
       "      <th>pctmathbenchmark</th>\n",
       "      <th>totnumbothbenchmark</th>\n",
       "      <th>pctbothbenchmark</th>\n",
       "      <th>year</th>\n",
       "    </tr>\n",
       "  </thead>\n",
       "  <tbody>\n",
       "    <tr>\n",
       "      <th>0</th>\n",
       "      <td>1.100170e+12</td>\n",
       "      <td>1.0</td>\n",
       "      <td>110017.0</td>\n",
       "      <td>112607.0</td>\n",
       "      <td>S</td>\n",
       "      <td>Envision Academy for Arts &amp; Technology</td>\n",
       "      <td>Alameda County Office of Education</td>\n",
       "      <td>Alameda</td>\n",
       "      <td>81.0</td>\n",
       "      <td>83.0</td>\n",
       "      <td>10.84</td>\n",
       "      <td>9</td>\n",
       "      <td>10.84</td>\n",
       "      <td>2017</td>\n",
       "    </tr>\n",
       "    <tr>\n",
       "      <th>1</th>\n",
       "      <td>1.611190e+12</td>\n",
       "      <td>1.0</td>\n",
       "      <td>161119.0</td>\n",
       "      <td>106401.0</td>\n",
       "      <td>S</td>\n",
       "      <td>Alameda Science and Technology Institute</td>\n",
       "      <td>Alameda Unified</td>\n",
       "      <td>Alameda</td>\n",
       "      <td>44.0</td>\n",
       "      <td>44.0</td>\n",
       "      <td>90.91</td>\n",
       "      <td>39</td>\n",
       "      <td>88.64</td>\n",
       "      <td>2017</td>\n",
       "    </tr>\n",
       "    <tr>\n",
       "      <th>2</th>\n",
       "      <td>1.611190e+12</td>\n",
       "      <td>1.0</td>\n",
       "      <td>161119.0</td>\n",
       "      <td>119222.0</td>\n",
       "      <td>S</td>\n",
       "      <td>Nea Community Learning Center</td>\n",
       "      <td>Alameda Unified</td>\n",
       "      <td>Alameda</td>\n",
       "      <td>16.0</td>\n",
       "      <td>15.0</td>\n",
       "      <td>26.67</td>\n",
       "      <td>4</td>\n",
       "      <td>26.67</td>\n",
       "      <td>2017</td>\n",
       "    </tr>\n",
       "    <tr>\n",
       "      <th>3</th>\n",
       "      <td>1.611190e+12</td>\n",
       "      <td>1.0</td>\n",
       "      <td>161119.0</td>\n",
       "      <td>130229.0</td>\n",
       "      <td>S</td>\n",
       "      <td>Alameda High</td>\n",
       "      <td>Alameda Unified</td>\n",
       "      <td>Alameda</td>\n",
       "      <td>419.0</td>\n",
       "      <td>278.0</td>\n",
       "      <td>76.26</td>\n",
       "      <td>205</td>\n",
       "      <td>73.74</td>\n",
       "      <td>2017</td>\n",
       "    </tr>\n",
       "    <tr>\n",
       "      <th>4</th>\n",
       "      <td>1.611190e+12</td>\n",
       "      <td>1.0</td>\n",
       "      <td>161119.0</td>\n",
       "      <td>130609.0</td>\n",
       "      <td>S</td>\n",
       "      <td>Alameda Community Learning Center</td>\n",
       "      <td>Alameda Unified</td>\n",
       "      <td>Alameda</td>\n",
       "      <td>52.0</td>\n",
       "      <td>36.0</td>\n",
       "      <td>75.00</td>\n",
       "      <td>26</td>\n",
       "      <td>72.22</td>\n",
       "      <td>2017</td>\n",
       "    </tr>\n",
       "  </tbody>\n",
       "</table>\n",
       "</div>"
      ],
      "text/plain": [
       "            cds  ccode    cdcode     scode rtype  \\\n",
       "0  1.100170e+12    1.0  110017.0  112607.0     S   \n",
       "1  1.611190e+12    1.0  161119.0  106401.0     S   \n",
       "2  1.611190e+12    1.0  161119.0  119222.0     S   \n",
       "3  1.611190e+12    1.0  161119.0  130229.0     S   \n",
       "4  1.611190e+12    1.0  161119.0  130609.0     S   \n",
       "\n",
       "                                      sname  \\\n",
       "0    Envision Academy for Arts & Technology   \n",
       "1  Alameda Science and Technology Institute   \n",
       "2             Nea Community Learning Center   \n",
       "3                              Alameda High   \n",
       "4         Alameda Community Learning Center   \n",
       "\n",
       "                                dname    cname  enroll  numtsttakr  \\\n",
       "0  Alameda County Office of Education  Alameda    81.0        83.0   \n",
       "1                     Alameda Unified  Alameda    44.0        44.0   \n",
       "2                     Alameda Unified  Alameda    16.0        15.0   \n",
       "3                     Alameda Unified  Alameda   419.0       278.0   \n",
       "4                     Alameda Unified  Alameda    52.0        36.0   \n",
       "\n",
       "  pctmathbenchmark totnumbothbenchmark pctbothbenchmark  year  \n",
       "0            10.84                   9            10.84  2017  \n",
       "1            90.91                  39            88.64  2017  \n",
       "2            26.67                   4            26.67  2017  \n",
       "3            76.26                 205            73.74  2017  \n",
       "4            75.00                  26            72.22  2017  "
      ]
     },
     "execution_count": 737,
     "metadata": {},
     "output_type": "execute_result"
    }
   ],
   "source": [
    "sat_ca.head()"
   ]
  },
  {
   "cell_type": "code",
   "execution_count": 738,
   "metadata": {},
   "outputs": [
    {
     "data": {
      "text/plain": [
       "True"
      ]
     },
     "execution_count": 738,
     "metadata": {},
     "output_type": "execute_result"
    }
   ],
   "source": [
    "len(np.unique(sat[sat['year']==2019]['state']))==len(sat[sat['year']==2019]['state'])"
   ]
  },
  {
   "cell_type": "code",
   "execution_count": 739,
   "metadata": {},
   "outputs": [
    {
     "name": "stdout",
     "output_type": "stream",
     "text": [
      "States with the highest participation rates for SAT in 2017 is: \n",
      "6              Connecticut\n",
      "7                 Delaware\n",
      "8     District of Columbia\n",
      "22                Michigan\n",
      "Name: state, dtype: object\n",
      "\n",
      "States with the highest participation rates for SAT in 2018 is: \n",
      "5        Colorado\n",
      "6     Connecticut\n",
      "7        Delaware\n",
      "12          Idaho\n",
      "22       Michigan\n",
      "Name: state, dtype: object\n",
      "\n",
      "States with the highest participation rates for SAT in 2019 is: \n",
      "5         Colorado\n",
      "6      Connecticut\n",
      "7         Delaware\n",
      "9          Florida\n",
      "12           Idaho\n",
      "13        Illinois\n",
      "22        Michigan\n",
      "40    Rhode Island\n",
      "Name: state, dtype: object\n",
      "\n",
      "States with the lowest participation rates for SAT in 2017 is: \n",
      "15            Iowa\n",
      "24     Mississippi\n",
      "34    North Dakota\n",
      "Name: state, dtype: object\n",
      "\n",
      "States with the lowest participation rates for SAT in 2018 is: \n",
      "34    North Dakota\n",
      "Name: state, dtype: object\n",
      "\n",
      "States with the lowest participation rates for SAT in 2019 is: \n",
      "34    North Dakota\n",
      "Name: state, dtype: object\n",
      "\n",
      "States with the highest participation rates for ACT in 2017 is: \n",
      "1            Alabama\n",
      "4           Arkansas\n",
      "6           Colorado\n",
      "18          Kentucky\n",
      "19         Louisiana\n",
      "24         Minnesota\n",
      "25       Mississippi\n",
      "26          Missouri\n",
      "27           Montana\n",
      "29            Nevada\n",
      "34    North Carolina\n",
      "37          Oklahoma\n",
      "41    South Carolina\n",
      "43         Tennessee\n",
      "45              Utah\n",
      "50         Wisconsin\n",
      "51           Wyoming\n",
      "Name: state, dtype: object\n",
      "\n",
      "States with the highest participation rates for ACT in 2018 is: \n",
      "0            Alabama\n",
      "3           Arkansas\n",
      "17          Kentucky\n",
      "18         Louisiana\n",
      "25       Mississippi\n",
      "26          Missouri\n",
      "27           Montana\n",
      "28          Nebraska\n",
      "29            Nevada\n",
      "34    North Carolina\n",
      "36              Ohio\n",
      "37          Oklahoma\n",
      "41    South Carolina\n",
      "43         Tennessee\n",
      "45              Utah\n",
      "50         Wisconsin\n",
      "51           Wyoming\n",
      "Name: state, dtype: object\n",
      "\n",
      "States with the highest participation rates for ACT in 2019 is: \n",
      "0            Alabama\n",
      "3           Arkansas\n",
      "17          Kentucky\n",
      "18         Louisiana\n",
      "24       Mississippi\n",
      "26           Montana\n",
      "27          Nebraska\n",
      "28            Nevada\n",
      "33    North Carolina\n",
      "35              Ohio\n",
      "36          Oklahoma\n",
      "42         Tennessee\n",
      "44              Utah\n",
      "49         Wisconsin\n",
      "50           Wyoming\n",
      "Name: state, dtype: object\n",
      "\n",
      "States with the lowest participation rates for ACT in 2017 is: \n",
      "20    Maine\n",
      "Name: state, dtype: object\n",
      "\n",
      "States with the lowest participation rates for ACT in 2018 is: \n",
      "19    Maine\n",
      "20    Maine\n",
      "Name: state, dtype: object\n",
      "\n",
      "States with the lowest participation rates for ACT in 2019 is: \n",
      "19    Maine\n",
      "Name: state, dtype: object\n",
      "\n"
     ]
    }
   ],
   "source": [
    "#SAT\n",
    "for x in range(2017,2020):\n",
    "    states=sat[(sat['year']==x)&(sat['participation']==max(sat[(sat['year']==x)]['participation']))]['state']\n",
    "    print(f'States with the highest participation rates for SAT in {x} is: \\n{states}\\n')\n",
    "\n",
    "for x in range(2017,2020):\n",
    "    states=sat[(sat['year']==x)&(sat['participation']==min(sat[(sat['year']==x)]['participation']))]['state']\n",
    "    print(f'States with the lowest participation rates for SAT in {x} is: \\n{states}\\n')\n",
    "\n",
    "#ACT\n",
    "for x in range(2017,2020):\n",
    "    states=act[(act['year']==x)&(act['participation']==max(act[(act['year']==x)]['participation']))]['state']\n",
    "    print(f'States with the highest participation rates for ACT in {x} is: \\n{states}\\n')\n",
    "\n",
    "for x in range(2017,2020):\n",
    "    states=act[(act['year']==x)&(act['participation']==min(act[(act['year']==x)]['participation']))]['state']\n",
    "    print(f'States with the lowest participation rates for ACT in {x} is: \\n{states}\\n')"
   ]
  },
  {
   "cell_type": "code",
   "execution_count": 740,
   "metadata": {},
   "outputs": [
    {
     "name": "stdout",
     "output_type": "stream",
     "text": [
      "Participation rate correlation between ACT (y-axis) and SAT (x-axis) in 2017 is: \n",
      "[[ 1.         -0.84123446]\n",
      " [-0.84123446  1.        ]]\n",
      "\n",
      "Participation rate correlation between ACT (y-axis) and SAT (x-axis) in 2018 is: \n",
      "[[ 1.         -0.87205119]\n",
      " [-0.87205119  1.        ]]\n",
      "\n",
      "Participation rate correlation between ACT (y-axis) and SAT (x-axis) in 2019 is: \n",
      "[[ 1.        -0.8654353]\n",
      " [-0.8654353  1.       ]]\n",
      "\n"
     ]
    }
   ],
   "source": [
    "for x in range(2017,2020):\n",
    "    trend=pd.merge(left=sat[sat['year']==x][['state','participation']], right=act[act['year']==x][['state','participation']],on='state')\n",
    "    trend=np.corrcoef(trend['participation_x'],trend['participation_y'])\n",
    "    print(f'Participation rate correlation between ACT (y-axis) and SAT (x-axis) in {x} is: \\n{trend}\\n')"
   ]
  },
  {
   "cell_type": "code",
   "execution_count": 741,
   "metadata": {},
   "outputs": [
    {
     "name": "stdout",
     "output_type": "stream",
     "text": [
      "Correlation between EBRW and Math is 0.7770092203115809\n"
     ]
    }
   ],
   "source": [
    "corr=np.corrcoef(sat['ebrw'],sat['math'])[0][1]\n",
    "print(f'Correlation between EBRW and Math is {corr}')"
   ]
  },
  {
   "cell_type": "markdown",
   "metadata": {},
   "source": [
    "**To-Do:** *Edit this cell with your findings on trends in the data (step 3 above).*\n",
    "\n",
    "All three years from 2017 to 2019 shows negative correlation, i.e. as participation rate of SAT increases, participation rate of ACT decreases.\n",
    "\n",
    "Positive correlation between EBRW and Math is very strong at 0.7770092203115809"
   ]
  },
  {
   "cell_type": "markdown",
   "metadata": {},
   "source": [
    "## Visualize the Data\n",
    "\n",
    "There's not a magic bullet recommendation for the right number of plots to understand a given dataset, but visualizing your data is *always* a good idea. Not only does it allow you to quickly convey your findings (even if you have a non-technical audience), it will often reveal trends in your data that escaped you when you were looking only at numbers. It is important to not only create visualizations, but to **interpret your visualizations** as well.\n",
    "\n",
    "**Every plot should**:\n",
    "- Have a title\n",
    "- Have axis labels\n",
    "- Have appropriate tick labels\n",
    "- Text is legible in a plot\n",
    "- Plots demonstrate meaningful and valid relationships\n",
    "- Have an interpretation to aid understanding\n",
    "\n",
    "Here is an example of what your plots should look like following the above guidelines. Note that while the content of this example is unrelated, the principles of visualization hold:\n",
    "\n",
    "![](https://snag.gy/hCBR1U.jpg)\n",
    "*Interpretation: The above image shows that as we increase our spending on advertising, our sales numbers also tend to increase. There is a positive correlation between advertising spending and sales.*\n",
    "\n",
    "---\n",
    "\n",
    "Here are some prompts to get you started with visualizations. Feel free to add additional visualizations as you see fit:\n",
    "1. Use Seaborn's heatmap with pandas `.corr()` to visualize correlations between all numeric features.\n",
    "    - Heatmaps are generally not appropriate for presentations, and should often be excluded from reports as they can be visually overwhelming. **However**, they can be extremely useful in identify relationships of potential interest (as well as identifying potential collinearity before modeling).\n",
    "    - Please take time to format your output, adding a title. Look through some of the additional arguments and options. (Axis labels aren't really necessary, as long as the title is informative).\n",
    "2. Visualize distributions using histograms. If you have a lot, consider writing a custom function and use subplots.\n",
    "    - *OPTIONAL*: Summarize the underlying distributions of your features (in words & statistics)\n",
    "         - Be thorough in your verbal description of these distributions.\n",
    "         - Be sure to back up these summaries with statistics.\n",
    "         - We generally assume that data we sample from a population will be normally distributed. Do we observe this trend? Explain your answers for each distribution and how you think this will affect estimates made from these data.\n",
    "3. Plot and interpret boxplots. \n",
    "    - Boxplots demonstrate central tendency and spread in variables. In a certain sense, these are somewhat redundant with histograms, but you may be better able to identify clear outliers or differences in IQR, etc.\n",
    "    - Multiple values can be plotted to a single boxplot as long as they are of the same relative scale (meaning they have similar min/max values).\n",
    "    - Each boxplot should:\n",
    "        - Only include variables of a similar scale\n",
    "        - Have clear labels for each variable\n",
    "        - Have appropriate titles and labels\n",
    "4. Plot and interpret scatter plots to view relationships between features. Feel free to write a custom function, and subplot if you'd like. Functions save both time and space.\n",
    "    - Your plots should have:\n",
    "        - Two clearly labeled axes\n",
    "        - A proper title\n",
    "        - Colors and symbols that are clear and unmistakable\n",
    "5. Additional plots of your choosing.\n",
    "    - Are there any additional trends or relationships you haven't explored? Was there something interesting you saw that you'd like to dive further into? It's likely that there are a few more plots you might want to generate to support your narrative and recommendations that you are building toward. **As always, make sure you're interpreting your plots as you go**."
   ]
  },
  {
   "cell_type": "code",
   "execution_count": 742,
   "metadata": {},
   "outputs": [
    {
     "data": {
      "image/png": "[encoded data removed]",
      "text/plain": [
       "<Figure size 432x288 with 1 Axes>"
      ]
     },
     "metadata": {
      "needs_background": "light"
     },
     "output_type": "display_data"
    }
   ],
   "source": [
    "for i in range(2017,2020):\n",
    "    trend=pd.merge(left=sat[sat['year']==i][['state','participation']], right=act[act['year']==i][['state','participation']],on='state')\n",
    "    x=trend['participation_x']\n",
    "    y=trend['participation_y']\n",
    "    plt.plot(x,y, 'o')\n",
    "plt.legend(range(2017,2020))\n",
    "\n",
    "for i in range(2017,2020):\n",
    "    trend=pd.merge(left=sat[sat['year']==i][['state','participation']], right=act[act['year']==i][['state','participation']],on='state')\n",
    "    x=trend['participation_x']\n",
    "    y=trend['participation_y']\n",
    "    m, b = np.polyfit(x,y, 1)\n",
    "    plt.plot(x, m*x + b)\n",
    "    \n",
    "plt.xlabel('Participation in SAT')\n",
    "plt.ylabel('Participation in ACT')\n",
    "plt.title('SAT vs ACT Participation');"
   ]
  },
  {
   "cell_type": "code",
   "execution_count": 743,
   "metadata": {},
   "outputs": [
    {
     "data": {
      "image/png": "[encoded data removed]",
      "text/plain": [
       "<Figure size 432x288 with 1 Axes>"
      ]
     },
     "metadata": {
      "needs_background": "light"
     },
     "output_type": "display_data"
    }
   ],
   "source": [
    "plt.scatter(sat['ebrw'],sat['math']);\n",
    "m, b = np.polyfit(sat['ebrw'],sat['math'], 1)\n",
    "plt.plot(sat['ebrw'], m*sat['ebrw'] + b);\n",
    "plt.xlabel('EBRW')\n",
    "plt.ylabel('Math')\n",
    "plt.title('EBRW vs Math');"
   ]
  },
  {
   "cell_type": "code",
   "execution_count": 744,
   "metadata": {},
   "outputs": [
    {
     "data": {
      "image/png": "[encoded data removed]",
      "text/plain": [
       "<Figure size 864x864 with 2 Axes>"
      ]
     },
     "metadata": {
      "needs_background": "light"
     },
     "output_type": "display_data"
    }
   ],
   "source": [
    "plt.figure(figsize=(12,12))\n",
    "plt.title('Correlation heatmap of sat 2019 by intended college major')\n",
    "\n",
    "# Get correlation of variables. (statistical significance)\n",
    "corr = sat_2019_by_intended_college_major.corr()\n",
    "\n",
    "# Set up mask to be \"True\" in the upper triangle.\n",
    "# because it will be the mirror image of lower triangle we'll see on our plot.\n",
    "mask = np.zeros_like(corr)\n",
    "mask[np.triu_indices_from(mask)] = True\n",
    "\n",
    "# Plot our correlation heatmap, while masking the upper triangle to be white.\n",
    "with sns.axes_style(\"white\"):\n",
    "    sns.heatmap(corr, mask = mask, square = True, annot = True, vmin = -1, vmax = 1, linewidths = .5)"
   ]
  },
  {
   "cell_type": "code",
   "execution_count": 745,
   "metadata": {},
   "outputs": [
    {
     "data": {
      "image/png": "[encoded data removed]",
      "text/plain": [
       "<Figure size 864x864 with 2 Axes>"
      ]
     },
     "metadata": {
      "needs_background": "light"
     },
     "output_type": "display_data"
    }
   ],
   "source": [
    "plt.figure(figsize=(12,12))\n",
    "plt.title('Correlation heatmap of SAT ACT by college')\n",
    "\n",
    "# Get correlation of variables. (statistical significance)\n",
    "corr = sat_act_by_college.corr()\n",
    "\n",
    "# Set up mask to be \"True\" in the upper triangle.\n",
    "# because it will be the mirror image of lower triangle we'll see on our plot.\n",
    "mask = np.zeros_like(corr)\n",
    "mask[np.triu_indices_from(mask)] = True\n",
    "\n",
    "# Plot our correlation heatmap, while masking the upper triangle to be white.\n",
    "with sns.axes_style(\"white\"):\n",
    "    sns.heatmap(corr, mask = mask, square = True, annot = True, vmin = -1, vmax = 1, linewidths = .5)"
   ]
  },
  {
   "cell_type": "code",
   "execution_count": 746,
   "metadata": {},
   "outputs": [
    {
     "data": {
      "image/png": "[encoded data removed]",
      "text/plain": [
       "<Figure size 864x864 with 2 Axes>"
      ]
     },
     "metadata": {
      "needs_background": "light"
     },
     "output_type": "display_data"
    }
   ],
   "source": [
    "plt.figure(figsize=(12,12))\n",
    "plt.title('Correlation heatmap of SAT')\n",
    "\n",
    "# Get correlation of variables. (statistical significance)\n",
    "corr = sat.corr()\n",
    "\n",
    "# Set up mask to be \"True\" in the upper triangle.\n",
    "# because it will be the mirror image of lower triangle we'll see on our plot.\n",
    "mask = np.zeros_like(corr)\n",
    "mask[np.triu_indices_from(mask)] = True\n",
    "\n",
    "# Plot our correlation heatmap, while masking the upper triangle to be white.\n",
    "with sns.axes_style(\"white\"):\n",
    "    sns.heatmap(corr, mask = mask, square = True, annot = True, vmin = -1, vmax = 1, linewidths = .5)"
   ]
  },
  {
   "cell_type": "code",
   "execution_count": 747,
   "metadata": {},
   "outputs": [
    {
     "data": {
      "image/png": "[encoded data removed]",
      "text/plain": [
       "<Figure size 864x864 with 2 Axes>"
      ]
     },
     "metadata": {
      "needs_background": "light"
     },
     "output_type": "display_data"
    }
   ],
   "source": [
    "plt.figure(figsize=(12,12))\n",
    "\n",
    "# Get correlation of variables. (statistical significance)\n",
    "corr = act.corr()\n",
    "\n",
    "# Set up mask to be \"True\" in the upper triangle.\n",
    "# because it will be the mirror image of lower triangle we'll see on our plot.\n",
    "mask = np.zeros_like(corr)\n",
    "mask[np.triu_indices_from(mask)] = True\n",
    "\n",
    "# Plot our correlation heatmap, while masking the upper triangle to be white.\n",
    "with sns.axes_style(\"white\"):\n",
    "    sns.heatmap(corr, mask = mask, square = True, annot = True, vmin = -1, vmax = 1, linewidths = .5)"
   ]
  },
  {
   "cell_type": "code",
   "execution_count": 748,
   "metadata": {},
   "outputs": [
    {
     "data": {
      "image/png": "[encoded data removed]",
      "text/plain": [
       "<Figure size 864x864 with 2 Axes>"
      ]
     },
     "metadata": {
      "needs_background": "light"
     },
     "output_type": "display_data"
    }
   ],
   "source": [
    "plt.figure(figsize=(12,12))\n",
    "\n",
    "# Get correlation of variables. (statistical significance)\n",
    "corr = sat_ca.corr()\n",
    "\n",
    "# Set up mask to be \"True\" in the upper triangle.\n",
    "# because it will be the mirror image of lower triangle we'll see on our plot.\n",
    "mask = np.zeros_like(corr)\n",
    "mask[np.triu_indices_from(mask)] = True\n",
    "\n",
    "# Plot our correlation heatmap, while masking the upper triangle to be white.\n",
    "with sns.axes_style(\"white\"):\n",
    "    sns.heatmap(corr, mask = mask, square = True, annot = True, vmin = -1, vmax = 1, linewidths = .5)"
   ]
  },
  {
   "cell_type": "markdown",
   "metadata": {},
   "source": [
    "## Conclusions and Recommendations"
   ]
  },
  {
   "cell_type": "markdown",
   "metadata": {},
   "source": [
    "Based on your exploration of the data, what are you key takeaways and recommendations? Make sure to answer your question of interest or address your problem statement here."
   ]
  },
  {
   "cell_type": "markdown",
   "metadata": {},
   "source": [
    "Recommendations\n",
    "- At the school level, educators could identify students receiving FRPM to regularly engage them and ensure that they are not deprived of educational resources or conducive learning environments. \n",
    "- Educators should also pay notice to students' mathematical standards, since improvements in math also correlates with improvements in other subjects.\n",
    "- At the county level, efforts should be made to engage county administrators in the red and orange tiers to identify systematic issues, with more resources dedicated to red tier counties. Allocating more resources may not necessarily be helpful if the county/district/school administrator does not use them well.\n",
    "- Organize learning journeys, seminars or workshops for educators to learn strategies and best practices from other counties or districts such as El Dorado, which has consistently performed very well in the SAT.\n",
    "- At the state level, resources could be invested in educational research to develop new strategies to improve pedagogies in math. Collaborate with academics from states which have similar profiles but do better."
   ]
  },
  {
   "cell_type": "markdown",
   "metadata": {},
   "source": [
    "Don't forget to create your README!\n",
    "\n",
    "**To-Do:** *If you combine your problem statement, data dictionary, brief summary of your analysis, and conclusions/recommendations, you have an amazing README.md file that quickly aligns your audience to the contents of your project.* Don't forget to cite your data sources!"
   ]
  }
 ],
 "metadata": {
  "anaconda-cloud": {},
  "kernelspec": {
   "display_name": "Python 3",
   "language": "python",
   "name": "python3"
  },
  "language_info": {
   "codemirror_mode": {
    "name": "ipython",
    "version": 3
   },
   "file_extension": ".py",
   "mimetype": "text/x-python",
   "name": "python",
   "nbconvert_exporter": "python",
   "pygments_lexer": "ipython3",
   "version": "3.8.8"
  }
 },
 "nbformat": 4,
 "nbformat_minor": 4
}
