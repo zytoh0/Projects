{
 "cells": [
  {
   "cell_type": "markdown",
   "metadata": {},
   "source": [
    "<img src=\"http://imgur.com/1ZcRyrc.png\" style=\"float: left; margin: 20px; height: 55px\">\n",
    "\n",
    "\n",
    "# Predicting Shots Made Per Game by Kobe Bryant\n",
    "\n",
    "_Authors: Kiefer Katovich (SF)_\n",
    "\n",
    "---\n",
    "\n",
    "In this lab you'll be using regularized regression penalties — ridge, lasso, and elastic net — to try and predict how many shots Kobe Bryant made per game during his career.\n",
    "\n",
    "The Kobe Shots data set contains hundreds of columns representing different characteristics of each basketball game. Fitting an ordinary linear regression using every predictor would dramatically overfit the model, considering the limited number of observations (games) we have available. Plus, many of the predictors have significant multicollinearity. \n",
    "\n",
    "\n",
    "**Warning:** Some of these calculations are computationally expensive and may take a while to execute. It may be worthwhile to only use a portion of the data to perform these calculations, especially if you've experienced kernel issues in the past.\n",
    "\n",
    "---\n",
    "\n",
    "### 1) Load packages and data."
   ]
  },
  {
   "cell_type": "code",
   "execution_count": 388,
   "metadata": {
    "tags": []
   },
   "outputs": [],
   "source": [
    "import numpy as np\n",
    "import pandas as pd\n",
    "import patsy\n",
    "\n",
    "from sklearn.linear_model import Ridge, Lasso, ElasticNet, LinearRegression, RidgeCV, LassoCV, ElasticNetCV\n",
    "from sklearn.model_selection import cross_val_score\n",
    "\n",
    "import matplotlib\n",
    "import matplotlib.pyplot as plt\n",
    "import seaborn as sns\n",
    "plt.style.use('fivethirtyeight')\n",
    "\n",
    "%config InlineBackend.figure_format = 'retina'\n",
    "%matplotlib inline"
   ]
  },
  {
   "cell_type": "code",
   "execution_count": 389,
   "metadata": {
    "tags": []
   },
   "outputs": [],
   "source": [
    "kobe = pd.read_csv('./datasets/kobe_superwide_games.csv')"
   ]
  },
  {
   "cell_type": "markdown",
   "metadata": {},
   "source": [
    "---\n",
    "\n",
    "### 2) Examine the data.\n",
    "\n",
    "- How many columns are there?\n",
    "Ans: 645\n",
    "- Examine what the observations (rows) and columns represent.\n",
    "Ans: rows represent individual games, columns represent features\n",
    "- Why might regularization be particularly useful for modeling this data?\n",
    "Ans: There might be too many unnecessary features and so regularisation helps to remove those that are not helpful in prediction and avoid overfitting."
   ]
  },
  {
   "cell_type": "code",
   "execution_count": 390,
   "metadata": {
    "tags": []
   },
   "outputs": [
    {
     "name": "stdout",
     "output_type": "stream",
     "text": [
      "<class 'pandas.core.frame.DataFrame'>\n",
      "RangeIndex: 1558 entries, 0 to 1557\n",
      "Columns: 645 entries, SHOTS_MADE to CAREER_GAME_NUMBER\n",
      "dtypes: float64(640), int64(5)\n",
      "memory usage: 7.7 MB\n"
     ]
    }
   ],
   "source": [
    "# A:\n",
    "kobe.info()"
   ]
  },
  {
   "cell_type": "code",
   "execution_count": 391,
   "metadata": {},
   "outputs": [
    {
     "data": {
      "text/plain": [
       "Index(['SHOTS_MADE', 'AWAY_GAME', 'SEASON_OPPONENT:atl:1996-97',\n",
       "       'SEASON_OPPONENT:atl:1997-98', 'SEASON_OPPONENT:atl:1999-00',\n",
       "       'SEASON_OPPONENT:atl:2000-01', 'SEASON_OPPONENT:atl:2001-02',\n",
       "       'SEASON_OPPONENT:atl:2002-03', 'SEASON_OPPONENT:atl:2003-04',\n",
       "       'SEASON_OPPONENT:atl:2004-05',\n",
       "       ...\n",
       "       'ACTION_TYPE:tip_layup_shot', 'ACTION_TYPE:tip_shot',\n",
       "       'ACTION_TYPE:turnaround_bank_shot',\n",
       "       'ACTION_TYPE:turnaround_fadeaway_bank_jump_shot',\n",
       "       'ACTION_TYPE:turnaround_fadeaway_shot',\n",
       "       'ACTION_TYPE:turnaround_finger_roll_shot',\n",
       "       'ACTION_TYPE:turnaround_hook_shot', 'ACTION_TYPE:turnaround_jump_shot',\n",
       "       'SEASON_GAME_NUMBER', 'CAREER_GAME_NUMBER'],\n",
       "      dtype='object', length=645)"
      ]
     },
     "execution_count": 391,
     "metadata": {},
     "output_type": "execute_result"
    }
   ],
   "source": [
    "kobe.columns"
   ]
  },
  {
   "cell_type": "code",
   "execution_count": 392,
   "metadata": {},
   "outputs": [
    {
     "data": {
      "text/html": [
       "<div>\n",
       "<style scoped>\n",
       "    .dataframe tbody tr th:only-of-type {\n",
       "        vertical-align: middle;\n",
       "    }\n",
       "\n",
       "    .dataframe tbody tr th {\n",
       "        vertical-align: top;\n",
       "    }\n",
       "\n",
       "    .dataframe thead th {\n",
       "        text-align: right;\n",
       "    }\n",
       "</style>\n",
       "<table border=\"1\" class=\"dataframe\">\n",
       "  <thead>\n",
       "    <tr style=\"text-align: right;\">\n",
       "      <th></th>\n",
       "      <th>SHOTS_MADE</th>\n",
       "      <th>AWAY_GAME</th>\n",
       "      <th>SEASON_OPPONENT:atl:1996-97</th>\n",
       "      <th>SEASON_OPPONENT:atl:1997-98</th>\n",
       "      <th>SEASON_OPPONENT:atl:1999-00</th>\n",
       "      <th>SEASON_OPPONENT:atl:2000-01</th>\n",
       "      <th>SEASON_OPPONENT:atl:2001-02</th>\n",
       "      <th>SEASON_OPPONENT:atl:2002-03</th>\n",
       "      <th>SEASON_OPPONENT:atl:2003-04</th>\n",
       "      <th>SEASON_OPPONENT:atl:2004-05</th>\n",
       "      <th>...</th>\n",
       "      <th>ACTION_TYPE:tip_layup_shot</th>\n",
       "      <th>ACTION_TYPE:tip_shot</th>\n",
       "      <th>ACTION_TYPE:turnaround_bank_shot</th>\n",
       "      <th>ACTION_TYPE:turnaround_fadeaway_bank_jump_shot</th>\n",
       "      <th>ACTION_TYPE:turnaround_fadeaway_shot</th>\n",
       "      <th>ACTION_TYPE:turnaround_finger_roll_shot</th>\n",
       "      <th>ACTION_TYPE:turnaround_hook_shot</th>\n",
       "      <th>ACTION_TYPE:turnaround_jump_shot</th>\n",
       "      <th>SEASON_GAME_NUMBER</th>\n",
       "      <th>CAREER_GAME_NUMBER</th>\n",
       "    </tr>\n",
       "  </thead>\n",
       "  <tbody>\n",
       "    <tr>\n",
       "      <th>0</th>\n",
       "      <td>0.0</td>\n",
       "      <td>0</td>\n",
       "      <td>0.0</td>\n",
       "      <td>0.0</td>\n",
       "      <td>0.0</td>\n",
       "      <td>0.0</td>\n",
       "      <td>0.0</td>\n",
       "      <td>0.0</td>\n",
       "      <td>0.0</td>\n",
       "      <td>0.0</td>\n",
       "      <td>...</td>\n",
       "      <td>0.0</td>\n",
       "      <td>0.0</td>\n",
       "      <td>0.0</td>\n",
       "      <td>0.0</td>\n",
       "      <td>0.000000</td>\n",
       "      <td>0.0</td>\n",
       "      <td>0.000000</td>\n",
       "      <td>0.000000</td>\n",
       "      <td>1</td>\n",
       "      <td>1</td>\n",
       "    </tr>\n",
       "    <tr>\n",
       "      <th>1</th>\n",
       "      <td>0.0</td>\n",
       "      <td>1</td>\n",
       "      <td>0.0</td>\n",
       "      <td>0.0</td>\n",
       "      <td>0.0</td>\n",
       "      <td>0.0</td>\n",
       "      <td>0.0</td>\n",
       "      <td>0.0</td>\n",
       "      <td>0.0</td>\n",
       "      <td>0.0</td>\n",
       "      <td>...</td>\n",
       "      <td>0.0</td>\n",
       "      <td>0.0</td>\n",
       "      <td>0.0</td>\n",
       "      <td>0.0</td>\n",
       "      <td>0.000000</td>\n",
       "      <td>0.0</td>\n",
       "      <td>0.000000</td>\n",
       "      <td>0.000000</td>\n",
       "      <td>2</td>\n",
       "      <td>2</td>\n",
       "    </tr>\n",
       "    <tr>\n",
       "      <th>2</th>\n",
       "      <td>2.0</td>\n",
       "      <td>1</td>\n",
       "      <td>0.0</td>\n",
       "      <td>0.0</td>\n",
       "      <td>0.0</td>\n",
       "      <td>0.0</td>\n",
       "      <td>0.0</td>\n",
       "      <td>0.0</td>\n",
       "      <td>0.0</td>\n",
       "      <td>0.0</td>\n",
       "      <td>...</td>\n",
       "      <td>0.0</td>\n",
       "      <td>0.0</td>\n",
       "      <td>0.0</td>\n",
       "      <td>0.0</td>\n",
       "      <td>0.000000</td>\n",
       "      <td>0.0</td>\n",
       "      <td>0.000000</td>\n",
       "      <td>0.000000</td>\n",
       "      <td>3</td>\n",
       "      <td>3</td>\n",
       "    </tr>\n",
       "    <tr>\n",
       "      <th>3</th>\n",
       "      <td>2.0</td>\n",
       "      <td>1</td>\n",
       "      <td>0.0</td>\n",
       "      <td>0.0</td>\n",
       "      <td>0.0</td>\n",
       "      <td>0.0</td>\n",
       "      <td>0.0</td>\n",
       "      <td>0.0</td>\n",
       "      <td>0.0</td>\n",
       "      <td>0.0</td>\n",
       "      <td>...</td>\n",
       "      <td>0.0</td>\n",
       "      <td>0.0</td>\n",
       "      <td>0.0</td>\n",
       "      <td>0.0</td>\n",
       "      <td>0.000000</td>\n",
       "      <td>0.0</td>\n",
       "      <td>0.000000</td>\n",
       "      <td>0.000000</td>\n",
       "      <td>4</td>\n",
       "      <td>4</td>\n",
       "    </tr>\n",
       "    <tr>\n",
       "      <th>4</th>\n",
       "      <td>0.0</td>\n",
       "      <td>0</td>\n",
       "      <td>1.0</td>\n",
       "      <td>0.0</td>\n",
       "      <td>0.0</td>\n",
       "      <td>0.0</td>\n",
       "      <td>0.0</td>\n",
       "      <td>0.0</td>\n",
       "      <td>0.0</td>\n",
       "      <td>0.0</td>\n",
       "      <td>...</td>\n",
       "      <td>0.0</td>\n",
       "      <td>0.0</td>\n",
       "      <td>0.0</td>\n",
       "      <td>0.0</td>\n",
       "      <td>0.000000</td>\n",
       "      <td>0.0</td>\n",
       "      <td>0.000000</td>\n",
       "      <td>0.000000</td>\n",
       "      <td>5</td>\n",
       "      <td>5</td>\n",
       "    </tr>\n",
       "    <tr>\n",
       "      <th>...</th>\n",
       "      <td>...</td>\n",
       "      <td>...</td>\n",
       "      <td>...</td>\n",
       "      <td>...</td>\n",
       "      <td>...</td>\n",
       "      <td>...</td>\n",
       "      <td>...</td>\n",
       "      <td>...</td>\n",
       "      <td>...</td>\n",
       "      <td>...</td>\n",
       "      <td>...</td>\n",
       "      <td>...</td>\n",
       "      <td>...</td>\n",
       "      <td>...</td>\n",
       "      <td>...</td>\n",
       "      <td>...</td>\n",
       "      <td>...</td>\n",
       "      <td>...</td>\n",
       "      <td>...</td>\n",
       "      <td>...</td>\n",
       "      <td>...</td>\n",
       "    </tr>\n",
       "    <tr>\n",
       "      <th>1553</th>\n",
       "      <td>4.0</td>\n",
       "      <td>0</td>\n",
       "      <td>0.0</td>\n",
       "      <td>0.0</td>\n",
       "      <td>0.0</td>\n",
       "      <td>0.0</td>\n",
       "      <td>0.0</td>\n",
       "      <td>0.0</td>\n",
       "      <td>0.0</td>\n",
       "      <td>0.0</td>\n",
       "      <td>...</td>\n",
       "      <td>0.0</td>\n",
       "      <td>0.0</td>\n",
       "      <td>0.0</td>\n",
       "      <td>0.0</td>\n",
       "      <td>0.105263</td>\n",
       "      <td>0.0</td>\n",
       "      <td>0.000000</td>\n",
       "      <td>0.052632</td>\n",
       "      <td>62</td>\n",
       "      <td>1555</td>\n",
       "    </tr>\n",
       "    <tr>\n",
       "      <th>1554</th>\n",
       "      <td>4.0</td>\n",
       "      <td>1</td>\n",
       "      <td>0.0</td>\n",
       "      <td>0.0</td>\n",
       "      <td>0.0</td>\n",
       "      <td>0.0</td>\n",
       "      <td>0.0</td>\n",
       "      <td>0.0</td>\n",
       "      <td>0.0</td>\n",
       "      <td>0.0</td>\n",
       "      <td>...</td>\n",
       "      <td>0.0</td>\n",
       "      <td>0.0</td>\n",
       "      <td>0.0</td>\n",
       "      <td>0.0</td>\n",
       "      <td>0.000000</td>\n",
       "      <td>0.0</td>\n",
       "      <td>0.000000</td>\n",
       "      <td>0.000000</td>\n",
       "      <td>63</td>\n",
       "      <td>1556</td>\n",
       "    </tr>\n",
       "    <tr>\n",
       "      <th>1555</th>\n",
       "      <td>9.0</td>\n",
       "      <td>1</td>\n",
       "      <td>0.0</td>\n",
       "      <td>0.0</td>\n",
       "      <td>0.0</td>\n",
       "      <td>0.0</td>\n",
       "      <td>0.0</td>\n",
       "      <td>0.0</td>\n",
       "      <td>0.0</td>\n",
       "      <td>0.0</td>\n",
       "      <td>...</td>\n",
       "      <td>0.0</td>\n",
       "      <td>0.0</td>\n",
       "      <td>0.0</td>\n",
       "      <td>0.0</td>\n",
       "      <td>0.045455</td>\n",
       "      <td>0.0</td>\n",
       "      <td>0.045455</td>\n",
       "      <td>0.045455</td>\n",
       "      <td>64</td>\n",
       "      <td>1557</td>\n",
       "    </tr>\n",
       "    <tr>\n",
       "      <th>1556</th>\n",
       "      <td>3.0</td>\n",
       "      <td>1</td>\n",
       "      <td>0.0</td>\n",
       "      <td>0.0</td>\n",
       "      <td>0.0</td>\n",
       "      <td>0.0</td>\n",
       "      <td>0.0</td>\n",
       "      <td>0.0</td>\n",
       "      <td>0.0</td>\n",
       "      <td>0.0</td>\n",
       "      <td>...</td>\n",
       "      <td>0.0</td>\n",
       "      <td>0.0</td>\n",
       "      <td>0.0</td>\n",
       "      <td>0.0</td>\n",
       "      <td>0.166667</td>\n",
       "      <td>0.0</td>\n",
       "      <td>0.000000</td>\n",
       "      <td>0.000000</td>\n",
       "      <td>65</td>\n",
       "      <td>1558</td>\n",
       "    </tr>\n",
       "    <tr>\n",
       "      <th>1557</th>\n",
       "      <td>19.0</td>\n",
       "      <td>0</td>\n",
       "      <td>0.0</td>\n",
       "      <td>0.0</td>\n",
       "      <td>0.0</td>\n",
       "      <td>0.0</td>\n",
       "      <td>0.0</td>\n",
       "      <td>0.0</td>\n",
       "      <td>0.0</td>\n",
       "      <td>0.0</td>\n",
       "      <td>...</td>\n",
       "      <td>0.0</td>\n",
       "      <td>0.0</td>\n",
       "      <td>0.0</td>\n",
       "      <td>0.0</td>\n",
       "      <td>0.020000</td>\n",
       "      <td>0.0</td>\n",
       "      <td>0.000000</td>\n",
       "      <td>0.040000</td>\n",
       "      <td>66</td>\n",
       "      <td>1559</td>\n",
       "    </tr>\n",
       "  </tbody>\n",
       "</table>\n",
       "<p>1558 rows × 645 columns</p>\n",
       "</div>"
      ],
      "text/plain": [
       "      SHOTS_MADE  AWAY_GAME  SEASON_OPPONENT:atl:1996-97  \\\n",
       "0            0.0          0                          0.0   \n",
       "1            0.0          1                          0.0   \n",
       "2            2.0          1                          0.0   \n",
       "3            2.0          1                          0.0   \n",
       "4            0.0          0                          1.0   \n",
       "...          ...        ...                          ...   \n",
       "1553         4.0          0                          0.0   \n",
       "1554         4.0          1                          0.0   \n",
       "1555         9.0          1                          0.0   \n",
       "1556         3.0          1                          0.0   \n",
       "1557        19.0          0                          0.0   \n",
       "\n",
       "      SEASON_OPPONENT:atl:1997-98  SEASON_OPPONENT:atl:1999-00  \\\n",
       "0                             0.0                          0.0   \n",
       "1                             0.0                          0.0   \n",
       "2                             0.0                          0.0   \n",
       "3                             0.0                          0.0   \n",
       "4                             0.0                          0.0   \n",
       "...                           ...                          ...   \n",
       "1553                          0.0                          0.0   \n",
       "1554                          0.0                          0.0   \n",
       "1555                          0.0                          0.0   \n",
       "1556                          0.0                          0.0   \n",
       "1557                          0.0                          0.0   \n",
       "\n",
       "      SEASON_OPPONENT:atl:2000-01  SEASON_OPPONENT:atl:2001-02  \\\n",
       "0                             0.0                          0.0   \n",
       "1                             0.0                          0.0   \n",
       "2                             0.0                          0.0   \n",
       "3                             0.0                          0.0   \n",
       "4                             0.0                          0.0   \n",
       "...                           ...                          ...   \n",
       "1553                          0.0                          0.0   \n",
       "1554                          0.0                          0.0   \n",
       "1555                          0.0                          0.0   \n",
       "1556                          0.0                          0.0   \n",
       "1557                          0.0                          0.0   \n",
       "\n",
       "      SEASON_OPPONENT:atl:2002-03  SEASON_OPPONENT:atl:2003-04  \\\n",
       "0                             0.0                          0.0   \n",
       "1                             0.0                          0.0   \n",
       "2                             0.0                          0.0   \n",
       "3                             0.0                          0.0   \n",
       "4                             0.0                          0.0   \n",
       "...                           ...                          ...   \n",
       "1553                          0.0                          0.0   \n",
       "1554                          0.0                          0.0   \n",
       "1555                          0.0                          0.0   \n",
       "1556                          0.0                          0.0   \n",
       "1557                          0.0                          0.0   \n",
       "\n",
       "      SEASON_OPPONENT:atl:2004-05  ...  ACTION_TYPE:tip_layup_shot  \\\n",
       "0                             0.0  ...                         0.0   \n",
       "1                             0.0  ...                         0.0   \n",
       "2                             0.0  ...                         0.0   \n",
       "3                             0.0  ...                         0.0   \n",
       "4                             0.0  ...                         0.0   \n",
       "...                           ...  ...                         ...   \n",
       "1553                          0.0  ...                         0.0   \n",
       "1554                          0.0  ...                         0.0   \n",
       "1555                          0.0  ...                         0.0   \n",
       "1556                          0.0  ...                         0.0   \n",
       "1557                          0.0  ...                         0.0   \n",
       "\n",
       "      ACTION_TYPE:tip_shot  ACTION_TYPE:turnaround_bank_shot  \\\n",
       "0                      0.0                               0.0   \n",
       "1                      0.0                               0.0   \n",
       "2                      0.0                               0.0   \n",
       "3                      0.0                               0.0   \n",
       "4                      0.0                               0.0   \n",
       "...                    ...                               ...   \n",
       "1553                   0.0                               0.0   \n",
       "1554                   0.0                               0.0   \n",
       "1555                   0.0                               0.0   \n",
       "1556                   0.0                               0.0   \n",
       "1557                   0.0                               0.0   \n",
       "\n",
       "      ACTION_TYPE:turnaround_fadeaway_bank_jump_shot  \\\n",
       "0                                                0.0   \n",
       "1                                                0.0   \n",
       "2                                                0.0   \n",
       "3                                                0.0   \n",
       "4                                                0.0   \n",
       "...                                              ...   \n",
       "1553                                             0.0   \n",
       "1554                                             0.0   \n",
       "1555                                             0.0   \n",
       "1556                                             0.0   \n",
       "1557                                             0.0   \n",
       "\n",
       "      ACTION_TYPE:turnaround_fadeaway_shot  \\\n",
       "0                                 0.000000   \n",
       "1                                 0.000000   \n",
       "2                                 0.000000   \n",
       "3                                 0.000000   \n",
       "4                                 0.000000   \n",
       "...                                    ...   \n",
       "1553                              0.105263   \n",
       "1554                              0.000000   \n",
       "1555                              0.045455   \n",
       "1556                              0.166667   \n",
       "1557                              0.020000   \n",
       "\n",
       "      ACTION_TYPE:turnaround_finger_roll_shot  \\\n",
       "0                                         0.0   \n",
       "1                                         0.0   \n",
       "2                                         0.0   \n",
       "3                                         0.0   \n",
       "4                                         0.0   \n",
       "...                                       ...   \n",
       "1553                                      0.0   \n",
       "1554                                      0.0   \n",
       "1555                                      0.0   \n",
       "1556                                      0.0   \n",
       "1557                                      0.0   \n",
       "\n",
       "      ACTION_TYPE:turnaround_hook_shot  ACTION_TYPE:turnaround_jump_shot  \\\n",
       "0                             0.000000                          0.000000   \n",
       "1                             0.000000                          0.000000   \n",
       "2                             0.000000                          0.000000   \n",
       "3                             0.000000                          0.000000   \n",
       "4                             0.000000                          0.000000   \n",
       "...                                ...                               ...   \n",
       "1553                          0.000000                          0.052632   \n",
       "1554                          0.000000                          0.000000   \n",
       "1555                          0.045455                          0.045455   \n",
       "1556                          0.000000                          0.000000   \n",
       "1557                          0.000000                          0.040000   \n",
       "\n",
       "      SEASON_GAME_NUMBER  CAREER_GAME_NUMBER  \n",
       "0                      1                   1  \n",
       "1                      2                   2  \n",
       "2                      3                   3  \n",
       "3                      4                   4  \n",
       "4                      5                   5  \n",
       "...                  ...                 ...  \n",
       "1553                  62                1555  \n",
       "1554                  63                1556  \n",
       "1555                  64                1557  \n",
       "1556                  65                1558  \n",
       "1557                  66                1559  \n",
       "\n",
       "[1558 rows x 645 columns]"
      ]
     },
     "execution_count": 392,
     "metadata": {},
     "output_type": "execute_result"
    }
   ],
   "source": [
    "kobe"
   ]
  },
  {
   "cell_type": "code",
   "execution_count": 393,
   "metadata": {},
   "outputs": [
    {
     "data": {
      "text/plain": [
       "(1558, 645)"
      ]
     },
     "execution_count": 393,
     "metadata": {},
     "output_type": "execute_result"
    }
   ],
   "source": [
    "kobe.shape"
   ]
  },
  {
   "cell_type": "code",
   "execution_count": 394,
   "metadata": {},
   "outputs": [
    {
     "data": {
      "text/plain": [
       "0"
      ]
     },
     "execution_count": 394,
     "metadata": {},
     "output_type": "execute_result"
    }
   ],
   "source": [
    "kobe.isnull().sum().sum()"
   ]
  },
  {
   "cell_type": "markdown",
   "metadata": {},
   "source": [
    "---\n",
    "\n",
    "### 3) Create predictor and target variables. Standardize the predictors.\n",
    "\n",
    "Why is normalization necessary for regularized regressions?\n",
    "\n",
    "Use the `sklearn.preprocessing` class `StandardScaler` to standardize the predictors."
   ]
  },
  {
   "cell_type": "code",
   "execution_count": 395,
   "metadata": {
    "tags": []
   },
   "outputs": [],
   "source": [
    "# A:\n",
    "from sklearn.preprocessing import PolynomialFeatures # to generate polynomial and interaction terms\n",
    "\n",
    "# Create X and y.\n",
    "X = kobe.drop('SHOTS_MADE', axis=1)# take all cols except, 'SHOTS_MADE' --> response\n",
    "y = kobe['SHOTS_MADE']"
   ]
  },
  {
   "cell_type": "code",
   "execution_count": 396,
   "metadata": {},
   "outputs": [],
   "source": [
    "# Import train_test_split.\n",
    "from sklearn.model_selection import train_test_split\n",
    "from sklearn.preprocessing import StandardScaler"
   ]
  },
  {
   "cell_type": "code",
   "execution_count": 397,
   "metadata": {},
   "outputs": [],
   "source": [
    "# Create train/test splits using X_overfit, y defined above.\n",
    "# setting random_state helps with repeatability on the splits, instead of diff splits each time\n",
    "# note that setting such a high test_size vs train is rarely practised, it is done so here for simulating a poor model learning here\n",
    "# default test_size in sklearn=25%. rule of thumb: train_size>test_size\n",
    "X_train, X_test, y_train, y_test = train_test_split(X, y, test_size=0.7, random_state=42)"
   ]
  },
  {
   "cell_type": "code",
   "execution_count": 398,
   "metadata": {},
   "outputs": [],
   "source": [
    "# Scale our data to standardize different feature magnitudes.\n",
    "# Relabeling scaled data as \"Z\" is common.(Z-score-Scaling topic in feature engineering lesson)\n",
    "# note that we will only \"transform()\" test, applying the learning achieved by \"fitting\" on train \n",
    "sc = StandardScaler()\n",
    "Z_train = sc.fit_transform(X_train)\n",
    "Z_test = sc.transform(X_test)"
   ]
  },
  {
   "cell_type": "code",
   "execution_count": 399,
   "metadata": {},
   "outputs": [
    {
     "name": "stdout",
     "output_type": "stream",
     "text": [
      "Z_train shape is: (467, 644)\n",
      "y_train shape is: (467,)\n",
      "Z_test shape is: (1091, 644)\n",
      "y_test shape is: (1091,)\n"
     ]
    }
   ],
   "source": [
    "print(f'Z_train shape is: {Z_train.shape}')\n",
    "print(f'y_train shape is: {y_train.shape}')\n",
    "print(f'Z_test shape is: {Z_test.shape}')\n",
    "print(f'y_test shape is: {y_test.shape}')"
   ]
  },
  {
   "cell_type": "markdown",
   "metadata": {},
   "source": [
    "---\n",
    "\n",
    "### 4. Build a linear regression predicting `SHOTS_MADE` from the rest of the columns.\n",
    "\n",
    "Cross-validate the $R^2$ of an ordinary linear regression model with 10 cross-validation folds.\n",
    "\n",
    "How does it perform?\n",
    "Ans: Not very well. Mean cross validation score: 0.5674334707623419"
   ]
  },
  {
   "cell_type": "code",
   "execution_count": 400,
   "metadata": {},
   "outputs": [],
   "source": [
    "# A:\n",
    "# Import the appropriate library and fit our OLS model.\n",
    "from sklearn.linear_model import LinearRegression"
   ]
  },
  {
   "cell_type": "code",
   "execution_count": 401,
   "metadata": {},
   "outputs": [
    {
     "data": {
      "text/plain": [
       "LinearRegression()"
      ]
     },
     "execution_count": 401,
     "metadata": {},
     "output_type": "execute_result"
    }
   ],
   "source": [
    "ols = LinearRegression() # instantiate\n",
    "ols.fit(Z_train, y_train) # model fit"
   ]
  },
  {
   "cell_type": "code",
   "execution_count": 402,
   "metadata": {},
   "outputs": [
    {
     "name": "stdout",
     "output_type": "stream",
     "text": [
      "0.8913980389697927\n",
      "-3.205409190074203e+26\n"
     ]
    }
   ],
   "source": [
    "# How does the model score (R^2) on the training and test data?\n",
    "print(ols.score(Z_train, y_train))\n",
    "print(ols.score(Z_test, y_test))"
   ]
  },
  {
   "cell_type": "code",
   "execution_count": 403,
   "metadata": {
    "scrolled": true,
    "tags": []
   },
   "outputs": [
    {
     "data": {
      "text/plain": [
       "array([-4.14321615e-01, -2.54663361e+12, -4.04082834e+12, -5.26345253e+12,\n",
       "        2.27629149e+13, -4.41455399e+12, -2.36707494e+13, -1.32139784e+13,\n",
       "       -3.07791102e+13,  1.07812375e+13,  2.49648339e+13, -2.37626248e+12,\n",
       "       -2.96759709e+12,  9.82197302e+11,  8.82698009e+10, -1.48412284e+13,\n",
       "        6.39375871e+11, -1.01318808e+13, -3.78894511e+13, -3.72117341e+12,\n",
       "        3.54732448e+11, -2.35246935e+13, -1.30938108e+13,  1.37748326e+13,\n",
       "       -1.81514379e+13, -6.23641990e+12, -5.97361396e+12, -6.23515827e+12,\n",
       "        2.92176795e+13, -4.17865306e+12,  1.19362359e+12, -1.68207709e+12,\n",
       "       -2.10066316e+12,  1.38754556e+12, -9.99834175e+12, -6.62748523e+12,\n",
       "        5.42871945e+12,  9.94696916e+12, -7.18719120e+13, -1.61337213e+13,\n",
       "       -1.83217740e+13,  4.43106741e+13,  1.61166388e+12, -6.11194167e+12,\n",
       "       -4.41455399e+12, -1.98287066e+12,  1.85433312e+13,  8.44926392e+11,\n",
       "       -1.68207709e+12, -3.27034538e+13,  7.83951190e+12,  8.82698009e+10,\n",
       "        7.63726684e+12,  2.06079699e+13,  1.12097549e+13, -5.33322605e+12,\n",
       "       -6.39265216e+12,  4.08796899e+13,  2.94351771e+13, -1.27275210e+13,\n",
       "        3.04331841e+13,  4.14452340e+12, -6.20993371e+12, -6.23515827e+12,\n",
       "       -2.13013397e+12, -2.95792937e+12,  7.66974778e+11, -7.94012077e+12,\n",
       "        1.78846996e+13,  3.82299962e+12, -1.22926077e+13,  2.89632739e+13,\n",
       "        7.66912673e+12, -3.40980973e+12, -2.54663361e+12,  1.88767210e+13,\n",
       "        1.29242217e+11, -5.26345253e+12, -1.56091973e+12, -2.29244959e+13,\n",
       "       -5.97361396e+12,  2.64608934e+12,  6.49274237e+11,  6.11227076e+13,\n",
       "        1.12962582e+13, -2.01698002e+13, -2.10066316e+12, -1.91942999e+13,\n",
       "        8.82698009e+10, -3.96317560e+13,  7.66912673e+12, -5.33322605e+12,\n",
       "       -1.31127766e+13, -3.75579974e+13, -5.70845941e+12,  1.29242217e+11,\n",
       "        1.10390183e+13, -1.56091973e+12, -6.23641990e+12, -1.03243760e+13,\n",
       "       -6.23515827e+12,  2.38428392e+13, -2.95792937e+12,  8.44926392e+11,\n",
       "       -1.31056739e+12, -1.02085403e+13,  1.38754556e+12,  1.52559342e+11,\n",
       "       -6.62748523e+12,  5.42871945e+12, -7.18106698e+13, -3.40980973e+12,\n",
       "       -2.54663361e+12, -4.04082834e+12,  1.82579880e+11, -7.43565493e+12,\n",
       "       -3.52414135e+13, -4.41455399e+12, -5.97361396e+12, -6.23515827e+12,\n",
       "       -3.00923035e+12, -1.64731843e+12,  1.19362359e+12, -2.37626248e+12,\n",
       "       -4.18778091e+12,  9.82197302e+11,  8.82698009e+10, -1.47557674e+13,\n",
       "        2.52802217e+13, -5.33322605e+12, -3.40980973e+12, -2.54663361e+12,\n",
       "       -4.04082834e+12, -1.09645129e+13, -1.56091973e+12,  2.09059623e+13,\n",
       "        1.30412605e+13,  2.45879505e+13, -1.72107687e+13, -2.95792937e+12,\n",
       "        8.44926392e+11, -1.31695244e+13, -2.10066316e+12,  2.31543703e+12,\n",
       "        1.05090504e+13, -4.33299106e+12, -1.13449192e+13, -1.89506361e+13,\n",
       "       -4.81702236e+12,  1.11297909e+13, -6.47136877e+12,  1.29242217e+11,\n",
       "        1.54119721e+13, -1.56091973e+12, -2.21850049e+13, -1.44700528e+13,\n",
       "       -8.80837910e+12,  2.08718531e+13, -2.95792937e+12,  1.19362359e+12,\n",
       "       -1.68207709e+12, -2.96759709e+12,  9.82197302e+11,  1.24698337e+11,\n",
       "       -4.35006971e+13,  5.42871945e+12, -7.53422364e+12, -1.53295653e+13,\n",
       "       -2.54663361e+12, -5.70845941e+12,  1.29242217e+11,  1.69211169e+13,\n",
       "       -2.20510405e+12, -4.41455399e+12, -5.97361396e+12, -8.80837910e+12,\n",
       "       -2.13013397e+12, -4.17865306e+12,  2.91814274e+12, -2.37626248e+12,\n",
       "       -2.96759709e+12,  1.38754556e+12,  8.82698009e+10, -6.62748523e+12,\n",
       "        7.66912673e+12,  2.31652956e+13, -5.89327633e+12, -4.28076719e+12,\n",
       "       -6.14848537e+12,  1.43500829e+13, -5.26345253e+12, -5.03998388e+12,\n",
       "       -3.59289195e+13, -8.43889668e+12,  6.26170532e+12, -1.44438492e+12,\n",
       "       -2.95792937e+12, -2.72524747e+13, -9.25827050e+12, -2.96759709e+12,\n",
       "       -6.85686809e+12, -1.62660873e+13, -6.62748523e+12,  5.42871945e+12,\n",
       "        2.71522949e+13, -5.13507640e+12, -2.54663361e+12, -4.04082834e+12,\n",
       "       -3.68217312e+12,  2.19881286e+13, -1.56091973e+12, -6.23641990e+12,\n",
       "        1.96652860e+13, -6.23515827e+12, -2.13013397e+12, -4.17865306e+12,\n",
       "        8.44926392e+11, -2.37626248e+12, -2.96759709e+12,  1.38754556e+12,\n",
       "        1.24698337e+11, -6.62748523e+12,  5.42871945e+12, -5.33322605e+12,\n",
       "       -3.40980973e+12, -4.41455399e+12, -1.03243760e+13, -6.23515827e+12,\n",
       "        3.49017231e+11, -2.95792937e+12,  1.19362359e+12, -1.49535708e+12,\n",
       "       -2.10066316e+12,  9.82197302e+11, -2.49197638e+10, -9.36261758e+12,\n",
       "        4.09133311e+13, -4.01932993e+12, -5.33322605e+12, -1.90058706e+13,\n",
       "       -2.54663361e+12, -1.71621014e+13,  6.37634471e+13, -1.56091973e+12,\n",
       "        1.23622865e+13, -2.25533012e+13, -3.90767360e+13, -1.59596009e+13,\n",
       "       -2.95792937e+12, -5.37804927e+12, -1.68207709e+12, -2.10066316e+12,\n",
       "        9.82197302e+11,  5.32502178e+13,  2.68365564e+13,  5.42871945e+12,\n",
       "        1.80394482e+13,  3.98614521e+13,  3.35090926e+13, -7.93146200e+12,\n",
       "       -5.26345253e+12,  1.36694595e+13, -4.41455399e+12, -5.97361396e+12,\n",
       "       -9.04253446e+12, -3.00923035e+12,  9.55991232e+12, -7.53684539e+12,\n",
       "       -1.33599598e+13, -2.10066316e+12,  9.82197302e+11,  3.68064462e+13,\n",
       "        1.40098614e+13,  5.42530316e+12, -7.38693297e+12, -4.40142318e+12,\n",
       "       -4.04082834e+12,  1.82579880e+11, -9.09698273e+12,  1.49703524e+13,\n",
       "       -4.41455399e+12, -1.19087091e+13, -1.07764109e+13, -2.13013397e+12,\n",
       "       -4.17865306e+12,  8.44926392e+11, -1.68207709e+12, -2.10066316e+12,\n",
       "        9.82197302e+11,  8.82698009e+10, -6.62748523e+12,  5.42871945e+12,\n",
       "       -1.83517363e+13, -5.89327633e+12, -3.02424519e+12, -5.70845941e+12,\n",
       "        2.09991237e+13, -1.56091973e+12, -6.23641990e+12, -9.97901727e+12,\n",
       "       -1.29221878e+13, -2.95792937e+12,  8.44926392e+11, -1.95291107e+13,\n",
       "       -2.10066316e+12,  1.38754556e+12,  3.46518999e+12, -2.51935866e+13,\n",
       "       -5.97361396e+12, -6.23515827e+12, -1.68207709e+12, -2.96759709e+12,\n",
       "        9.82197302e+11,  1.52559342e+11, -6.62748523e+12,  5.42871945e+12,\n",
       "       -3.00923035e+12, -2.95792937e+12,  8.44926392e+11, -1.14380506e+13,\n",
       "       -4.81702236e+12, -2.54663361e+12,  9.76392364e+11,  4.05488467e+12,\n",
       "       -5.26345253e+12,  2.84036101e+13, -9.20010985e+12, -4.67909182e+13,\n",
       "        2.64777846e+13, -1.82708470e+13, -2.95792937e+12, -4.27256701e+10,\n",
       "        2.57591929e+13, -2.10066316e+12, -6.27541610e+12,  1.24698337e+11,\n",
       "       -6.62748523e+12,  9.69146557e+12, -3.40980973e+12, -2.96759709e+12,\n",
       "        1.38754556e+12,  2.51326370e+12, -1.47557674e+13,  7.66912673e+12,\n",
       "        1.03880357e+13, -5.33322605e+12, -3.40980973e+12, -2.54663361e+12,\n",
       "       -4.04082834e+12,  1.29242217e+11, -1.16395827e+13, -1.56091973e+12,\n",
       "       -1.29905284e+13, -1.35758556e+12,  6.08065664e+12,  1.05990913e+12,\n",
       "       -2.95792937e+12, -2.74177187e+13, -1.68207709e+12, -1.31183295e+13,\n",
       "        2.08395652e+13,  8.82698009e+10, -6.23409148e+12,  5.42871945e+12,\n",
       "        2.53716855e+13,  1.75445817e+13, -2.98711865e+12, -5.26345253e+12,\n",
       "       -2.20510405e+12, -1.54737610e+13, -1.02681265e+13, -1.65637654e+13,\n",
       "       -2.13013397e+12,  3.66860029e+12,  1.68976155e+13, -6.69992196e+11,\n",
       "       -2.10066316e+12,  3.25459863e+12,  8.82698009e+10, -1.84392705e+13,\n",
       "        5.42871945e+12,  1.20813739e+13, -3.59761746e+12, -2.54119193e+10,\n",
       "        9.16718293e+12, -7.43565493e+12,  1.97740618e+13, -4.41455399e+12,\n",
       "       -5.97361396e+12, -8.80837910e+12, -3.00923035e+12, -5.11227795e+12,\n",
       "        1.46031160e+12, -1.68207709e+12, -2.96759709e+12,  1.38754556e+12,\n",
       "       -1.68665028e+13, -2.97862445e+12,  7.66912673e+12, -9.67421058e+12,\n",
       "       -9.21757438e+12, -5.67662898e+11,  1.39687521e+13, -6.98388470e+12,\n",
       "        1.82579880e+11, -9.09698273e+12, -2.20510405e+12, -7.62980594e+12,\n",
       "        2.78531356e+12, -6.23515827e+12, -2.13013397e+12, -2.95792937e+12,\n",
       "       -1.38106443e+13, -1.68207709e+12, -2.10066316e+12, -1.70381451e+13,\n",
       "       -1.58557784e+12,  6.69073745e+12,  5.42871945e+12,  9.82787256e+12,\n",
       "       -4.40142318e+12, -4.31181378e+12,  3.48699533e+12, -1.17188162e+13,\n",
       "       -1.56091973e+12, -9.82878566e+12, -5.97361396e+12, -8.80837910e+12,\n",
       "       -2.13013397e+12, -5.11227795e+12,  8.44926392e+11, -2.13739292e+12,\n",
       "       -2.10066316e+12,  9.82197302e+11,  1.24698337e+11,  5.05820338e+11,\n",
       "       -4.46402976e+12, -5.33322605e+12,  1.20944997e+12,  1.46456102e+13,\n",
       "       -5.70845941e+12,  2.23373197e+11, -2.84727087e+12, -2.69778435e+12,\n",
       "       -6.23641990e+12, -8.43889668e+12, -1.38822708e+13, -2.13013397e+12,\n",
       "        0.00000000e+00,  8.44926392e+11, -2.90718423e+12,  0.00000000e+00,\n",
       "        1.69756103e+12,  1.52559342e+11,  0.00000000e+00,  5.42871945e+12,\n",
       "       -5.33322605e+12,  0.00000000e+00,  0.00000000e+00, -5.70845941e+12,\n",
       "        1.82579880e+11,  0.00000000e+00,  0.00000000e+00, -4.41455399e+12,\n",
       "       -8.43889668e+12,  0.00000000e+00,  0.00000000e+00, -2.95792937e+12,\n",
       "        8.44926392e+11, -2.37626248e+12, -2.54663361e+12,  0.00000000e+00,\n",
       "        0.00000000e+00,  0.00000000e+00, -4.41455399e+12, -5.97361396e+12,\n",
       "       -6.23515827e+12, -2.13013397e+12, -9.74852855e+11,  1.19362359e+12,\n",
       "       -1.68207709e+12,  0.00000000e+00, -5.77436694e+12,  1.24698337e+11,\n",
       "        0.00000000e+00,  0.00000000e+00, -4.01932993e+12,  0.00000000e+00,\n",
       "        0.00000000e+00, -2.54663361e+12, -8.05560077e+12,  0.00000000e+00,\n",
       "        0.00000000e+00,  0.00000000e+00, -4.41455399e+12, -5.97361396e+12,\n",
       "       -6.23515827e+12,  0.00000000e+00, -2.95792937e+12,  1.19362359e+12,\n",
       "       -2.90718423e+12, -2.96759709e+12,  1.69756103e+12,  1.24698337e+11,\n",
       "       -6.62748523e+12,  0.00000000e+00, -3.40980973e+12,  0.00000000e+00,\n",
       "       -5.70845941e+12,  0.00000000e+00, -5.26345253e+12, -1.56091973e+12,\n",
       "       -2.54663361e+12, -4.04082834e+12,  0.00000000e+00,  0.00000000e+00,\n",
       "        0.00000000e+00, -5.97361396e+12,  0.00000000e+00, -2.13013397e+12,\n",
       "        0.00000000e+00,  0.00000000e+00, -1.68207709e+12, -2.10066316e+12,\n",
       "        0.00000000e+00,  8.82698009e+10, -6.62748523e+12,  5.42871945e+12,\n",
       "       -5.33322605e+12,  0.00000000e+00,  1.98223533e+11,  7.85406630e+12,\n",
       "       -9.97385543e+12,  1.32558198e+13, -3.24361775e+12,  1.11929298e+13,\n",
       "        1.89892664e+13,  2.02258359e+13,  9.50670889e+10,  4.71673614e+12,\n",
       "       -1.41997404e+13, -1.45225808e+12,  1.10368641e+12, -1.52417231e+13,\n",
       "       -9.97146100e+12,  2.33557032e+13, -3.33565714e+13,  3.34549215e+12,\n",
       "        1.35964349e+13,  7.99190118e+12, -2.93945312e-01,  1.17187500e-01,\n",
       "       -2.92968750e-01, -1.32031250e+00,  9.72900391e-01, -4.45800781e-01,\n",
       "       -1.72220187e+12,  9.42317478e+12, -1.33730533e+12,  5.19996680e+12,\n",
       "       -1.68404813e+12, -8.31683409e+11, -6.74483329e+10,  7.35092704e+12,\n",
       "       -1.26045171e+11,  1.49701874e+13,  9.55163363e+12, -1.68557381e+11,\n",
       "       -5.10924403e+12, -1.15783362e+13, -5.88629012e+12, -5.46998006e+12,\n",
       "       -6.10091501e+12, -6.06098816e+12,  4.55688234e+12,  2.05580357e+12,\n",
       "       -2.63130702e+11, -8.42806767e+11, -2.51432865e+11, -5.02068181e+12,\n",
       "       -1.82125832e+12, -2.98598836e+11,  2.73437500e-01,  3.16406250e-01,\n",
       "       -1.25000000e-01, -1.70174641e+10, -1.24281038e+10,  1.19156568e+13,\n",
       "        5.64576978e+12, -4.58800909e+09, -4.37560275e+10, -1.50582071e+10,\n",
       "       -1.55231880e+10, -6.61551937e+12, -3.02011736e+09, -4.63582216e+12,\n",
       "       -9.36128316e+09, -9.65898819e+10, -1.62312203e+10, -1.43863375e+10,\n",
       "       -3.12752784e+10, -5.26270593e+09, -6.37931991e+10, -9.70422543e+09,\n",
       "       -6.96284810e+09, -1.78692033e+10, -8.21813417e+09, -5.24187189e+09,\n",
       "       -1.91890337e+10, -3.05732026e+10, -1.17835558e+10, -1.96734213e+11,\n",
       "       -1.20458907e+11, -8.65690727e+09, -5.21370558e+10,  1.05392156e+13,\n",
       "       -6.46873333e+09,  0.00000000e+00, -1.27948642e+10, -3.01735406e+10,\n",
       "       -8.36948539e+09, -9.35307978e+09, -5.79126143e+09, -2.60828318e+09,\n",
       "       -2.49487956e+09, -1.22360837e+10, -6.90115575e+10, -1.30552104e+10,\n",
       "       -5.46497428e+09, -1.06714765e+10,  0.00000000e+00, -1.31246198e+12,\n",
       "       -4.75116289e+10, -1.72671722e+10,  0.00000000e+00, -2.75083527e+10,\n",
       "       -1.36435645e+10,  0.00000000e+00, -5.91636184e+10, -2.04936535e+09,\n",
       "       -8.02735176e+12, -6.60928841e+10,  3.27835101e+11, -5.66325230e+12])"
      ]
     },
     "execution_count": 403,
     "metadata": {},
     "output_type": "execute_result"
    }
   ],
   "source": [
    "ols.coef_ # Estimated coefficients for the linear regression model"
   ]
  },
  {
   "cell_type": "code",
   "execution_count": 404,
   "metadata": {},
   "outputs": [
    {
     "data": {
      "text/plain": [
       "644"
      ]
     },
     "execution_count": 404,
     "metadata": {},
     "output_type": "execute_result"
    }
   ],
   "source": [
    "len(ols.coef_) # there are 208334! corresponding to each our features"
   ]
  },
  {
   "cell_type": "code",
   "execution_count": 405,
   "metadata": {},
   "outputs": [
    {
     "data": {
      "text/plain": [
       "-1.3051299426192008e+28"
      ]
     },
     "execution_count": 405,
     "metadata": {},
     "output_type": "execute_result"
    }
   ],
   "source": [
    "cross_val_score(ols, Z_train, y_train, cv=10).mean()"
   ]
  },
  {
   "cell_type": "markdown",
   "metadata": {},
   "source": [
    "---\n",
    "\n",
    "### 5) Find an optimal value for the ridge regression alpha using `RidgeCV`.\n",
    "\n",
    "Go to the documentation and [read how RidgeCV works](http://scikit-learn.org/stable/modules/generated/sklearn.linear_model.RidgeCV.html).\n",
    "\n",
    "> *Hint: Once the RidgeCV is fit, the attribute `.alpha_` contains the best alpha parameter it found through cross-validation.*\n",
    "\n",
    "Recall that ridge performs best when searching alphas through logarithmic space (`np.logspace`). This may take awhile to fit.\n"
   ]
  },
  {
   "cell_type": "code",
   "execution_count": 406,
   "metadata": {
    "tags": []
   },
   "outputs": [],
   "source": [
    "# A:\n",
    "# Linear least squares with L2 regularization\n",
    "from sklearn.linear_model import Ridge"
   ]
  },
  {
   "cell_type": "code",
   "execution_count": 407,
   "metadata": {},
   "outputs": [
    {
     "name": "stdout",
     "output_type": "stream",
     "text": [
      "0.9464844128495766\n",
      "0.2784709968923821\n"
     ]
    }
   ],
   "source": [
    "# Instantiate.\n",
    "# alpha is the Regularization strength. we're passing 10, instead of the default 1 for stronger regularization.\n",
    "ridge_model = Ridge(alpha=10)\n",
    "\n",
    "# Fit.\n",
    "ridge_model.fit(Z_train, y_train)\n",
    "\n",
    "# Evaluate model using R2.\n",
    "print(ridge_model.score(Z_train, y_train))\n",
    "print(ridge_model.score(Z_test, y_test))"
   ]
  },
  {
   "cell_type": "code",
   "execution_count": 408,
   "metadata": {},
   "outputs": [],
   "source": [
    "# Ridge regression with \"built-in\" cross-validation (advancing from above approach w/o cv)\n",
    "from sklearn.linear_model import RidgeCV"
   ]
  },
  {
   "cell_type": "code",
   "execution_count": 409,
   "metadata": {},
   "outputs": [],
   "source": [
    "# Set up a list of ridge alphas to check.\n",
    "# np.logspace generates 100 values equally between 0 and 5,\n",
    "# then converts them to alphas between 10^0 and 10^5 (that is, in logscale).\n",
    "r_alphas = np.logspace(0, 5, 100)\n",
    "\n",
    "# Cross-validate over our list of ridge alphas.\n",
    "# alphas: pass an Array of alpha values to try. It is still the Regularization strength\n",
    "ridge_cv = RidgeCV(alphas=r_alphas, scoring='r2', cv=5).fit(Z_train, y_train)# fitting 5-fold CV"
   ]
  },
  {
   "cell_type": "code",
   "execution_count": 410,
   "metadata": {},
   "outputs": [
    {
     "data": {
      "text/plain": [
       "0.6293788736644045"
      ]
     },
     "execution_count": 410,
     "metadata": {},
     "output_type": "execute_result"
    }
   ],
   "source": [
    "cross_val_score(ridge_cv, X_train, y_train, cv=5).mean()"
   ]
  },
  {
   "cell_type": "code",
   "execution_count": 411,
   "metadata": {},
   "outputs": [
    {
     "name": "stdout",
     "output_type": "stream",
     "text": [
      "0.8750650011558211\n",
      "0.5625904944948346\n"
     ]
    }
   ],
   "source": [
    "print(ridge_cv.score(Z_train, y_train))\n",
    "print(ridge_cv.score(Z_test, y_test))"
   ]
  },
  {
   "cell_type": "code",
   "execution_count": 412,
   "metadata": {},
   "outputs": [
    {
     "data": {
      "text/plain": [
       "335.1602650938841"
      ]
     },
     "execution_count": 412,
     "metadata": {},
     "output_type": "execute_result"
    }
   ],
   "source": [
    "# getting the optimal value of alpha from ridge cv\n",
    "ridge_cv.alpha_"
   ]
  },
  {
   "cell_type": "markdown",
   "metadata": {},
   "source": [
    "---\n",
    "\n",
    "### 6) Cross-validate the ridge regression $R^2$ with the optimal alpha.\n",
    "\n",
    "Is it better than the linear regression? If so, why might this be?"
   ]
  },
  {
   "cell_type": "code",
   "execution_count": 413,
   "metadata": {},
   "outputs": [
    {
     "name": "stdout",
     "output_type": "stream",
     "text": [
      "0.8750650011558211\n",
      "0.5625904944948346\n"
     ]
    }
   ],
   "source": [
    "# Instantiate.\n",
    "# alpha is the Regularization strength. we're passing 10, instead of the default 1 for stronger regularization.\n",
    "ridge_model_optimal = Ridge(alpha=ridge_cv.alpha_)\n",
    "\n",
    "# Fit.\n",
    "ridge_model_optimal.fit(Z_train, y_train)\n",
    "\n",
    "# Evaluate model using R2.\n",
    "print(ridge_model_optimal.score(Z_train, y_train))\n",
    "print(ridge_model_optimal.score(Z_test, y_test))"
   ]
  },
  {
   "cell_type": "code",
   "execution_count": 414,
   "metadata": {},
   "outputs": [
    {
     "data": {
      "text/plain": [
       "0.6326992686370898"
      ]
     },
     "execution_count": 414,
     "metadata": {},
     "output_type": "execute_result"
    }
   ],
   "source": [
    "ridge_optimal = Ridge(alpha=ridge_cv.alpha_).fit(Z_train, y_train)# fitting using optimal alpha\n",
    "cross_val_score(ridge_optimal, X_train, y_train, cv=5).mean()"
   ]
  },
  {
   "cell_type": "markdown",
   "metadata": {},
   "source": [
    "---\n",
    "\n",
    "### 7) Find an optimal value for lasso regression alpha using `LassoCV`.\n",
    "\n",
    "Go to the documentation and [read how LassoCV works](http://scikit-learn.org/stable/modules/generated/sklearn.linear_model.LassoCV.html). It is very similar to `RidgeCV`.\n",
    "\n",
    "> *Hint: Again, once the `LassoCV` is fit, the attribute `.alpha_` contains the best alpha parameter it found through cross-validation.*\n",
    "\n",
    "Recall that lasso, unlike ridge, performs best when searching for alpha through linear space (`np.linspace`). However, you can actually let the LassoCV decide what alphas to use itself by setting the keyword argument `n_alphas=` to however many alphas you want it to search over. We recommend letting scikit-learn choose the range of alphas.\n",
    "\n",
    "_**Tip:** If you find your CV taking a long time and you're not sure if it's working, set `verbose =1`._"
   ]
  },
  {
   "cell_type": "code",
   "execution_count": 415,
   "metadata": {
    "tags": []
   },
   "outputs": [],
   "source": [
    "# A:\n",
    "# Imports similar to Ridge, this time for Lasso instead\n",
    "from sklearn.linear_model import Lasso, LassoCV"
   ]
  },
  {
   "cell_type": "code",
   "execution_count": 416,
   "metadata": {},
   "outputs": [
    {
     "name": "stdout",
     "output_type": "stream",
     "text": [
      "====== OLS =======\n",
      "0.8913980389697927\n",
      "-3.205409190074203e+26\n",
      "\n",
      "===== Ridge ======\n",
      "0.8750650011558211\n",
      "0.5625904944948346\n"
     ]
    }
   ],
   "source": [
    "# Reminder of results from evaluations before this\n",
    "print(\" OLS \".center(18, \"=\"))# syntax: str.center(width, fillchar=' ')\n",
    "print(ols.score(Z_train, y_train))\n",
    "print(ols.score(Z_test, y_test))\n",
    "print()\n",
    "print(\" Ridge \".center(18, \"=\"))\n",
    "print(ridge_cv.score(Z_train, y_train))\n",
    "print(ridge_cv.score(Z_test, y_test))"
   ]
  },
  {
   "cell_type": "code",
   "execution_count": 417,
   "metadata": {},
   "outputs": [],
   "source": [
    "# Set up a list of Lasso alphas to check.\n",
    "# np.logspace generates 100 values equally between -3 and 0,\n",
    "# then converts them to alphas between 10^-3 and 1 (that is, in logscale).\n",
    "l_alphas = np.logspace(-3, 0, 100)\n",
    "\n",
    "# Cross-validate over our list of Lasso alphas.\n",
    "lasso_cv = LassoCV(alphas=l_alphas, cv=5, max_iter=50000).fit(Z_train, y_train);"
   ]
  },
  {
   "cell_type": "code",
   "execution_count": 418,
   "metadata": {},
   "outputs": [
    {
     "name": "stdout",
     "output_type": "stream",
     "text": [
      "0.7196668311537471\n",
      "0.6149011264405455\n"
     ]
    }
   ],
   "source": [
    "print(lasso_cv.score(Z_train, y_train))\n",
    "print(lasso_cv.score(Z_test, y_test))"
   ]
  },
  {
   "cell_type": "code",
   "execution_count": 419,
   "metadata": {},
   "outputs": [
    {
     "data": {
      "text/plain": [
       "0.16297508346206452"
      ]
     },
     "execution_count": 419,
     "metadata": {},
     "output_type": "execute_result"
    }
   ],
   "source": [
    "# getting the optimal value of alpha from ridge cv\n",
    "lasso_cv.alpha_"
   ]
  },
  {
   "cell_type": "markdown",
   "metadata": {},
   "source": [
    "---\n",
    "\n",
    "### 8) Cross-validate the lasso $R^2$ with the optimal alpha.\n",
    "\n",
    "Is it better than the linear regression? Is it better than ridge? What do the differences in results imply about the issues with the data set?"
   ]
  },
  {
   "cell_type": "code",
   "execution_count": 420,
   "metadata": {
    "tags": []
   },
   "outputs": [],
   "source": [
    "# A:\n",
    "lasso = Lasso(alpha=lasso_cv.alpha_, max_iter=50000).fit(Z_train, y_train);"
   ]
  },
  {
   "cell_type": "code",
   "execution_count": 421,
   "metadata": {},
   "outputs": [
    {
     "data": {
      "text/plain": [
       "0.633037042098754"
      ]
     },
     "execution_count": 421,
     "metadata": {},
     "output_type": "execute_result"
    }
   ],
   "source": [
    "cross_val_score(lasso, X_train, y_train, cv=5).mean()"
   ]
  },
  {
   "cell_type": "markdown",
   "metadata": {},
   "source": [
    "---\n",
    "\n",
    "### 9) Look at the coefficients for variables in the lasso.\n",
    "\n",
    "1. Show the coefficient for variables, ordered from largest to smallest coefficient by absolute value.\n",
    "2. What percent of the variables in the original data set are \"zeroed-out\" by the lasso?\n",
    "3. What are the most important predictors for how many shots Kobe made in a game?\n",
    "\n",
    "> **Note:** If you only fit the lasso within `cross_val_score`, you'll have to refit it outside of that function to pull out the coefficients."
   ]
  },
  {
   "cell_type": "code",
   "execution_count": 422,
   "metadata": {
    "scrolled": true,
    "tags": []
   },
   "outputs": [
    {
     "data": {
      "text/plain": [
       "[0.8515303883972873,\n",
       " 0.7865518923408376,\n",
       " 0.6210117586468541,\n",
       " 0.4242843054534741,\n",
       " 0.42378982331443155,\n",
       " 0.16493637533469765,\n",
       " 0.15486246131194842,\n",
       " 0.14984757547359573,\n",
       " 0.13490928116085993,\n",
       " 0.11330833135914985,\n",
       " 0.10299717076025705,\n",
       " 0.0810146293830309,\n",
       " 0.08085938837752574,\n",
       " 0.0744124741360372,\n",
       " 0.07189895540854414,\n",
       " 0.06457132505889819,\n",
       " 0.06435173416666012,\n",
       " 0.05994883288904505,\n",
       " 0.05966384180662969,\n",
       " 0.05779618541171727,\n",
       " 0.05420645568024566,\n",
       " 0.05188797614293573,\n",
       " 0.05088263442755945,\n",
       " 0.05060056257540534,\n",
       " 0.049635151379158575,\n",
       " 0.04410094141115316,\n",
       " 0.04182929246470884,\n",
       " 0.03824086118668168,\n",
       " 0.038193673061576165,\n",
       " 0.028322156173468806,\n",
       " 0.02735303694966392,\n",
       " 0.020819622638228032,\n",
       " 0.02064626581765416,\n",
       " 0.018979969436110244,\n",
       " 0.017637459241926765,\n",
       " 0.01711760891586881,\n",
       " 0.01634568315907754,\n",
       " 0.01633944560392183,\n",
       " 0.01302978865815941,\n",
       " 0.012150445740555675,\n",
       " 0.011894706057314502,\n",
       " 0.01130212227388311,\n",
       " 0.007243148186839978,\n",
       " 0.006581326904682039,\n",
       " 0.006459416606706969,\n",
       " 0.006131678846534425,\n",
       " 0.0055384555528422835,\n",
       " 0.0,\n",
       " 0.0,\n",
       " 0.0,\n",
       " 0.0,\n",
       " 0.0,\n",
       " 0.0,\n",
       " 0.0,\n",
       " 0.0,\n",
       " 0.0,\n",
       " 0.0,\n",
       " 0.0,\n",
       " 0.0,\n",
       " 0.0,\n",
       " 0.0,\n",
       " 0.0,\n",
       " 0.0,\n",
       " 0.0,\n",
       " 0.0,\n",
       " 0.0,\n",
       " 0.0,\n",
       " 0.0,\n",
       " 0.0,\n",
       " 0.0,\n",
       " 0.0,\n",
       " 0.0,\n",
       " 0.0,\n",
       " 0.0,\n",
       " 0.0,\n",
       " 0.0,\n",
       " 0.0,\n",
       " 0.0,\n",
       " 0.0,\n",
       " 0.0,\n",
       " 0.0,\n",
       " 0.0,\n",
       " 0.0,\n",
       " 0.0,\n",
       " 0.0,\n",
       " 0.0,\n",
       " 0.0,\n",
       " 0.0,\n",
       " 0.0,\n",
       " 0.0,\n",
       " 0.0,\n",
       " 0.0,\n",
       " 0.0,\n",
       " 0.0,\n",
       " 0.0,\n",
       " 0.0,\n",
       " 0.0,\n",
       " 0.0,\n",
       " 0.0,\n",
       " 0.0,\n",
       " 0.0,\n",
       " 0.0,\n",
       " 0.0,\n",
       " 0.0,\n",
       " 0.0,\n",
       " 0.0,\n",
       " 0.0,\n",
       " 0.0,\n",
       " 0.0,\n",
       " 0.0,\n",
       " 0.0,\n",
       " 0.0,\n",
       " 0.0,\n",
       " 0.0,\n",
       " 0.0,\n",
       " 0.0,\n",
       " 0.0,\n",
       " 0.0,\n",
       " 0.0,\n",
       " 0.0,\n",
       " 0.0,\n",
       " 0.0,\n",
       " 0.0,\n",
       " 0.0,\n",
       " 0.0,\n",
       " 0.0,\n",
       " 0.0,\n",
       " 0.0,\n",
       " 0.0,\n",
       " 0.0,\n",
       " 0.0,\n",
       " 0.0,\n",
       " 0.0,\n",
       " 0.0,\n",
       " 0.0,\n",
       " 0.0,\n",
       " 0.0,\n",
       " 0.0,\n",
       " 0.0,\n",
       " 0.0,\n",
       " 0.0,\n",
       " 0.0,\n",
       " 0.0,\n",
       " 0.0,\n",
       " 0.0,\n",
       " 0.0,\n",
       " 0.0,\n",
       " 0.0,\n",
       " 0.0,\n",
       " 0.0,\n",
       " 0.0,\n",
       " 0.0,\n",
       " 0.0,\n",
       " 0.0,\n",
       " 0.0,\n",
       " 0.0,\n",
       " 0.0,\n",
       " 0.0,\n",
       " 0.0,\n",
       " 0.0,\n",
       " 0.0,\n",
       " 0.0,\n",
       " 0.0,\n",
       " 0.0,\n",
       " 0.0,\n",
       " 0.0,\n",
       " 0.0,\n",
       " 0.0,\n",
       " 0.0,\n",
       " 0.0,\n",
       " 0.0,\n",
       " 0.0,\n",
       " 0.0,\n",
       " 0.0,\n",
       " 0.0,\n",
       " 0.0,\n",
       " 0.0,\n",
       " 0.0,\n",
       " 0.0,\n",
       " 0.0,\n",
       " 0.0,\n",
       " 0.0,\n",
       " 0.0,\n",
       " 0.0,\n",
       " 0.0,\n",
       " 0.0,\n",
       " 0.0,\n",
       " 0.0,\n",
       " 0.0,\n",
       " 0.0,\n",
       " 0.0,\n",
       " 0.0,\n",
       " 0.0,\n",
       " 0.0,\n",
       " 0.0,\n",
       " 0.0,\n",
       " 0.0,\n",
       " 0.0,\n",
       " 0.0,\n",
       " 0.0,\n",
       " 0.0,\n",
       " 0.0,\n",
       " 0.0,\n",
       " 0.0,\n",
       " 0.0,\n",
       " 0.0,\n",
       " 0.0,\n",
       " 0.0,\n",
       " 0.0,\n",
       " 0.0,\n",
       " 0.0,\n",
       " 0.0,\n",
       " 0.0,\n",
       " 0.0,\n",
       " 0.0,\n",
       " 0.0,\n",
       " 0.0,\n",
       " 0.0,\n",
       " 0.0,\n",
       " 0.0,\n",
       " 0.0,\n",
       " 0.0,\n",
       " 0.0,\n",
       " 0.0,\n",
       " 0.0,\n",
       " 0.0,\n",
       " 0.0,\n",
       " 0.0,\n",
       " 0.0,\n",
       " 0.0,\n",
       " 0.0,\n",
       " 0.0,\n",
       " 0.0,\n",
       " 0.0,\n",
       " 0.0,\n",
       " 0.0,\n",
       " 0.0,\n",
       " 0.0,\n",
       " 0.0,\n",
       " 0.0,\n",
       " 0.0,\n",
       " 0.0,\n",
       " 0.0,\n",
       " 0.0,\n",
       " 0.0,\n",
       " 0.0,\n",
       " 0.0,\n",
       " 0.0,\n",
       " 0.0,\n",
       " 0.0,\n",
       " 0.0,\n",
       " 0.0,\n",
       " 0.0,\n",
       " 0.0,\n",
       " 0.0,\n",
       " 0.0,\n",
       " 0.0,\n",
       " 0.0,\n",
       " 0.0,\n",
       " 0.0,\n",
       " 0.0,\n",
       " 0.0,\n",
       " 0.0,\n",
       " 0.0,\n",
       " 0.0,\n",
       " 0.0,\n",
       " 0.0,\n",
       " 0.0,\n",
       " 0.0,\n",
       " 0.0,\n",
       " 0.0,\n",
       " 0.0,\n",
       " 0.0,\n",
       " 0.0,\n",
       " 0.0,\n",
       " 0.0,\n",
       " 0.0,\n",
       " 0.0,\n",
       " 0.0,\n",
       " 0.0,\n",
       " 0.0,\n",
       " 0.0,\n",
       " 0.0,\n",
       " 0.0,\n",
       " 0.0,\n",
       " 0.0,\n",
       " 0.0,\n",
       " 0.0,\n",
       " 0.0,\n",
       " 0.0,\n",
       " 0.0,\n",
       " 0.0,\n",
       " 0.0,\n",
       " 0.0,\n",
       " 0.0,\n",
       " 0.0,\n",
       " 0.0,\n",
       " 0.0,\n",
       " 0.0,\n",
       " 0.0,\n",
       " 0.0,\n",
       " 0.0,\n",
       " 0.0,\n",
       " 0.0,\n",
       " 0.0,\n",
       " 0.0,\n",
       " 0.0,\n",
       " 0.0,\n",
       " 0.0,\n",
       " 0.0,\n",
       " 0.0,\n",
       " 0.0,\n",
       " 0.0,\n",
       " 0.0,\n",
       " 0.0,\n",
       " 0.0,\n",
       " 0.0,\n",
       " 0.0,\n",
       " 0.0,\n",
       " 0.0,\n",
       " 0.0,\n",
       " 0.0,\n",
       " 0.0,\n",
       " 0.0,\n",
       " 0.0,\n",
       " 0.0,\n",
       " 0.0,\n",
       " 0.0,\n",
       " 0.0,\n",
       " 0.0,\n",
       " 0.0,\n",
       " 0.0,\n",
       " 0.0,\n",
       " 0.0,\n",
       " 0.0,\n",
       " 0.0,\n",
       " 0.0,\n",
       " 0.0,\n",
       " 0.0,\n",
       " 0.0,\n",
       " 0.0,\n",
       " 0.0,\n",
       " 0.0,\n",
       " 0.0,\n",
       " 0.0,\n",
       " 0.0,\n",
       " 0.0,\n",
       " 0.0,\n",
       " 0.0,\n",
       " 0.0,\n",
       " 0.0,\n",
       " 0.0,\n",
       " 0.0,\n",
       " 0.0,\n",
       " 0.0,\n",
       " 0.0,\n",
       " 0.0,\n",
       " 0.0,\n",
       " 0.0,\n",
       " 0.0,\n",
       " 0.0,\n",
       " 0.0,\n",
       " 0.0,\n",
       " 0.0,\n",
       " 0.0,\n",
       " 0.0,\n",
       " 0.0,\n",
       " 0.0,\n",
       " 0.0,\n",
       " 0.0,\n",
       " 0.0,\n",
       " 0.0,\n",
       " 0.0,\n",
       " 0.0,\n",
       " 0.0,\n",
       " 0.0,\n",
       " 0.0,\n",
       " 0.0,\n",
       " 0.0,\n",
       " 0.0,\n",
       " 0.0,\n",
       " 0.0,\n",
       " 0.0,\n",
       " 0.0,\n",
       " 0.0,\n",
       " 0.0,\n",
       " 0.0,\n",
       " 0.0,\n",
       " 0.0,\n",
       " 0.0,\n",
       " 0.0,\n",
       " 0.0,\n",
       " 0.0,\n",
       " 0.0,\n",
       " 0.0,\n",
       " 0.0,\n",
       " 0.0,\n",
       " 0.0,\n",
       " 0.0,\n",
       " 0.0,\n",
       " 0.0,\n",
       " 0.0,\n",
       " 0.0,\n",
       " 0.0,\n",
       " 0.0,\n",
       " 0.0,\n",
       " 0.0,\n",
       " 0.0,\n",
       " 0.0,\n",
       " 0.0,\n",
       " 0.0,\n",
       " 0.0,\n",
       " 0.0,\n",
       " 0.0,\n",
       " 0.0,\n",
       " 0.0,\n",
       " 0.0,\n",
       " 0.0,\n",
       " 0.0,\n",
       " 0.0,\n",
       " 0.0,\n",
       " 0.0,\n",
       " 0.0,\n",
       " 0.0,\n",
       " 0.0,\n",
       " 0.0,\n",
       " 0.0,\n",
       " 0.0,\n",
       " 0.0,\n",
       " 0.0,\n",
       " 0.0,\n",
       " 0.0,\n",
       " 0.0,\n",
       " 0.0,\n",
       " 0.0,\n",
       " 0.0,\n",
       " 0.0,\n",
       " 0.0,\n",
       " 0.0,\n",
       " 0.0,\n",
       " 0.0,\n",
       " 0.0,\n",
       " 0.0,\n",
       " 0.0,\n",
       " 0.0,\n",
       " 0.0,\n",
       " 0.0,\n",
       " 0.0,\n",
       " 0.0,\n",
       " 0.0,\n",
       " 0.0,\n",
       " 0.0,\n",
       " 0.0,\n",
       " 0.0,\n",
       " 0.0,\n",
       " 0.0,\n",
       " 0.0,\n",
       " 0.0,\n",
       " 0.0,\n",
       " 0.0,\n",
       " 0.0,\n",
       " 0.0,\n",
       " 0.0,\n",
       " 0.0,\n",
       " 0.0,\n",
       " 0.0,\n",
       " 0.0,\n",
       " 0.0,\n",
       " 0.0,\n",
       " 0.0,\n",
       " 0.0,\n",
       " 0.0,\n",
       " 0.0,\n",
       " 0.0,\n",
       " 0.0,\n",
       " 0.0,\n",
       " 0.0,\n",
       " 0.0,\n",
       " 0.0,\n",
       " 0.0,\n",
       " 0.0,\n",
       " 0.0,\n",
       " 0.0,\n",
       " 0.0,\n",
       " 0.0,\n",
       " 0.0,\n",
       " 0.0,\n",
       " 0.0,\n",
       " 0.0,\n",
       " 0.0,\n",
       " 0.0,\n",
       " 0.0,\n",
       " 0.0,\n",
       " 0.0,\n",
       " 0.0,\n",
       " 0.0,\n",
       " 0.0,\n",
       " 0.0,\n",
       " 0.0,\n",
       " 0.0,\n",
       " 0.0,\n",
       " 0.0,\n",
       " 0.0,\n",
       " 0.0,\n",
       " 0.0,\n",
       " 0.0,\n",
       " 0.0,\n",
       " 0.0,\n",
       " 0.0,\n",
       " 0.0,\n",
       " 0.0,\n",
       " 0.0,\n",
       " 0.0,\n",
       " 0.0,\n",
       " 0.0,\n",
       " 0.0,\n",
       " 0.0,\n",
       " 0.0,\n",
       " 0.0,\n",
       " 0.0,\n",
       " 0.0,\n",
       " 0.0,\n",
       " 0.0,\n",
       " 0.0,\n",
       " 0.0,\n",
       " 0.0,\n",
       " 0.0,\n",
       " 0.0,\n",
       " 0.0,\n",
       " 0.0,\n",
       " 0.0,\n",
       " 0.0,\n",
       " 0.0,\n",
       " 0.0,\n",
       " 0.0,\n",
       " 0.0,\n",
       " 0.0,\n",
       " 0.0,\n",
       " 0.0,\n",
       " 0.0,\n",
       " 0.0,\n",
       " 0.0,\n",
       " 0.0,\n",
       " 0.0,\n",
       " 0.0,\n",
       " 0.0,\n",
       " 0.0,\n",
       " 0.0,\n",
       " 0.0,\n",
       " 0.0,\n",
       " 0.0,\n",
       " 0.0,\n",
       " 0.0,\n",
       " 0.0,\n",
       " 0.0,\n",
       " 0.0,\n",
       " 0.0,\n",
       " 0.0,\n",
       " 0.0,\n",
       " 0.0,\n",
       " 0.0,\n",
       " 0.0,\n",
       " 0.0,\n",
       " 0.0,\n",
       " 0.0,\n",
       " 0.0,\n",
       " 0.0,\n",
       " 0.0,\n",
       " 0.0,\n",
       " 0.0,\n",
       " 0.0,\n",
       " 0.0,\n",
       " 0.0,\n",
       " 0.0,\n",
       " 0.0,\n",
       " 0.0,\n",
       " 0.0,\n",
       " 0.0,\n",
       " 0.0,\n",
       " 0.0,\n",
       " 0.0,\n",
       " 0.0,\n",
       " 0.0,\n",
       " 0.0,\n",
       " 0.0,\n",
       " 0.0,\n",
       " 0.0,\n",
       " 0.0,\n",
       " 0.0,\n",
       " 0.0,\n",
       " 0.0,\n",
       " 0.0,\n",
       " 0.0,\n",
       " 0.0,\n",
       " 0.0,\n",
       " 0.0,\n",
       " 0.0,\n",
       " 0.0,\n",
       " 0.0,\n",
       " 0.0,\n",
       " 0.0,\n",
       " 0.0,\n",
       " 0.0,\n",
       " 0.0,\n",
       " 0.0,\n",
       " 0.0,\n",
       " 0.0,\n",
       " 0.0,\n",
       " 0.0,\n",
       " 0.0,\n",
       " 0.0,\n",
       " 0.0,\n",
       " 0.0,\n",
       " 0.0,\n",
       " 0.0,\n",
       " 0.0,\n",
       " 0.0,\n",
       " 0.0,\n",
       " 0.0,\n",
       " 0.0,\n",
       " 0.0,\n",
       " 0.0,\n",
       " 0.0,\n",
       " 0.0,\n",
       " 0.0,\n",
       " 0.0,\n",
       " 0.0,\n",
       " 0.0,\n",
       " 0.0,\n",
       " 0.0,\n",
       " 0.0,\n",
       " 0.0,\n",
       " 0.0,\n",
       " 0.0,\n",
       " 0.0,\n",
       " 0.0,\n",
       " 0.0,\n",
       " 0.0,\n",
       " 0.0,\n",
       " 0.0,\n",
       " 0.0,\n",
       " 0.0,\n",
       " 0.0,\n",
       " 0.0]"
      ]
     },
     "execution_count": 422,
     "metadata": {},
     "output_type": "execute_result"
    }
   ],
   "source": [
    "# A:\n",
    "sorted(np.absolute(lasso_cv.coef_),reverse=True)"
   ]
  },
  {
   "cell_type": "code",
   "execution_count": 423,
   "metadata": {},
   "outputs": [
    {
     "name": "stdout",
     "output_type": "stream",
     "text": [
      "92.70186335403727% of variables are \"zeroed-out\"\n"
     ]
    }
   ],
   "source": [
    "print(f'{(1-np.count_nonzero(lasso_cv.coef_)/len(lasso_cv.coef_))*100}% of variables are \"zeroed-out\"')"
   ]
  },
  {
   "cell_type": "code",
   "execution_count": 424,
   "metadata": {},
   "outputs": [
    {
     "data": {
      "text/plain": [
       "Index(['SHOT_TYPE:2pt_field_goal'], dtype='object')"
      ]
     },
     "execution_count": 424,
     "metadata": {},
     "output_type": "execute_result"
    }
   ],
   "source": [
    "X.columns[np.where(lasso_cv.coef_==lasso_cv.coef_[lasso_cv.coef_==max(lasso_cv.coef_)])]"
   ]
  },
  {
   "cell_type": "code",
   "execution_count": 425,
   "metadata": {},
   "outputs": [
    {
     "data": {
      "text/plain": [
       "Index(['SEASON_OPPONENT:bos:2001-02', 'SEASON_OPPONENT:bos:2008-09',\n",
       "       'SEASON_OPPONENT:dal:2003-04', 'SEASON_OPPONENT:dal:2012-13',\n",
       "       'SEASON_OPPONENT:den:2006-07', 'SEASON_OPPONENT:det:2011-12',\n",
       "       'SEASON_OPPONENT:det:2015-16', 'SEASON_OPPONENT:gsw:2000-01',\n",
       "       'SEASON_OPPONENT:gsw:2010-11', 'SEASON_OPPONENT:ind:2002-03',\n",
       "       'SEASON_OPPONENT:lac:2003-04', 'SEASON_OPPONENT:mem:2009-10',\n",
       "       'SEASON_OPPONENT:mia:2012-13', 'SEASON_OPPONENT:mil:2009-10',\n",
       "       'SEASON_OPPONENT:njn:2000-01', 'SEASON_OPPONENT:njn:2006-07',\n",
       "       'SEASON_OPPONENT:noh:2011-12', 'SEASON_OPPONENT:nyk:2008-09',\n",
       "       'SEASON_OPPONENT:okc:2014-15', 'SEASON_OPPONENT:orl:2000-01',\n",
       "       'SEASON_OPPONENT:phx:2007-08', 'SEASON_OPPONENT:por:2003-04',\n",
       "       'SEASON_OPPONENT:por:2005-06', 'SEASON_OPPONENT:sac:1999-00',\n",
       "       'SEASON_OPPONENT:sas:2014-15', 'SEASON_OPPONENT:sea:1998-99',\n",
       "       'SEASON_OPPONENT:tor:2004-05', 'SEASON_OPPONENT:uta:2001-02',\n",
       "       'SEASON_OPPONENT:uta:2015-16', 'SEASON_OPPONENT:was:2002-03',\n",
       "       'SEASON_OPPONENT:was:2012-13', 'SEASON:1998-99', 'SEASON:2005-06',\n",
       "       'SEASON:2007-08', 'SHOT_ZONE_AREA:center(c)',\n",
       "       'SHOT_ZONE_AREA:right_side_center(rc)', 'SHOT_TYPE:2pt_field_goal',\n",
       "       'COMBINED_SHOT_TYPE:dunk', 'COMBINED_SHOT_TYPE:jump_shot',\n",
       "       'SECONDS_REMAINING', 'ACTION_TYPE:driving_finger_roll_layup_shot',\n",
       "       'ACTION_TYPE:driving_hook_shot', 'ACTION_TYPE:jump_bank_shot',\n",
       "       'ACTION_TYPE:jump_shot', 'ACTION_TYPE:layup_shot',\n",
       "       'ACTION_TYPE:reverse_dunk_shot', 'ACTION_TYPE:running_hook_shot'],\n",
       "      dtype='object')"
      ]
     },
     "execution_count": 425,
     "metadata": {},
     "output_type": "execute_result"
    }
   ],
   "source": [
    "X.columns[np.nonzero(lasso_cv.coef_)]"
   ]
  },
  {
   "cell_type": "markdown",
   "metadata": {},
   "source": [
    "---\n",
    "\n",
    "### 10) Find an optimal value for elastic net regression alpha using `ElasticNetCV`.\n",
    "\n",
    "Go to the documentation and [read how ElasticNetCV works](http://scikit-learn.org/stable/modules/generated/sklearn.linear_model.ElasticNetCV.html).\n",
    "\n",
    "Note that here you'll be optimizing both the alpha parameter and the l1_ratio:\n",
    "- `alpha`: Strength of regularization.\n",
    "- `l1_ratio`: Amount of ridge vs. lasso (0 = all ridge, 1 = all lasso).\n",
    "    \n",
    "Do not include 0 in the search for `l1_ratio` — it won't allow it and will break.\n",
    "\n",
    "You can use `n_alphas` for the alpha parameters instead of setting your own values, which we highly recommend.\n",
    "\n",
    "Also, be careful setting too many l1_ratios over cross-validation folds in your search. It can take a long time if you choose too many combinations and, for the most part, there are diminishing returns in this data."
   ]
  },
  {
   "cell_type": "code",
   "execution_count": 426,
   "metadata": {},
   "outputs": [],
   "source": [
    "# A:\n",
    "from sklearn.linear_model import ElasticNet\n",
    "from sklearn.linear_model import ElasticNetCV"
   ]
  },
  {
   "cell_type": "code",
   "execution_count": 427,
   "metadata": {},
   "outputs": [
    {
     "name": "stdout",
     "output_type": "stream",
     "text": [
      "0.6270896676579155\n",
      "0.6016530116245435\n"
     ]
    }
   ],
   "source": [
    "# Instantiate model.\n",
    "enet_model = ElasticNetCV(cv=5)\n",
    "\n",
    "# Fit model using optimal alpha.\n",
    "enet_model = enet_model.fit(X_train, y_train)\n",
    "\n",
    "# Generate predictions.\n",
    "enet_model_preds = enet_model.predict(X_test)\n",
    "enet_model_preds_train = enet_model.predict(X_train)\n",
    "\n",
    "# Evaluate model.\n",
    "print(enet_model.score(X_train, y_train))\n",
    "print(enet_model.score(X_test, y_test))"
   ]
  },
  {
   "cell_type": "code",
   "execution_count": 428,
   "metadata": {},
   "outputs": [
    {
     "data": {
      "text/plain": [
       "1.2679102751628921"
      ]
     },
     "execution_count": 428,
     "metadata": {},
     "output_type": "execute_result"
    }
   ],
   "source": [
    "# Here is the optimal value of alpha.\n",
    "enet_model.alpha_"
   ]
  },
  {
   "cell_type": "code",
   "execution_count": 429,
   "metadata": {},
   "outputs": [
    {
     "data": {
      "text/plain": [
       "0.5"
      ]
     },
     "execution_count": 429,
     "metadata": {},
     "output_type": "execute_result"
    }
   ],
   "source": [
    "enet_model.l1_ratio_"
   ]
  },
  {
   "cell_type": "code",
   "execution_count": 430,
   "metadata": {},
   "outputs": [],
   "source": [
    "enet_model = ElasticNet(alpha=enet_model.alpha_,l1_ratio=enet_model.l1_ratio_)"
   ]
  },
  {
   "cell_type": "markdown",
   "metadata": {},
   "source": [
    "---\n",
    "\n",
    "### 11) Cross-validate the elastic net $R^2$ with the optimal alpha and l1_ratio.\n",
    "\n",
    "How does it compare to the ridge and lasso regularized regressions?\n",
    "Ans: It performed worse than both Ridge and Lasso regularized regressions."
   ]
  },
  {
   "cell_type": "code",
   "execution_count": 433,
   "metadata": {
    "tags": []
   },
   "outputs": [
    {
     "data": {
      "text/plain": [
       "0.6027926243442903"
      ]
     },
     "execution_count": 433,
     "metadata": {},
     "output_type": "execute_result"
    }
   ],
   "source": [
    "# A:\n",
    "cross_val_score(enet_model, X_train, y_train, cv=5).mean()"
   ]
  },
  {
   "cell_type": "markdown",
   "metadata": {},
   "source": [
    "---\n",
    "\n",
    "### 12. [Bonus] Compare the residuals for ridge and lasso visually.\n"
   ]
  },
  {
   "cell_type": "code",
   "execution_count": null,
   "metadata": {
    "tags": []
   },
   "outputs": [],
   "source": [
    "# A: Maybe a jointplot?"
   ]
  }
 ],
 "metadata": {
  "kernelspec": {
   "display_name": "Python 3",
   "language": "python",
   "name": "python3"
  },
  "language_info": {
   "codemirror_mode": {
    "name": "ipython",
    "version": 3
   },
   "file_extension": ".py",
   "mimetype": "text/x-python",
   "name": "python",
   "nbconvert_exporter": "python",
   "pygments_lexer": "ipython3",
   "version": "3.8.8"
  }
 },
 "nbformat": 4,
 "nbformat_minor": 4
}
