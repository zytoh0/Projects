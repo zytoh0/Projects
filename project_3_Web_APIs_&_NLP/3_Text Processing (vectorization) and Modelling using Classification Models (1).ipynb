{
 "cells": [
  {
   "cell_type": "markdown",
   "id": "87481d70",
   "metadata": {},
   "source": [
    "### 3.1 Import files"
   ]
  },
  {
   "cell_type": "markdown",
   "id": "a5a27ac1",
   "metadata": {},
   "source": [
    "Re-run accuracy table (fit on test set). "
   ]
  },
  {
   "cell_type": "code",
   "execution_count": 1,
   "id": "ce3a6e88",
   "metadata": {},
   "outputs": [],
   "source": [
    "# imports\n",
    "import pandas as pd\n",
    "import numpy as np\n",
    "import seaborn as sns\n",
    "import matplotlib.pyplot as plt\n",
    "from sklearn.model_selection import train_test_split, GridSearchCV\n",
    "from sklearn.linear_model import LogisticRegression\n",
    "from sklearn.pipeline import Pipeline\n",
    "from sklearn.naive_bayes import MultinomialNB\n",
    "\n",
    "# Import CountVectorizer and TFIDFVectorizer from feature_extraction.text.\n",
    "import sklearn.feature_extraction.text \n",
    "from sklearn.feature_extraction.text import TfidfVectorizer, TfidfTransformer, CountVectorizer\n",
    "\n",
    "from sklearn.ensemble import RandomForestClassifier\n",
    "from sklearn.metrics import plot_confusion_matrix, confusion_matrix, mean_squared_error, classification_report\n",
    "from sklearn.metrics import accuracy_score, precision_score, recall_score, f1_score, roc_auc_score\n"
   ]
  },
  {
   "cell_type": "code",
   "execution_count": 2,
   "id": "1a3a5c36",
   "metadata": {},
   "outputs": [],
   "source": [
    "df = pd.read_csv('../project_3/CSV files/final_df.csv')"
   ]
  },
  {
   "cell_type": "code",
   "execution_count": 3,
   "id": "7db8f4ea",
   "metadata": {},
   "outputs": [],
   "source": [
    "df.drop(columns ='Unnamed: 0', axis=1, inplace=True) #to drop unnamed column\n"
   ]
  },
  {
   "cell_type": "code",
   "execution_count": 4,
   "id": "279feb3f",
   "metadata": {
    "scrolled": false
   },
   "outputs": [
    {
     "name": "stdout",
     "output_type": "stream",
     "text": [
      "(19912, 2)\n",
      "<class 'pandas.core.frame.DataFrame'>\n",
      "RangeIndex: 19912 entries, 0 to 19911\n",
      "Data columns (total 2 columns):\n",
      " #   Column       Non-Null Count  Dtype \n",
      "---  ------       --------------  ----- \n",
      " 0   subreddit    19912 non-null  int64 \n",
      " 1   clean_title  19892 non-null  object\n",
      "dtypes: int64(1), object(1)\n",
      "memory usage: 311.2+ KB\n"
     ]
    }
   ],
   "source": [
    "print(df.shape)\n",
    "df.info()"
   ]
  },
  {
   "cell_type": "markdown",
   "id": "f48d4712",
   "metadata": {},
   "source": [
    "- I noticed when the new_df got saved in the previous python notebook, the 'nan' values under the clean_title gets recognized. Time to clean it!"
   ]
  },
  {
   "cell_type": "code",
   "execution_count": 5,
   "id": "3c15cc6c",
   "metadata": {},
   "outputs": [],
   "source": [
    "bool_series = pd.isnull(df[\"clean_title\"]) "
   ]
  },
  {
   "cell_type": "code",
   "execution_count": 6,
   "id": "5f3b6694",
   "metadata": {},
   "outputs": [
    {
     "data": {
      "text/html": [
       "<div>\n",
       "<style scoped>\n",
       "    .dataframe tbody tr th:only-of-type {\n",
       "        vertical-align: middle;\n",
       "    }\n",
       "\n",
       "    .dataframe tbody tr th {\n",
       "        vertical-align: top;\n",
       "    }\n",
       "\n",
       "    .dataframe thead th {\n",
       "        text-align: right;\n",
       "    }\n",
       "</style>\n",
       "<table border=\"1\" class=\"dataframe\">\n",
       "  <thead>\n",
       "    <tr style=\"text-align: right;\">\n",
       "      <th></th>\n",
       "      <th>subreddit</th>\n",
       "      <th>clean_title</th>\n",
       "    </tr>\n",
       "  </thead>\n",
       "  <tbody>\n",
       "    <tr>\n",
       "      <th>1812</th>\n",
       "      <td>1</td>\n",
       "      <td>NaN</td>\n",
       "    </tr>\n",
       "    <tr>\n",
       "      <th>2790</th>\n",
       "      <td>1</td>\n",
       "      <td>NaN</td>\n",
       "    </tr>\n",
       "    <tr>\n",
       "      <th>2935</th>\n",
       "      <td>1</td>\n",
       "      <td>NaN</td>\n",
       "    </tr>\n",
       "    <tr>\n",
       "      <th>3719</th>\n",
       "      <td>1</td>\n",
       "      <td>NaN</td>\n",
       "    </tr>\n",
       "    <tr>\n",
       "      <th>5906</th>\n",
       "      <td>1</td>\n",
       "      <td>NaN</td>\n",
       "    </tr>\n",
       "    <tr>\n",
       "      <th>7504</th>\n",
       "      <td>1</td>\n",
       "      <td>NaN</td>\n",
       "    </tr>\n",
       "    <tr>\n",
       "      <th>9052</th>\n",
       "      <td>1</td>\n",
       "      <td>NaN</td>\n",
       "    </tr>\n",
       "    <tr>\n",
       "      <th>10670</th>\n",
       "      <td>0</td>\n",
       "      <td>NaN</td>\n",
       "    </tr>\n",
       "    <tr>\n",
       "      <th>11315</th>\n",
       "      <td>0</td>\n",
       "      <td>NaN</td>\n",
       "    </tr>\n",
       "    <tr>\n",
       "      <th>12534</th>\n",
       "      <td>0</td>\n",
       "      <td>NaN</td>\n",
       "    </tr>\n",
       "    <tr>\n",
       "      <th>12845</th>\n",
       "      <td>0</td>\n",
       "      <td>NaN</td>\n",
       "    </tr>\n",
       "    <tr>\n",
       "      <th>12983</th>\n",
       "      <td>0</td>\n",
       "      <td>NaN</td>\n",
       "    </tr>\n",
       "    <tr>\n",
       "      <th>13771</th>\n",
       "      <td>0</td>\n",
       "      <td>NaN</td>\n",
       "    </tr>\n",
       "    <tr>\n",
       "      <th>13815</th>\n",
       "      <td>0</td>\n",
       "      <td>NaN</td>\n",
       "    </tr>\n",
       "    <tr>\n",
       "      <th>14428</th>\n",
       "      <td>0</td>\n",
       "      <td>NaN</td>\n",
       "    </tr>\n",
       "    <tr>\n",
       "      <th>15036</th>\n",
       "      <td>0</td>\n",
       "      <td>NaN</td>\n",
       "    </tr>\n",
       "    <tr>\n",
       "      <th>16633</th>\n",
       "      <td>0</td>\n",
       "      <td>NaN</td>\n",
       "    </tr>\n",
       "    <tr>\n",
       "      <th>17118</th>\n",
       "      <td>0</td>\n",
       "      <td>NaN</td>\n",
       "    </tr>\n",
       "    <tr>\n",
       "      <th>18080</th>\n",
       "      <td>0</td>\n",
       "      <td>NaN</td>\n",
       "    </tr>\n",
       "    <tr>\n",
       "      <th>18595</th>\n",
       "      <td>0</td>\n",
       "      <td>NaN</td>\n",
       "    </tr>\n",
       "  </tbody>\n",
       "</table>\n",
       "</div>"
      ],
      "text/plain": [
       "       subreddit clean_title\n",
       "1812           1         NaN\n",
       "2790           1         NaN\n",
       "2935           1         NaN\n",
       "3719           1         NaN\n",
       "5906           1         NaN\n",
       "7504           1         NaN\n",
       "9052           1         NaN\n",
       "10670          0         NaN\n",
       "11315          0         NaN\n",
       "12534          0         NaN\n",
       "12845          0         NaN\n",
       "12983          0         NaN\n",
       "13771          0         NaN\n",
       "13815          0         NaN\n",
       "14428          0         NaN\n",
       "15036          0         NaN\n",
       "16633          0         NaN\n",
       "17118          0         NaN\n",
       "18080          0         NaN\n",
       "18595          0         NaN"
      ]
     },
     "execution_count": 6,
     "metadata": {},
     "output_type": "execute_result"
    }
   ],
   "source": [
    "df[bool_series] #shows nan values under \"clean_title\" column"
   ]
  },
  {
   "cell_type": "code",
   "execution_count": 7,
   "id": "be1e6f93",
   "metadata": {},
   "outputs": [],
   "source": [
    "df.dropna(subset = [\"clean_title\"], inplace=True)"
   ]
  },
  {
   "cell_type": "code",
   "execution_count": 8,
   "id": "17187d61",
   "metadata": {
    "scrolled": true
   },
   "outputs": [
    {
     "data": {
      "text/plain": [
       "subreddit      0\n",
       "clean_title    0\n",
       "dtype: int64"
      ]
     },
     "execution_count": 8,
     "metadata": {},
     "output_type": "execute_result"
    }
   ],
   "source": [
    "df.isna().sum()"
   ]
  },
  {
   "cell_type": "code",
   "execution_count": 9,
   "id": "5f9b08de",
   "metadata": {
    "scrolled": false
   },
   "outputs": [
    {
     "name": "stdout",
     "output_type": "stream",
     "text": [
      "<class 'pandas.core.frame.DataFrame'>\n",
      "Int64Index: 19892 entries, 0 to 19911\n",
      "Data columns (total 2 columns):\n",
      " #   Column       Non-Null Count  Dtype \n",
      "---  ------       --------------  ----- \n",
      " 0   subreddit    19892 non-null  int64 \n",
      " 1   clean_title  19892 non-null  object\n",
      "dtypes: int64(1), object(1)\n",
      "memory usage: 466.2+ KB\n",
      "None\n"
     ]
    }
   ],
   "source": [
    "print(df.info()) #no more isna "
   ]
  },
  {
   "cell_type": "markdown",
   "id": "901df9e0",
   "metadata": {},
   "source": [
    "### Setting up data for modelling"
   ]
  },
  {
   "cell_type": "code",
   "execution_count": 10,
   "id": "dd2af18e",
   "metadata": {},
   "outputs": [],
   "source": [
    "X = df['clean_title']\n",
    "y = df['subreddit']"
   ]
  },
  {
   "cell_type": "code",
   "execution_count": 11,
   "id": "afcf6289",
   "metadata": {},
   "outputs": [],
   "source": [
    "# Split the data into the training and testing sets.\n",
    "X_train, X_test, y_train, y_test = train_test_split(X,\n",
    "                                                    y,\n",
    "                                                    test_size=0.33,\n",
    "                                                    stratify=y,\n",
    "                                                    random_state=42)"
   ]
  },
  {
   "cell_type": "code",
   "execution_count": 12,
   "id": "1855c7e2",
   "metadata": {},
   "outputs": [
    {
     "data": {
      "text/plain": [
       "'love cute littl cat'"
      ]
     },
     "execution_count": 12,
     "metadata": {},
     "output_type": "execute_result"
    }
   ],
   "source": [
    "X_train.iloc[0]"
   ]
  },
  {
   "cell_type": "markdown",
   "id": "d16295cd",
   "metadata": {},
   "source": [
    "### Running a simple CountVectorizer & Explore hyperparameters"
   ]
  },
  {
   "cell_type": "code",
   "execution_count": 13,
   "id": "4c2e39bb",
   "metadata": {},
   "outputs": [],
   "source": [
    "# CountVectorizer, stop_words='english', max_features=100\n",
    "cvec = CountVectorizer(stop_words='english', max_features=100)\n",
    "cvec.fit(X_train)\n",
    "X_train = cvec.transform(X_train)\n",
    "\n",
    "X_train_df = pd.DataFrame(X_train.toarray(),columns=cvec.get_feature_names())"
   ]
  },
  {
   "cell_type": "code",
   "execution_count": 14,
   "id": "6841b70b",
   "metadata": {
    "scrolled": true
   },
   "outputs": [
    {
     "data": {
      "text/plain": [
       "dog       4298\n",
       "cat       2378\n",
       "help       783\n",
       "old        574\n",
       "like       518\n",
       "love       459\n",
       "need       452\n",
       "good       451\n",
       "puppi      441\n",
       "new        419\n",
       "year       377\n",
       "look       373\n",
       "littl      362\n",
       "kitten     353\n",
       "breed      341\n",
       "advic      319\n",
       "food       308\n",
       "know       308\n",
       "anyon      307\n",
       "eat        305\n",
       "dtype: int64"
      ]
     },
     "execution_count": 14,
     "metadata": {},
     "output_type": "execute_result"
    }
   ],
   "source": [
    "X_train_df.sum().sort_values(ascending=False).head(20)"
   ]
  },
  {
   "cell_type": "markdown",
   "id": "bb719c6f",
   "metadata": {},
   "source": [
    "- Apart from cats and dogs, the word 'help' seems to appear a lot. Perhaps dogs and cats owners use Reddit as a help forum?\n",
    "- Based on the word 'love', perhaps alot of owners really love their pets. \n",
    "- 'Breed' might be an topic of interest amongst pet owners\n",
    "- The words \"like\" and \"love\" all appeared here, which can be used maybe as an indicator of either dog or cat's popularity. We may try max_df and min_df this time to rule out words that appear in too many documents."
   ]
  },
  {
   "cell_type": "code",
   "execution_count": 15,
   "id": "2de6764d",
   "metadata": {},
   "outputs": [],
   "source": [
    "#Understand which words belong udner which subreddit\n",
    "n_words = 40\n",
    "words = list(X_train_df.sum().sort_values(ascending=False)[:n_words].index)\n",
    "X_train_df['subreddit'] = y_train.values"
   ]
  },
  {
   "cell_type": "code",
   "execution_count": 16,
   "id": "3f472aac",
   "metadata": {
    "scrolled": false
   },
   "outputs": [
    {
     "data": {
      "text/plain": [
       "<pandas.core.groupby.generic.DataFrameGroupBy object at 0x126be8eb0>"
      ]
     },
     "execution_count": 16,
     "metadata": {},
     "output_type": "execute_result"
    }
   ],
   "source": [
    "X_train_df.groupby('subreddit')"
   ]
  },
  {
   "cell_type": "code",
   "execution_count": 17,
   "id": "e88b832d",
   "metadata": {
    "scrolled": true
   },
   "outputs": [
    {
     "data": {
      "text/html": [
       "<div>\n",
       "<style scoped>\n",
       "    .dataframe tbody tr th:only-of-type {\n",
       "        vertical-align: middle;\n",
       "    }\n",
       "\n",
       "    .dataframe tbody tr th {\n",
       "        vertical-align: top;\n",
       "    }\n",
       "\n",
       "    .dataframe thead th {\n",
       "        text-align: right;\n",
       "    }\n",
       "</style>\n",
       "<table border=\"1\" class=\"dataframe\">\n",
       "  <thead>\n",
       "    <tr style=\"text-align: right;\">\n",
       "      <th>subreddit</th>\n",
       "      <th>0</th>\n",
       "      <th>1</th>\n",
       "    </tr>\n",
       "  </thead>\n",
       "  <tbody>\n",
       "    <tr>\n",
       "      <th>dog</th>\n",
       "      <td>55</td>\n",
       "      <td>4243</td>\n",
       "    </tr>\n",
       "    <tr>\n",
       "      <th>cat</th>\n",
       "      <td>2324</td>\n",
       "      <td>54</td>\n",
       "    </tr>\n",
       "    <tr>\n",
       "      <th>help</th>\n",
       "      <td>197</td>\n",
       "      <td>586</td>\n",
       "    </tr>\n",
       "    <tr>\n",
       "      <th>old</th>\n",
       "      <td>261</td>\n",
       "      <td>313</td>\n",
       "    </tr>\n",
       "    <tr>\n",
       "      <th>like</th>\n",
       "      <td>352</td>\n",
       "      <td>166</td>\n",
       "    </tr>\n",
       "    <tr>\n",
       "      <th>love</th>\n",
       "      <td>390</td>\n",
       "      <td>69</td>\n",
       "    </tr>\n",
       "    <tr>\n",
       "      <th>need</th>\n",
       "      <td>156</td>\n",
       "      <td>296</td>\n",
       "    </tr>\n",
       "    <tr>\n",
       "      <th>good</th>\n",
       "      <td>227</td>\n",
       "      <td>224</td>\n",
       "    </tr>\n",
       "    <tr>\n",
       "      <th>puppi</th>\n",
       "      <td>2</td>\n",
       "      <td>439</td>\n",
       "    </tr>\n",
       "    <tr>\n",
       "      <th>new</th>\n",
       "      <td>238</td>\n",
       "      <td>181</td>\n",
       "    </tr>\n",
       "    <tr>\n",
       "      <th>year</th>\n",
       "      <td>220</td>\n",
       "      <td>157</td>\n",
       "    </tr>\n",
       "    <tr>\n",
       "      <th>look</th>\n",
       "      <td>237</td>\n",
       "      <td>136</td>\n",
       "    </tr>\n",
       "    <tr>\n",
       "      <th>littl</th>\n",
       "      <td>327</td>\n",
       "      <td>35</td>\n",
       "    </tr>\n",
       "    <tr>\n",
       "      <th>kitten</th>\n",
       "      <td>345</td>\n",
       "      <td>8</td>\n",
       "    </tr>\n",
       "    <tr>\n",
       "      <th>breed</th>\n",
       "      <td>76</td>\n",
       "      <td>265</td>\n",
       "    </tr>\n",
       "    <tr>\n",
       "      <th>advic</th>\n",
       "      <td>68</td>\n",
       "      <td>251</td>\n",
       "    </tr>\n",
       "    <tr>\n",
       "      <th>food</th>\n",
       "      <td>118</td>\n",
       "      <td>190</td>\n",
       "    </tr>\n",
       "    <tr>\n",
       "      <th>know</th>\n",
       "      <td>165</td>\n",
       "      <td>143</td>\n",
       "    </tr>\n",
       "    <tr>\n",
       "      <th>anyon</th>\n",
       "      <td>138</td>\n",
       "      <td>169</td>\n",
       "    </tr>\n",
       "    <tr>\n",
       "      <th>eat</th>\n",
       "      <td>80</td>\n",
       "      <td>225</td>\n",
       "    </tr>\n",
       "    <tr>\n",
       "      <th>time</th>\n",
       "      <td>169</td>\n",
       "      <td>135</td>\n",
       "    </tr>\n",
       "    <tr>\n",
       "      <th>think</th>\n",
       "      <td>206</td>\n",
       "      <td>96</td>\n",
       "    </tr>\n",
       "    <tr>\n",
       "      <th>adopt</th>\n",
       "      <td>146</td>\n",
       "      <td>137</td>\n",
       "    </tr>\n",
       "    <tr>\n",
       "      <th>day</th>\n",
       "      <td>184</td>\n",
       "      <td>89</td>\n",
       "    </tr>\n",
       "    <tr>\n",
       "      <th>month</th>\n",
       "      <td>146</td>\n",
       "      <td>124</td>\n",
       "    </tr>\n",
       "    <tr>\n",
       "      <th>want</th>\n",
       "      <td>145</td>\n",
       "      <td>118</td>\n",
       "    </tr>\n",
       "    <tr>\n",
       "      <th>sleep</th>\n",
       "      <td>186</td>\n",
       "      <td>72</td>\n",
       "    </tr>\n",
       "    <tr>\n",
       "      <th>pleas</th>\n",
       "      <td>94</td>\n",
       "      <td>148</td>\n",
       "    </tr>\n",
       "    <tr>\n",
       "      <th>make</th>\n",
       "      <td>135</td>\n",
       "      <td>100</td>\n",
       "    </tr>\n",
       "    <tr>\n",
       "      <th>kitti</th>\n",
       "      <td>232</td>\n",
       "      <td>0</td>\n",
       "    </tr>\n",
       "    <tr>\n",
       "      <th>home</th>\n",
       "      <td>117</td>\n",
       "      <td>112</td>\n",
       "    </tr>\n",
       "    <tr>\n",
       "      <th>babi</th>\n",
       "      <td>201</td>\n",
       "      <td>26</td>\n",
       "    </tr>\n",
       "    <tr>\n",
       "      <th>today</th>\n",
       "      <td>144</td>\n",
       "      <td>78</td>\n",
       "    </tr>\n",
       "    <tr>\n",
       "      <th>boy</th>\n",
       "      <td>196</td>\n",
       "      <td>24</td>\n",
       "    </tr>\n",
       "    <tr>\n",
       "      <th>train</th>\n",
       "      <td>15</td>\n",
       "      <td>188</td>\n",
       "    </tr>\n",
       "    <tr>\n",
       "      <th>vet</th>\n",
       "      <td>84</td>\n",
       "      <td>109</td>\n",
       "    </tr>\n",
       "    <tr>\n",
       "      <th>friend</th>\n",
       "      <td>110</td>\n",
       "      <td>81</td>\n",
       "    </tr>\n",
       "    <tr>\n",
       "      <th>cute</th>\n",
       "      <td>175</td>\n",
       "      <td>14</td>\n",
       "    </tr>\n",
       "    <tr>\n",
       "      <th>girl</th>\n",
       "      <td>160</td>\n",
       "      <td>28</td>\n",
       "    </tr>\n",
       "    <tr>\n",
       "      <th>stop</th>\n",
       "      <td>65</td>\n",
       "      <td>121</td>\n",
       "    </tr>\n",
       "  </tbody>\n",
       "</table>\n",
       "</div>"
      ],
      "text/plain": [
       "subreddit     0     1\n",
       "dog          55  4243\n",
       "cat        2324    54\n",
       "help        197   586\n",
       "old         261   313\n",
       "like        352   166\n",
       "love        390    69\n",
       "need        156   296\n",
       "good        227   224\n",
       "puppi         2   439\n",
       "new         238   181\n",
       "year        220   157\n",
       "look        237   136\n",
       "littl       327    35\n",
       "kitten      345     8\n",
       "breed        76   265\n",
       "advic        68   251\n",
       "food        118   190\n",
       "know        165   143\n",
       "anyon       138   169\n",
       "eat          80   225\n",
       "time        169   135\n",
       "think       206    96\n",
       "adopt       146   137\n",
       "day         184    89\n",
       "month       146   124\n",
       "want        145   118\n",
       "sleep       186    72\n",
       "pleas        94   148\n",
       "make        135   100\n",
       "kitti       232     0\n",
       "home        117   112\n",
       "babi        201    26\n",
       "today       144    78\n",
       "boy         196    24\n",
       "train        15   188\n",
       "vet          84   109\n",
       "friend      110    81\n",
       "cute        175    14\n",
       "girl        160    28\n",
       "stop         65   121"
      ]
     },
     "execution_count": 17,
     "metadata": {},
     "output_type": "execute_result"
    }
   ],
   "source": [
    "X_train_df_small = X_train_df.groupby('subreddit').sum()[words]\n",
    "X_train_df_small.head().T"
   ]
  },
  {
   "cell_type": "markdown",
   "id": "b6d1b200",
   "metadata": {},
   "source": [
    "- It makes sense that the top frequency of the word 'dog' is in the subreddit 'Dogs' (Labelled 1). This is also sensible for the subreddit 'Cats'.\n",
    "- Surprisingly, alot of subredditors in the \"Dogs\" subreddit seem to use the word 'help'. Perhaps more dog owners/lovers use Reddit for help on dog-related issues. This also makes sense as the word 'advic' is most prominent in the 'Dog' subreddit.\n",
    "- The word 'love\" seem to be a regular words amonfgst Redditors who frequent 'Cat' subreddit. \n",
    "- The words 'littl', 'look', 'babi' and 'cute' seems to be more in the 'cat' redditors. Do cat owners love cute kittens/cute things? Perhaps we could use bi-grams to check if these words are associated."
   ]
  },
  {
   "cell_type": "markdown",
   "id": "7815d393",
   "metadata": {},
   "source": [
    "### Re-running CountVectorizer & with new hyperparameters"
   ]
  },
  {
   "cell_type": "code",
   "execution_count": 18,
   "id": "8a027082",
   "metadata": {},
   "outputs": [],
   "source": [
    "# Redefine X and resplit data\n",
    "X = df['clean_title']\n",
    "X_train, X_test, y_train, y_test = train_test_split(X, y, test_size=.33, random_state=42)\n",
    "\n",
    "# CountVectorizer, stop_words='english', max_features=100, \n",
    "# max_df=.95, min_df=.05, ngram_range(1,3)\n",
    "cvec = CountVectorizer(stop_words='english', max_df=.95, min_df=.05, \n",
    "                       max_features=100, ngram_range=(1,3))\n",
    "cvec.fit(X_train)\n",
    "X_train = cvec.transform(X_train)\n",
    "\n",
    "X_train_df = pd.DataFrame(X_train.toarray(),\n",
    "                          columns=cvec.get_feature_names())"
   ]
  },
  {
   "cell_type": "code",
   "execution_count": 19,
   "id": "e8c1dc5f",
   "metadata": {},
   "outputs": [
    {
     "data": {
      "text/plain": [
       "dog     4274\n",
       "cat     2347\n",
       "help     808\n",
       "dtype: int64"
      ]
     },
     "execution_count": 19,
     "metadata": {},
     "output_type": "execute_result"
    }
   ],
   "source": [
    "X_train_df.sum().sort_values(ascending=False).head(20)"
   ]
  },
  {
   "cell_type": "markdown",
   "id": "19695de1",
   "metadata": {},
   "source": [
    "- Apparently this dataset does not contain many words that appear either not extremely frequently or not extremely sparsely across both subreddits. Might mean that most words are unique to the subreddit? Or may indicate that there won't be many strong predictors for subreddit? "
   ]
  },
  {
   "cell_type": "markdown",
   "id": "1811d02e",
   "metadata": {},
   "source": [
    "### Running Tfidf Vectorizer & with new hyperparameters"
   ]
  },
  {
   "cell_type": "code",
   "execution_count": 20,
   "id": "9d236200",
   "metadata": {},
   "outputs": [],
   "source": [
    "# Redefine X and resplit data\n",
    "X =  df['clean_title']\n",
    "X_train, X_test, y_train, y_test = train_test_split(X, y, test_size=.33, random_state=42)\n",
    "\n",
    "# Parameters: Tfidf, stop_words='english', max_features=200, ngram_range=(1,2)\n",
    "tvec = TfidfVectorizer(stop_words='english', max_features=200, ngram_range=(1,2))\n",
    "tvec.fit(X_train)\n",
    "X_train = tvec.transform(X_train)\n",
    "\n",
    "X_train_df = pd.DataFrame(X_train.toarray(),\n",
    "                          columns=tvec.get_feature_names())"
   ]
  },
  {
   "cell_type": "code",
   "execution_count": 21,
   "id": "2a3ec47e",
   "metadata": {},
   "outputs": [
    {
     "data": {
      "text/plain": [
       "dog       1641.636080\n",
       "cat       1072.359520\n",
       "help       385.708781\n",
       "like       257.208551\n",
       "puppi      257.034876\n",
       "love       246.393809\n",
       "good       226.649298\n",
       "new        218.764214\n",
       "old        215.597635\n",
       "need       215.540067\n",
       "look       204.926809\n",
       "littl      190.962379\n",
       "advic      182.434549\n",
       "kitten     176.723004\n",
       "breed      173.867245\n",
       "think      165.114292\n",
       "eat        161.729853\n",
       "food       160.377984\n",
       "know       160.069444\n",
       "day        158.312737\n",
       "dtype: float64"
      ]
     },
     "execution_count": 21,
     "metadata": {},
     "output_type": "execute_result"
    }
   ],
   "source": [
    "X_train_df.sum().sort_values(ascending=False).head(20)"
   ]
  },
  {
   "cell_type": "markdown",
   "id": "e234fa61",
   "metadata": {},
   "source": [
    "- Try Tfidf one more time with ngram_range=(1,4)."
   ]
  },
  {
   "cell_type": "code",
   "execution_count": 22,
   "id": "51c05b61",
   "metadata": {},
   "outputs": [],
   "source": [
    "# Redefine X and resplit data\n",
    "X = df['clean_title']\n",
    "X_train, X_test, y_train, y_test = train_test_split(X, y, test_size=.33, random_state=42)\n",
    "\n",
    "# Parameters: Tfidf, stop_words='english', max_features=200, ngram_range=(1,4)\n",
    "tvec = TfidfVectorizer(stop_words='english', max_features=200, ngram_range=(1,4))\n",
    "tvec.fit(X_train)\n",
    "X_train = tvec.transform(X_train)\n",
    "\n",
    "X_train_df = pd.DataFrame(X_train.toarray(),\n",
    "                          columns=tvec.get_feature_names())"
   ]
  },
  {
   "cell_type": "code",
   "execution_count": 23,
   "id": "68d9ac3d",
   "metadata": {},
   "outputs": [
    {
     "data": {
      "text/plain": [
       "dog       1641.636080\n",
       "cat       1072.359520\n",
       "help       385.708781\n",
       "like       257.208551\n",
       "puppi      257.034876\n",
       "love       246.393809\n",
       "good       226.649298\n",
       "new        218.764214\n",
       "old        215.597635\n",
       "need       215.540067\n",
       "look       204.926809\n",
       "littl      190.962379\n",
       "advic      182.434549\n",
       "kitten     176.723004\n",
       "breed      173.867245\n",
       "think      165.114292\n",
       "eat        161.729853\n",
       "food       160.377984\n",
       "know       160.069444\n",
       "day        158.312737\n",
       "dtype: float64"
      ]
     },
     "execution_count": 23,
     "metadata": {},
     "output_type": "execute_result"
    }
   ],
   "source": [
    "X_train_df.sum().sort_values(ascending=False).head(20)"
   ]
  },
  {
   "cell_type": "markdown",
   "id": "66754551",
   "metadata": {},
   "source": [
    "- No difference if we changd the ngram range."
   ]
  },
  {
   "cell_type": "markdown",
   "id": "c1273fd2",
   "metadata": {},
   "source": [
    "## Baseline accuracy"
   ]
  },
  {
   "cell_type": "code",
   "execution_count": 24,
   "id": "a5a130e1",
   "metadata": {
    "scrolled": true
   },
   "outputs": [
    {
     "data": {
      "text/plain": [
       "1    0.505864\n",
       "0    0.494136\n",
       "Name: subreddit, dtype: float64"
      ]
     },
     "execution_count": 24,
     "metadata": {},
     "output_type": "execute_result"
    }
   ],
   "source": [
    "# Check what we need to check in a classification problem. The value counts are quite balanced.\n",
    "y_test.value_counts(normalize=True)"
   ]
  },
  {
   "cell_type": "code",
   "execution_count": 25,
   "id": "2cb74a42",
   "metadata": {},
   "outputs": [],
   "source": [
    "X_train, X_test, y_train, y_test = train_test_split(X, y, test_size=.33, random_state=42)"
   ]
  },
  {
   "cell_type": "markdown",
   "id": "1949f649",
   "metadata": {},
   "source": [
    "- We have a baseline accuracy of ~50.1% because our majority class ('subreddit' == 1 AKA 'dog') comprises ~50.1% of the data. Thus, if we predicted that all posts came from the dogs subreddit, we would be accurate ~50.1% of the time"
   ]
  },
  {
   "cell_type": "markdown",
   "id": "3ad5089a",
   "metadata": {},
   "source": [
    "### Modeling Using the `Random Forest Classifier  + CountVectorizer`"
   ]
  },
  {
   "cell_type": "code",
   "execution_count": 26,
   "id": "69be63e1",
   "metadata": {},
   "outputs": [],
   "source": [
    "# Set up pipeline\n",
    "pipe_rf_c = Pipeline([\n",
    "    ('cvec', CountVectorizer(stop_words='english', max_features=500, ngram_range=(1,2))),\n",
    "    ('rf', RandomForestClassifier())\n",
    "])\n",
    "\n",
    "# Set up pipeline parameters\n",
    "pipe_rf_c_params = {\n",
    "    'rf__n_estimators': [100, 150, 200],\n",
    "    'rf__max_depth': [None, 5, 6], \n",
    "    'rf__max_features': ['auto', 'log2'],\n",
    "    'rf__min_samples_split': [2, 50]}"
   ]
  },
  {
   "cell_type": "code",
   "execution_count": 27,
   "id": "c5ee2679",
   "metadata": {},
   "outputs": [],
   "source": [
    "# Set up a gridsearch\n",
    "gs_rf_c = GridSearchCV(pipe_rf_c, pipe_rf_c_params, cv=5)\n"
   ]
  },
  {
   "cell_type": "code",
   "execution_count": 28,
   "id": "59e48baf",
   "metadata": {},
   "outputs": [],
   "source": [
    "# Fit the gridsearch\n",
    "gs_rf_c.fit(X_test, y_test);"
   ]
  },
  {
   "cell_type": "code",
   "execution_count": 29,
   "id": "55692aef",
   "metadata": {},
   "outputs": [
    {
     "data": {
      "text/plain": [
       "0.8956587966488957"
      ]
     },
     "execution_count": 29,
     "metadata": {},
     "output_type": "execute_result"
    }
   ],
   "source": [
    "# Find best score\n",
    "gs_rf_c.best_score_"
   ]
  },
  {
   "cell_type": "code",
   "execution_count": 30,
   "id": "d01d94a5",
   "metadata": {},
   "outputs": [
    {
     "data": {
      "text/plain": [
       "{'rf__max_depth': None,\n",
       " 'rf__max_features': 'log2',\n",
       " 'rf__min_samples_split': 50,\n",
       " 'rf__n_estimators': 100}"
      ]
     },
     "execution_count": 30,
     "metadata": {},
     "output_type": "execute_result"
    }
   ],
   "source": [
    "# Find best parameters\n",
    "gs_rf_c.best_params_"
   ]
  },
  {
   "cell_type": "code",
   "execution_count": null,
   "id": "f39bdf57",
   "metadata": {},
   "outputs": [],
   "source": []
  },
  {
   "cell_type": "markdown",
   "id": "adfb1731",
   "metadata": {},
   "source": [
    "### Modeling Using the `Random Forest Classifier  + TFIDF Vectorizer`"
   ]
  },
  {
   "cell_type": "code",
   "execution_count": 31,
   "id": "d5393901",
   "metadata": {},
   "outputs": [],
   "source": [
    "# Set up pipeline\n",
    "pipe_rf_t = Pipeline([\n",
    "    ('tvec', TfidfVectorizer(stop_words='english', max_features=500, ngram_range=(1,2))),\n",
    "    ('rf', RandomForestClassifier())\n",
    "])\n",
    "\n",
    "# Set up pipeline parameters\n",
    "pipe_rf_t_params = {\n",
    "    'rf__n_estimators': [100, 150, 200],\n",
    "    'rf__max_depth': [None, 5, 6], \n",
    "    'rf__max_features': ['auto', 'log2'],\n",
    "    'rf__min_samples_split': [2, 50, 100]\n",
    "}"
   ]
  },
  {
   "cell_type": "code",
   "execution_count": 32,
   "id": "0affd0cc",
   "metadata": {},
   "outputs": [],
   "source": [
    "# Set up a gridsearch\n",
    "gs_rf_t = GridSearchCV(pipe_rf_t, pipe_rf_t_params, cv=5, verbose=1)\n",
    "\n"
   ]
  },
  {
   "cell_type": "code",
   "execution_count": 33,
   "id": "d8302d53",
   "metadata": {},
   "outputs": [
    {
     "name": "stdout",
     "output_type": "stream",
     "text": [
      "Fitting 5 folds for each of 54 candidates, totalling 270 fits\n"
     ]
    }
   ],
   "source": [
    "# Fit the gridsearch\n",
    "gs_rf_t.fit(X_test, y_test);"
   ]
  },
  {
   "cell_type": "code",
   "execution_count": 34,
   "id": "dd2ee457",
   "metadata": {},
   "outputs": [
    {
     "data": {
      "text/plain": [
       "0.8958111195734958"
      ]
     },
     "execution_count": 34,
     "metadata": {},
     "output_type": "execute_result"
    }
   ],
   "source": [
    "# Find best score\n",
    "gs_rf_t.best_score_"
   ]
  },
  {
   "cell_type": "code",
   "execution_count": 35,
   "id": "6889e557",
   "metadata": {},
   "outputs": [
    {
     "data": {
      "text/plain": [
       "{'rf__max_depth': None,\n",
       " 'rf__max_features': 'log2',\n",
       " 'rf__min_samples_split': 50,\n",
       " 'rf__n_estimators': 200}"
      ]
     },
     "execution_count": 35,
     "metadata": {},
     "output_type": "execute_result"
    }
   ],
   "source": [
    "# Find best parameters\n",
    "gs_rf_t.best_params_"
   ]
  },
  {
   "cell_type": "code",
   "execution_count": null,
   "id": "09013dd1",
   "metadata": {},
   "outputs": [],
   "source": []
  },
  {
   "cell_type": "markdown",
   "id": "fc82a453",
   "metadata": {},
   "source": [
    "### Modeling Using the `Naive Bayes  + CountVectorizer`"
   ]
  },
  {
   "cell_type": "code",
   "execution_count": 36,
   "id": "9b70a8da",
   "metadata": {},
   "outputs": [],
   "source": [
    "# Setting a pipeline up with two stages:\n",
    "# 1. CountVectorizer (transformer)\n",
    "# 2. Multinomial Naive Bayes (estimator)\n",
    "# Set up pipeline\n",
    "pipe_nb_c = Pipeline([\n",
    "    ('cvec', CountVectorizer(stop_words='english')),\n",
    "    ('nb', MultinomialNB())])"
   ]
  },
  {
   "cell_type": "code",
   "execution_count": 37,
   "id": "3ac31e1c",
   "metadata": {},
   "outputs": [],
   "source": [
    "# Search over the following values of hyperparameters:\n",
    "# Maximum number of features fit: 2000, 3000, 4000, 5000\n",
    "# Minimum number of documents needed to include token: 2, 3\n",
    "# Maximum number of documents needed to include token: 90%, 95%\n",
    "# Check (individual tokens) and also check (individual tokens and 2-grams).\n",
    "\n",
    "pipe_params = {\n",
    "    'cvec__max_features': [2_000, 3_000, 4_000, 5_000],\n",
    "    'cvec__min_df': [2, 3],\n",
    "    'cvec__max_df': [.9, .95],\n",
    "    'cvec__ngram_range': [(1,1), (1,2)]\n",
    "}"
   ]
  },
  {
   "cell_type": "code",
   "execution_count": 38,
   "id": "633973ba",
   "metadata": {},
   "outputs": [],
   "source": [
    "# Instantiate GridSearchCV.\n",
    "\n",
    "gs_nb_c = GridSearchCV(pipe_nb_c, \n",
    "                  param_grid=pipe_params, \n",
    "                  cv=5) # 5-fold cross-validation."
   ]
  },
  {
   "cell_type": "code",
   "execution_count": 39,
   "id": "3c8691a3",
   "metadata": {},
   "outputs": [
    {
     "data": {
      "text/plain": [
       "GridSearchCV(cv=5,\n",
       "             estimator=Pipeline(steps=[('cvec',\n",
       "                                        CountVectorizer(stop_words='english')),\n",
       "                                       ('nb', MultinomialNB())]),\n",
       "             param_grid={'cvec__max_df': [0.9, 0.95],\n",
       "                         'cvec__max_features': [2000, 3000, 4000, 5000],\n",
       "                         'cvec__min_df': [2, 3],\n",
       "                         'cvec__ngram_range': [(1, 1), (1, 2)]})"
      ]
     },
     "execution_count": 39,
     "metadata": {},
     "output_type": "execute_result"
    }
   ],
   "source": [
    "# Fit GridSearch to training data.\n",
    "gs_nb_c.fit(X_test, y_test)"
   ]
  },
  {
   "cell_type": "code",
   "execution_count": 40,
   "id": "3f47a5cb",
   "metadata": {},
   "outputs": [
    {
     "name": "stdout",
     "output_type": "stream",
     "text": [
      "0.8962680883472963\n"
     ]
    }
   ],
   "source": [
    "# What's the best score?\n",
    "print(gs_nb_c.best_score_)"
   ]
  },
  {
   "cell_type": "code",
   "execution_count": 41,
   "id": "f0d5495f",
   "metadata": {},
   "outputs": [
    {
     "data": {
      "text/plain": [
       "{'cvec__max_df': 0.9,\n",
       " 'cvec__max_features': 4000,\n",
       " 'cvec__min_df': 2,\n",
       " 'cvec__ngram_range': (1, 2)}"
      ]
     },
     "execution_count": 41,
     "metadata": {},
     "output_type": "execute_result"
    }
   ],
   "source": [
    "# Find best parameters\n",
    "gs_nb_c.best_params_"
   ]
  },
  {
   "cell_type": "markdown",
   "id": "7868b40f",
   "metadata": {},
   "source": [
    "### Modeling Using the `Naive Bayes  + TFIDF Vectorizer`"
   ]
  },
  {
   "cell_type": "code",
   "execution_count": 42,
   "id": "b8927803",
   "metadata": {},
   "outputs": [],
   "source": [
    "# Set up pipeline\n",
    "pipe_nb_t = Pipeline([\n",
    "    ('tvec', TfidfVectorizer(stop_words='english')),\n",
    "    ('nb', MultinomialNB())\n",
    "])"
   ]
  },
  {
   "cell_type": "code",
   "execution_count": 43,
   "id": "32435de6",
   "metadata": {},
   "outputs": [],
   "source": [
    "# Set up pipeline parameters\n",
    "params_grid = {\n",
    "    'nb__alpha': [1.0], \n",
    "   'nb__fit_prior': [True, False]\n",
    "}"
   ]
  },
  {
   "cell_type": "code",
   "execution_count": 44,
   "id": "92ec1a48",
   "metadata": {},
   "outputs": [],
   "source": [
    "# Set up a gridsearch\n",
    "gs_nb_t = GridSearchCV(pipe_nb_t,param_grid=params_grid\n",
    "                       , cv=5,verbose=1)"
   ]
  },
  {
   "cell_type": "code",
   "execution_count": 45,
   "id": "aa8aeb56",
   "metadata": {},
   "outputs": [
    {
     "name": "stdout",
     "output_type": "stream",
     "text": [
      "Fitting 5 folds for each of 2 candidates, totalling 10 fits\n"
     ]
    }
   ],
   "source": [
    "# Fit the gridsearch\n",
    "gs_nb_t.fit(X_test, y_test);"
   ]
  },
  {
   "cell_type": "code",
   "execution_count": 46,
   "id": "1aa7b0cf",
   "metadata": {},
   "outputs": [
    {
     "name": "stdout",
     "output_type": "stream",
     "text": [
      "0.8865194211728866\n"
     ]
    }
   ],
   "source": [
    "# What's the best score?\n",
    "print(gs_nb_t.best_score_)"
   ]
  },
  {
   "cell_type": "code",
   "execution_count": 47,
   "id": "c8bfbcc9",
   "metadata": {},
   "outputs": [
    {
     "data": {
      "text/plain": [
       "{'nb__alpha': 1.0, 'nb__fit_prior': False}"
      ]
     },
     "execution_count": 47,
     "metadata": {},
     "output_type": "execute_result"
    }
   ],
   "source": [
    "# Find best parameters\n",
    "gs_nb_t.best_params_"
   ]
  },
  {
   "cell_type": "markdown",
   "id": "c870fd43",
   "metadata": {},
   "source": [
    "### Modeling Using the `Logistic Regression  + Count Vectorizer`"
   ]
  },
  {
   "cell_type": "code",
   "execution_count": 48,
   "id": "715e9339",
   "metadata": {},
   "outputs": [],
   "source": [
    "# Set up pipeline\n",
    "pipe_lr_c = Pipeline([\n",
    "    ('cvec', CountVectorizer(stop_words='english', ngram_range=(1,2))),\n",
    "    ('lr', LogisticRegression(solver='lbfgs', max_iter=5000))\n",
    "])\n"
   ]
  },
  {
   "cell_type": "code",
   "execution_count": 49,
   "id": "2a89bf64",
   "metadata": {},
   "outputs": [],
   "source": [
    "# Set up pipeline params\n",
    "pipe_lr_c_params = {\n",
    "    'cvec__max_features': [200, 500],\n",
    "}"
   ]
  },
  {
   "cell_type": "code",
   "execution_count": 50,
   "id": "0d09282e",
   "metadata": {},
   "outputs": [],
   "source": [
    "# Set up a gridsearch\n",
    "gs_lr_c = GridSearchCV(pipe_lr_c, pipe_lr_c_params, cv=5, verbose=1)\n"
   ]
  },
  {
   "cell_type": "code",
   "execution_count": 51,
   "id": "ab709011",
   "metadata": {},
   "outputs": [
    {
     "name": "stdout",
     "output_type": "stream",
     "text": [
      "Fitting 5 folds for each of 2 candidates, totalling 10 fits\n"
     ]
    }
   ],
   "source": [
    "\n",
    "# Fit the gridsearch\n",
    "gs_lr_c.fit(X_test, y_test);"
   ]
  },
  {
   "cell_type": "code",
   "execution_count": 52,
   "id": "cc2c00d1",
   "metadata": {},
   "outputs": [
    {
     "data": {
      "text/plain": [
       "0.8947448591012946"
      ]
     },
     "execution_count": 52,
     "metadata": {},
     "output_type": "execute_result"
    }
   ],
   "source": [
    "# Find best score\n",
    "gs_lr_c.best_score_"
   ]
  },
  {
   "cell_type": "code",
   "execution_count": 53,
   "id": "40849e15",
   "metadata": {},
   "outputs": [
    {
     "data": {
      "text/plain": [
       "{'cvec__max_features': 500}"
      ]
     },
     "execution_count": 53,
     "metadata": {},
     "output_type": "execute_result"
    }
   ],
   "source": [
    "# Find best parameters\n",
    "gs_lr_c.best_params_"
   ]
  },
  {
   "cell_type": "markdown",
   "id": "34da5965",
   "metadata": {},
   "source": [
    "### Modeling Using the `Logistic Regression  + Tfidf Vectorizer`"
   ]
  },
  {
   "cell_type": "code",
   "execution_count": 54,
   "id": "53bbe6b7",
   "metadata": {},
   "outputs": [],
   "source": [
    "# Set up pipeline\n",
    "pipe_lr_t = Pipeline([\n",
    "    ('tvec', TfidfVectorizer(stop_words='english', ngram_range=(1,2))),\n",
    "    ('lr', LogisticRegression(solver='lbfgs', max_iter=5000))\n",
    "])\n"
   ]
  },
  {
   "cell_type": "code",
   "execution_count": 55,
   "id": "52a24243",
   "metadata": {},
   "outputs": [],
   "source": [
    "\n",
    "# Set up pipeline params\n",
    "pipe_lr_t_params = {\n",
    "    'tvec__max_features': [200, 500],\n",
    "}"
   ]
  },
  {
   "cell_type": "code",
   "execution_count": 56,
   "id": "224ccea7",
   "metadata": {},
   "outputs": [],
   "source": [
    "# Set up a gridsearch\n",
    "gs_lr_t = GridSearchCV(pipe_lr_t, pipe_lr_t_params, cv=5, verbose=1)\n"
   ]
  },
  {
   "cell_type": "code",
   "execution_count": 57,
   "id": "5bb9930c",
   "metadata": {},
   "outputs": [
    {
     "name": "stdout",
     "output_type": "stream",
     "text": [
      "Fitting 5 folds for each of 2 candidates, totalling 10 fits\n"
     ]
    }
   ],
   "source": [
    "# Fit the gridsearch\n",
    "gs_lr_t.fit(X_test, y_test);"
   ]
  },
  {
   "cell_type": "code",
   "execution_count": 58,
   "id": "aa098173",
   "metadata": {},
   "outputs": [
    {
     "data": {
      "text/plain": [
       "0.8971820258948972"
      ]
     },
     "execution_count": 58,
     "metadata": {},
     "output_type": "execute_result"
    }
   ],
   "source": [
    "# Find best score\n",
    "gs_lr_t.best_score_"
   ]
  },
  {
   "cell_type": "code",
   "execution_count": 59,
   "id": "aa64aa70",
   "metadata": {},
   "outputs": [
    {
     "data": {
      "text/plain": [
       "{'tvec__max_features': 500}"
      ]
     },
     "execution_count": 59,
     "metadata": {},
     "output_type": "execute_result"
    }
   ],
   "source": [
    "# Find best parameters\n",
    "gs_lr_t.best_params_"
   ]
  },
  {
   "cell_type": "markdown",
   "id": "1099c099",
   "metadata": {},
   "source": [
    "### Compare models"
   ]
  },
  {
   "cell_type": "code",
   "execution_count": 60,
   "id": "f6fff99e",
   "metadata": {},
   "outputs": [
    {
     "data": {
      "text/html": [
       "<div>\n",
       "<style scoped>\n",
       "    .dataframe tbody tr th:only-of-type {\n",
       "        vertical-align: middle;\n",
       "    }\n",
       "\n",
       "    .dataframe tbody tr th {\n",
       "        vertical-align: top;\n",
       "    }\n",
       "\n",
       "    .dataframe thead th {\n",
       "        text-align: right;\n",
       "    }\n",
       "</style>\n",
       "<table border=\"1\" class=\"dataframe\">\n",
       "  <thead>\n",
       "    <tr style=\"text-align: right;\">\n",
       "      <th></th>\n",
       "      <th>type</th>\n",
       "      <th>accuracy</th>\n",
       "    </tr>\n",
       "  </thead>\n",
       "  <tbody>\n",
       "    <tr>\n",
       "      <th>0</th>\n",
       "      <td>['cvec', 'rf']</td>\n",
       "      <td>0.895659</td>\n",
       "    </tr>\n",
       "    <tr>\n",
       "      <th>1</th>\n",
       "      <td>['tvec', 'rf']</td>\n",
       "      <td>0.895811</td>\n",
       "    </tr>\n",
       "    <tr>\n",
       "      <th>2</th>\n",
       "      <td>['cvec', 'nb']</td>\n",
       "      <td>0.896268</td>\n",
       "    </tr>\n",
       "    <tr>\n",
       "      <th>3</th>\n",
       "      <td>['tvec', 'nb']</td>\n",
       "      <td>0.886519</td>\n",
       "    </tr>\n",
       "    <tr>\n",
       "      <th>4</th>\n",
       "      <td>['cvec', 'lr']</td>\n",
       "      <td>0.894745</td>\n",
       "    </tr>\n",
       "    <tr>\n",
       "      <th>5</th>\n",
       "      <td>['tvec', 'lr']</td>\n",
       "      <td>0.897182</td>\n",
       "    </tr>\n",
       "  </tbody>\n",
       "</table>\n",
       "</div>"
      ],
      "text/plain": [
       "             type  accuracy\n",
       "0  ['cvec', 'rf']  0.895659\n",
       "1  ['tvec', 'rf']  0.895811\n",
       "2  ['cvec', 'nb']  0.896268\n",
       "3  ['tvec', 'nb']  0.886519\n",
       "4  ['cvec', 'lr']  0.894745\n",
       "5  ['tvec', 'lr']  0.897182"
      ]
     },
     "execution_count": 60,
     "metadata": {},
     "output_type": "execute_result"
    }
   ],
   "source": [
    "# Generate a dataframe of model & accuracy score\n",
    "list_of_models = [gs_rf_c, gs_rf_t, \n",
    "                  gs_nb_c, gs_nb_t,\n",
    "                  gs_lr_c, gs_lr_t]\n",
    "\n",
    "# Create an empty list for each model's dictionary\n",
    "models = []\n",
    "\n",
    "for mod in list_of_models:\n",
    "    # mod.best_score_\n",
    "    model = {}\n",
    "    model['type'] = str(list(mod.estimator.named_steps.keys()))\n",
    "    model['accuracy'] = mod.best_score_\n",
    "    models.append(model)\n",
    "\n",
    "# Append baseline for comparison\n",
    "baseline = {}\n",
    "baseline['type'] = 'baseline'\n",
    "baseline['accuracy'] = y_train.value_counts(normalize=True)[1]\n",
    "models.append(baseline)\n",
    "\n",
    "models_df = pd.DataFrame(models)\n",
    "models_df.head(6)"
   ]
  },
  {
   "cell_type": "code",
   "execution_count": 62,
   "id": "50787308",
   "metadata": {},
   "outputs": [
    {
     "data": {
      "image/png": "[encoded data removed]",
      "text/plain": [
       "<Figure size 1440x360 with 1 Axes>"
      ]
     },
     "metadata": {
      "needs_background": "light"
     },
     "output_type": "display_data"
    }
   ],
   "source": [
    "plt.figure(figsize=(20,5))\n",
    "sns.barplot(data=models_df, x='accuracy', y='type')\n",
    "plt.xlabel('Accuracy', size=18)\n",
    "plt.ylabel('Model: Transformer, Estimator', size=18)\n",
    "plt.yticks(size=18)\n",
    "plt.xticks(size=18)\n",
    "plt.title('How did the models compare to the baseline?', size=25)\n",
    "sns.despine(left=True, bottom=True);"
   ]
  },
  {
   "cell_type": "code",
   "execution_count": null,
   "id": "6caa4c99",
   "metadata": {},
   "outputs": [],
   "source": []
  },
  {
   "cell_type": "markdown",
   "id": "39efa46b",
   "metadata": {},
   "source": [
    "- Naive Bayes with a CountVectorizer received the highest accuracy rating overall of models run, with an accuracy score of ~92.3% on train data. This is followed by Random Forest with a CountVectorizer at ~90.1%, logistic regression with TFIDF Vectorizer at ~ 90.1%, Random Forest with a TFIDF Vectorizer at ~90.0% and Naive Bayes with a TFIDF Vectorizer at ~89.4%.\n",
    "- As we can see, all models (with different transformers) received fairly similar scores on training data. We got the best parameters for each model that yielded these scores and will instantitate and test on test data below to get a more comprehensive view of the models' effectiveness in predicting subreddit classification of posts.\n",
    "- We will evaluate 2 models - Logistic Regression with TFIDF Vectorizer and Random Forest Classifier with TFIDF Vectorizer - and pick the best. I decided not to take Naive Bayes Model (even though it performs the best) because it assumes all the features are independent of one another (which in this business context, I do not think is correct to assume that). "
   ]
  },
  {
   "cell_type": "code",
   "execution_count": null,
   "id": "9dd55782",
   "metadata": {},
   "outputs": [],
   "source": []
  },
  {
   "cell_type": "code",
   "execution_count": null,
   "id": "2fa0d248",
   "metadata": {},
   "outputs": [],
   "source": []
  },
  {
   "cell_type": "code",
   "execution_count": null,
   "id": "2a1e06e5",
   "metadata": {},
   "outputs": [],
   "source": []
  },
  {
   "cell_type": "code",
   "execution_count": null,
   "id": "8e2eb823",
   "metadata": {},
   "outputs": [],
   "source": []
  },
  {
   "cell_type": "code",
   "execution_count": null,
   "id": "b65b66b2",
   "metadata": {},
   "outputs": [],
   "source": []
  },
  {
   "cell_type": "code",
   "execution_count": null,
   "id": "a22bb301",
   "metadata": {},
   "outputs": [],
   "source": []
  },
  {
   "cell_type": "code",
   "execution_count": null,
   "id": "666a01e3",
   "metadata": {},
   "outputs": [],
   "source": []
  },
  {
   "cell_type": "code",
   "execution_count": null,
   "id": "ac66e804",
   "metadata": {},
   "outputs": [],
   "source": []
  },
  {
   "cell_type": "code",
   "execution_count": null,
   "id": "d52ad115",
   "metadata": {},
   "outputs": [],
   "source": []
  },
  {
   "cell_type": "code",
   "execution_count": null,
   "id": "e0ec137c",
   "metadata": {},
   "outputs": [],
   "source": []
  },
  {
   "cell_type": "code",
   "execution_count": null,
   "id": "377d9ca1",
   "metadata": {},
   "outputs": [],
   "source": []
  },
  {
   "cell_type": "code",
   "execution_count": null,
   "id": "ca62f9d3",
   "metadata": {},
   "outputs": [],
   "source": []
  },
  {
   "cell_type": "code",
   "execution_count": null,
   "id": "2f7a57fb",
   "metadata": {},
   "outputs": [],
   "source": []
  },
  {
   "cell_type": "code",
   "execution_count": null,
   "id": "fc537dae",
   "metadata": {},
   "outputs": [],
   "source": []
  },
  {
   "cell_type": "code",
   "execution_count": null,
   "id": "a96771fd",
   "metadata": {},
   "outputs": [],
   "source": []
  }
 ],
 "metadata": {
  "kernelspec": {
   "display_name": "Python 3",
   "language": "python",
   "name": "python3"
  },
  "language_info": {
   "codemirror_mode": {
    "name": "ipython",
    "version": 3
   },
   "file_extension": ".py",
   "mimetype": "text/x-python",
   "name": "python",
   "nbconvert_exporter": "python",
   "pygments_lexer": "ipython3",
   "version": "3.8.8"
  }
 },
 "nbformat": 4,
 "nbformat_minor": 5
}
