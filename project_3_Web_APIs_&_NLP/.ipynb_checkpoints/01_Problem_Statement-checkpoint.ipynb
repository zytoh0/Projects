{
 "cells": [
  {
   "cell_type": "markdown",
   "metadata": {},
   "source": [
    "<img src=\"http://imgur.com/1ZcRyrc.png\" style=\"float: left; margin: 20px; height: 55px\">\n",
    "\n",
    "# Project 3: Reddit - Problem Statement"
   ]
  },
  {
   "cell_type": "markdown",
   "metadata": {},
   "source": [
    "--- \n",
    "# Notebook 1\n",
    "\n",
    "The first notebook will consist of our problem statement and the steps we take to obtain a solution.\n",
    "\n",
    "---"
   ]
  },
  {
   "cell_type": "markdown",
   "metadata": {},
   "source": [
    "# 1.1 Goal of Project"
   ]
  },
  {
   "cell_type": "markdown",
   "metadata": {},
   "source": [
    "**Problem Statement**\n",
    "Reddit is a massive collection of forums where people can share social news and content. Essentially, posts are organised according to subject into user-created 'subreddits'. Members submit content (such as images, texts, and links) to subreddits, which can then be voted up ('upvote') or down ('downvote') by other members.\n",
    "\n",
    "Since the COVID-19 pandemic in 2019, many news reports reveal that there has been a rapidly growing interest in pet ownership.\n",
    "More people have expressed interest in adopting or fostering dogs and cats for various reasons - such as for companionship during circuit breaker or ease of caring for pets due to work-from-home arrangements.\n",
    " \n",
    "Introducing \"CatDog\" - a solutions provider company in the Pet Industry. CatDog has outsourced us data scientists to \n",
    "* 1. Examine the topics of interest/needs of these new dog and cat owners.\n",
    "* 2. Provide relevant suggestions on creating new services for dog and cat owners. \n",
    "\n",
    "**Goal of this project**\n",
    "* To scrape relevant subreddits and find out the interests, the needs and the wants of dog and cat owners. "
   ]
  },
  {
   "cell_type": "markdown",
   "metadata": {},
   "source": [
    "# 1.2 Types of Model"
   ]
  },
  {
   "cell_type": "markdown",
   "metadata": {},
   "source": [
    "The type of models to be used will be an NLP model followed by a classification model. The NLP model will split the text scrapped from the subreddit and the classification model will be use to predict which subreddit the posts came from.\n",
    "\n",
    "The NLP model to be deployed in this project is Countvectoriser.\n",
    "\n",
    "Our team aims to test out a the following classification models.\n",
    "* Random Forest Classifier\n",
    "* Extra Trees Classifier\n",
    "* Logistic Regression\n",
    "* Multinomial Naive Bayes\n",
    "* AdaBoost Classifier\n",
    "* KNeighbors Classifier\n",
    "* Bagging Classifier\n",
    "\n",
    "Out of the above models, we will pick the top 2 to optimise and finally pick the best model for production. \n",
    "\n",
    "After production, our team will pull the top 20 features of each of the target variable to examine the interest, needs and wants of cat and dog owners."
   ]
  },
  {
   "cell_type": "markdown",
   "metadata": {},
   "source": [
    "# 1.3 Evaluation of Success"
   ]
  },
  {
   "cell_type": "markdown",
   "metadata": {},
   "source": [
    "The success of this project will be evaluated in this steps.\n",
    "\n",
    "**Step 1: Production Model**\n",
    "The final production model must achieve at least a 90% success rate in predicting which subbreddit the post came from.\n",
    "\n",
    "**Step 2: Important Features**\n",
    "Upon producing a model that has a minimum accuracy score of 90%, the top 20 features will be examined. Our team must find relevant information from these features to obtain the interest, needs and wants of cat and dog owners."
   ]
  },
  {
   "cell_type": "markdown",
   "metadata": {},
   "source": [
    "# 1.4 Scope of Project"
   ]
  },
  {
   "cell_type": "markdown",
   "metadata": {},
   "source": [
    "The scope of this project will consist of the following:\n",
    "* Data collection obtain by scrapping subbreddit.\n",
    "* Cleaning the Data\n",
    "* Exploratory Data Analysis\n",
    "* Preprocessing by adding stopwords, lemmatizing or stemming\n",
    "* Model Selection\n",
    "* Examing top Features\n",
    "* Answering our Problem Statement\n",
    "* Recommendatins"
   ]
  },
  {
   "cell_type": "markdown",
   "metadata": {},
   "source": [
    "# 1.5 Investigations"
   ]
  },
  {
   "cell_type": "markdown",
   "metadata": {},
   "source": [
    "The top 20 features pulled out at the end must be insightful for us to derive the interest and needs of cat and dog owner.\n",
    "\n",
    "From these findings, the solutions provider company CatDog should be able to:\n",
    "* Create meaningful services for existing cat and dog owners\n",
    "* Provide consultation services to people who are interested in owning a cat or a dog.\n",
    "* Spark interest in people to own a cat or a dog."
   ]
  },
  {
   "cell_type": "markdown",
   "metadata": {},
   "source": [
    "# 1.6 Audience and Stakeholders\n"
   ]
  },
  {
   "cell_type": "markdown",
   "metadata": {},
   "source": [
    "The targets audience will be existing and potential cat and dog owners and the stakeholder is the solutions provider company CatDog. \n",
    "\n",
    "**StakeHolder**\n",
    "For the stakeholder, we aim to develop a production model with sufficient accuracy (>90%) for them to pull out relevant features to examine from time to time to understand the ever changing interest and needs of cat and dog owners. This model will help the company provide up to date solutions for cat and dog owners.\n",
    "\n",
    "**Audience**\n",
    "For the audience, we aim to understand what they are looking for as a cat and dog owner. We will then partner with our stakeholder to push out profitable and creative services for them"
   ]
  }
 ],
 "metadata": {
  "anaconda-cloud": {},
  "celltoolbar": "Raw Cell Format",
  "kernelspec": {
   "display_name": "Python 3",
   "language": "python",
   "name": "python3"
  },
  "language_info": {
   "codemirror_mode": {
    "name": "ipython",
    "version": 3
   },
   "file_extension": ".py",
   "mimetype": "text/x-python",
   "name": "python",
   "nbconvert_exporter": "python",
   "pygments_lexer": "ipython3",
   "version": "3.8.8"
  }
 },
 "nbformat": 4,
 "nbformat_minor": 4
}
