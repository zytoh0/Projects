{
 "cells": [
  {
   "cell_type": "markdown",
   "metadata": {},
   "source": [
    "<img src=\"http://imgur.com/1ZcRyrc.png\" style=\"float: left; margin: 20px; height: 55px\">\n",
    "\n",
    "# Project 3: Reddit"
   ]
  },
  {
   "cell_type": "markdown",
   "metadata": {},
   "source": [
    "--- \n",
    "# Notebook 2\n",
    "\n",
    "The second notebook will clean the data from the reddit scrapping and perfrom simple exploratory data analysis.\n",
    "\n",
    "---"
   ]
  },
  {
   "cell_type": "markdown",
   "metadata": {},
   "source": [
    "# 0. Import Package and Read in Data\n"
   ]
  },
  {
   "cell_type": "code",
   "execution_count": 18,
   "metadata": {},
   "outputs": [],
   "source": [
    "#!pip install emoji"
   ]
  },
  {
   "cell_type": "code",
   "execution_count": 1,
   "metadata": {},
   "outputs": [],
   "source": [
    "import pandas as pd\n",
    "import numpy as np\n",
    "import emoji as emj\n",
    "import re\n",
    "\n",
    "import matplotlib.pyplot as plt\n",
    "import seaborn as sns\n",
    "\n",
    "from nltk.tokenize import word_tokenize, WhitespaceTokenizer\n",
    "from nltk.stem import WordNetLemmatizer\n",
    "from nltk.corpus import stopwords\n",
    "\n",
    "from sklearn.feature_extraction.text import CountVectorizer"
   ]
  },
  {
   "cell_type": "code",
   "execution_count": 2,
   "metadata": {},
   "outputs": [
    {
     "data": {
      "text/html": [
       "<div>\n",
       "<style scoped>\n",
       "    .dataframe tbody tr th:only-of-type {\n",
       "        vertical-align: middle;\n",
       "    }\n",
       "\n",
       "    .dataframe tbody tr th {\n",
       "        vertical-align: top;\n",
       "    }\n",
       "\n",
       "    .dataframe thead th {\n",
       "        text-align: right;\n",
       "    }\n",
       "</style>\n",
       "<table border=\"1\" class=\"dataframe\">\n",
       "  <thead>\n",
       "    <tr style=\"text-align: right;\">\n",
       "      <th></th>\n",
       "      <th>subreddit</th>\n",
       "      <th>title</th>\n",
       "    </tr>\n",
       "  </thead>\n",
       "  <tbody>\n",
       "    <tr>\n",
       "      <th>19986</th>\n",
       "      <td>dogs</td>\n",
       "      <td>RIP: Mary- Toy Poodle 6 years old</td>\n",
       "    </tr>\n",
       "    <tr>\n",
       "      <th>19987</th>\n",
       "      <td>dogs</td>\n",
       "      <td>Border Collie</td>\n",
       "    </tr>\n",
       "    <tr>\n",
       "      <th>19988</th>\n",
       "      <td>dogs</td>\n",
       "      <td>Are clementines okay for dogs?</td>\n",
       "    </tr>\n",
       "    <tr>\n",
       "      <th>19989</th>\n",
       "      <td>dogs</td>\n",
       "      <td>[help] choosing a companion for our current dog</td>\n",
       "    </tr>\n",
       "    <tr>\n",
       "      <th>19990</th>\n",
       "      <td>dogs</td>\n",
       "      <td>Dog doesnt like to interact with other dogs</td>\n",
       "    </tr>\n",
       "  </tbody>\n",
       "</table>\n",
       "</div>"
      ],
      "text/plain": [
       "      subreddit                                            title\n",
       "19986      dogs                RIP: Mary- Toy Poodle 6 years old\n",
       "19987      dogs                                    Border Collie\n",
       "19988      dogs                   Are clementines okay for dogs?\n",
       "19989      dogs  [help] choosing a companion for our current dog\n",
       "19990      dogs      Dog doesnt like to interact with other dogs"
      ]
     },
     "execution_count": 2,
     "metadata": {},
     "output_type": "execute_result"
    }
   ],
   "source": [
    "# Reading in both datasets\n",
    "df_cats = pd.read_csv('./dataset/cats.csv', encoding='utf-8', low_memory = False) # Add in encoding to read in chinese characters\n",
    "df_cats = df_cats[['subreddit', 'title']].reset_index(drop = True)\n",
    "\n",
    "df_dogs = pd.read_csv('./dataset/dogs.csv', encoding='utf-8', low_memory = False) # Add in encoding to read in chinese characters\n",
    "df_dogs = df_dogs = df_dogs[['subreddit', 'title']].reset_index(drop = True)\n",
    "\n",
    "# Appending the dogs titles below the cats titles\n",
    "df_reddit = df_cats.append(df_dogs, ignore_index = True)\n",
    "df_reddit.tail() # Checking tails to see if the dogs titles has been successfully appended."
   ]
  },
  {
   "cell_type": "code",
   "execution_count": 3,
   "metadata": {},
   "outputs": [
    {
     "data": {
      "text/plain": [
       "(19991, 2)"
      ]
     },
     "execution_count": 3,
     "metadata": {},
     "output_type": "execute_result"
    }
   ],
   "source": [
    "# Checking number of rows and columns\n",
    "df_reddit.shape"
   ]
  },
  {
   "cell_type": "markdown",
   "metadata": {},
   "source": [
    "# 1.1 Data Cleaning - Extracting Emojis\n",
    "We will perform the following steps to clean the data\n",
    "* Extracting emojis and put in new column\n",
    "* Extracting websites and put in new column\n",
    "* Change all text to lower case\n",
    "* Remove punctuations\n",
    "* Remove non-english characters"
   ]
  },
  {
   "cell_type": "code",
   "execution_count": 6,
   "metadata": {},
   "outputs": [],
   "source": [
    "# Note that to run this block of codes, \n",
    "# run jupyter notebook --NotebookApp.iopub_data_rate_limit=1.0e10 at anacondas prompt to optimise\n",
    "\n",
    "# This block of codes removes the emojis from title and put them into a new column in df_reddit\n",
    "EMOJIS = emj.UNICODE_EMOJI\n",
    "\n",
    "def extract_emoji(df):\n",
    "    df[\"emoji\"] = \"\"\n",
    "    for index, row in df.iterrows():\n",
    "        for emoji in EMOJIS:\n",
    "            if emoji in row[\"title\"]:\n",
    "                row[\"title\"] = row[\"title\"].replace(emoji, \"\")\n",
    "                row[\"emoji\"] += emoji\n",
    "\n",
    "extract_emoji(df_reddit)"
   ]
  },
  {
   "cell_type": "markdown",
   "metadata": {},
   "source": [
    "# 1.2 Data Cleaning - Extracting Website"
   ]
  },
  {
   "cell_type": "code",
   "execution_count": null,
   "metadata": {},
   "outputs": [],
   "source": [
    "df_reddit['website'] = ''\n",
    "df_reddit['website'] = df_reddit['title'].str.extract(r\"(?i)\\b((?:https?://|www\\d{0,3}[.]|[a-z0-9.\\-]+[.][a-z]{2,4}/)(?:[^\\s()<>]+|\\(([^\\s()<>]+|(\\([^\\s()<>]+\\)))*\\))+(?:\\(([^\\s()<>]+|(\\([^\\s()<>]+\\)))*\\)|[^\\s`!()\\[\\]{};:'\\\".,<>?«»“”‘’]))\")\n",
    "df_reddit['title'] = df_reddit['title'].str.replace(r\"(?i)\\b((?:https?://|www\\d{0,3}[.]|[a-z0-9.\\-]+[.][a-z]{2,4}/)(?:[^\\s()<>]+|\\(([^\\s()<>]+|(\\([^\\s()<>]+\\)))*\\))+(?:\\(([^\\s()<>]+|(\\([^\\s()<>]+\\)))*\\)|[^\\s`!()\\[\\]{};:'\\\".,<>?«»“”‘’]))\", '', regex = True)"
   ]
  },
  {
   "cell_type": "code",
   "execution_count": 24,
   "metadata": {},
   "outputs": [],
   "source": [
    "storage_list = df_reddit[df_reddit['title'] == ''].index"
   ]
  },
  {
   "cell_type": "code",
   "execution_count": 25,
   "metadata": {},
   "outputs": [],
   "source": [
    "# Create empty dataframe df_storage for storing the rows with empty titles but with emojis or url\n",
    "df_storage = pd.DataFrame(columns=df_reddit.columns)\n",
    "\n",
    "# Use a for loop to store the rows with emojis but not titles\n",
    "for x in storage_list:\n",
    "    df_storage = df_storage.append(df_reddit.iloc[x])"
   ]
  },
  {
   "cell_type": "code",
   "execution_count": 26,
   "metadata": {},
   "outputs": [],
   "source": [
    "# Saving to csv to join with main dataframe again.\n",
    "df_reddit.to_csv('./dataset/storage.csv', index = False)"
   ]
  },
  {
   "cell_type": "markdown",
   "metadata": {},
   "source": [
    "# 1.3 Data Cleaning - Lower Case, Remove Punctuations, Remove Foreign Languages"
   ]
  },
  {
   "cell_type": "code",
   "execution_count": 27,
   "metadata": {},
   "outputs": [],
   "source": [
    "# Change text to lower case\n",
    "df_reddit['title'] = df_reddit['title'].str.lower()"
   ]
  },
  {
   "cell_type": "code",
   "execution_count": 28,
   "metadata": {},
   "outputs": [],
   "source": [
    "# Remove punctuation\n",
    "df_reddit['title'] = df_reddit['title'].str.replace(r'[^\\w\\s]+', '', regex = True)"
   ]
  },
  {
   "cell_type": "code",
   "execution_count": 29,
   "metadata": {},
   "outputs": [],
   "source": [
    "# Remove non ascii characters in order to remove other languages\n",
    "df_reddit = df_reddit[df_reddit['title'].map(lambda x: x.isascii())]\n",
    "df_reddit.reset_index(drop = True, inplace = True)"
   ]
  },
  {
   "cell_type": "code",
   "execution_count": 30,
   "metadata": {},
   "outputs": [
    {
     "data": {
      "text/plain": [
       "(19922, 3)"
      ]
     },
     "execution_count": 30,
     "metadata": {},
     "output_type": "execute_result"
    }
   ],
   "source": [
    "df_reddit.shape"
   ]
  },
  {
   "cell_type": "markdown",
   "metadata": {},
   "source": [
    "By mapping title to ascii removes some rows with other languages. Some titles with english mixed with other languages are also removed. The total number of rows removed is 69 which is less than 0.5% of our data and therefore is not a significant loss of data.\n",
    "\n",
    "By putting isascii() as the last step helps to remove emojis first so that titles with english and emojis are retained."
   ]
  },
  {
   "cell_type": "markdown",
   "metadata": {},
   "source": [
    "# 2. Missing Values\n",
    "After performing basic cleaning, there are empty fields in titles which needs to be removed before we can split the sentence into words using countvectorise."
   ]
  },
  {
   "cell_type": "code",
   "execution_count": 31,
   "metadata": {},
   "outputs": [
    {
     "data": {
      "text/plain": [
       "subreddit    0\n",
       "title        0\n",
       "website      0\n",
       "dtype: int64"
      ]
     },
     "execution_count": 31,
     "metadata": {},
     "output_type": "execute_result"
    }
   ],
   "source": [
    "df_reddit.isna().sum()"
   ]
  },
  {
   "cell_type": "code",
   "execution_count": 32,
   "metadata": {},
   "outputs": [
    {
     "data": {
      "text/html": [
       "<div>\n",
       "<style scoped>\n",
       "    .dataframe tbody tr th:only-of-type {\n",
       "        vertical-align: middle;\n",
       "    }\n",
       "\n",
       "    .dataframe tbody tr th {\n",
       "        vertical-align: top;\n",
       "    }\n",
       "\n",
       "    .dataframe thead th {\n",
       "        text-align: right;\n",
       "    }\n",
       "</style>\n",
       "<table border=\"1\" class=\"dataframe\">\n",
       "  <thead>\n",
       "    <tr style=\"text-align: right;\">\n",
       "      <th></th>\n",
       "      <th>subreddit</th>\n",
       "      <th>title</th>\n",
       "      <th>website</th>\n",
       "    </tr>\n",
       "  </thead>\n",
       "  <tbody>\n",
       "    <tr>\n",
       "      <th>1430</th>\n",
       "      <td>cats</td>\n",
       "      <td></td>\n",
       "      <td></td>\n",
       "    </tr>\n",
       "  </tbody>\n",
       "</table>\n",
       "</div>"
      ],
      "text/plain": [
       "     subreddit title website\n",
       "1430      cats              "
      ]
     },
     "execution_count": 32,
     "metadata": {},
     "output_type": "execute_result"
    }
   ],
   "source": [
    "df_reddit.iloc[[1430]]"
   ]
  },
  {
   "cell_type": "markdown",
   "metadata": {},
   "source": [
    "Although the isna() method returns 0 rows with missing data in title, there are still blank spaces within the dataset as shown above. These blanks are probably due to foreign languages."
   ]
  },
  {
   "cell_type": "code",
   "execution_count": 33,
   "metadata": {},
   "outputs": [],
   "source": [
    "# Extract the indexes of empty titles and storing in a list\n",
    "null_list = df_reddit[(df_reddit['title'] == '')].index"
   ]
  },
  {
   "cell_type": "code",
   "execution_count": 34,
   "metadata": {},
   "outputs": [],
   "source": [
    "# Before we can create a loop to drop all the rows whose titles are empty\n",
    "# we need to create a list in running numbers of the length and add to the indexes\n",
    "# as the indexes will shift up each time we drop a row\n",
    "ordered_list = list(range(len(null_list)))\n",
    "null_list = null_list - ordered_list"
   ]
  },
  {
   "cell_type": "code",
   "execution_count": null,
   "metadata": {},
   "outputs": [],
   "source": [
    "# Use a for loop to drop all empty titles where the emoji column is also blank\n",
    "for x in null_list:\n",
    "    df_reddit.drop(df_reddit.index[x], axis=0, inplace=True)\n",
    "\n",
    "# Resetting index after dropping\n",
    "df_reddit.reset_index(drop = True, inplace = True)"
   ]
  },
  {
   "cell_type": "code",
   "execution_count": 36,
   "metadata": {},
   "outputs": [
    {
     "name": "stdout",
     "output_type": "stream",
     "text": [
      "55\n"
     ]
    },
    {
     "data": {
      "text/plain": [
       "(19867, 3)"
      ]
     },
     "execution_count": 36,
     "metadata": {},
     "output_type": "execute_result"
    }
   ],
   "source": [
    "# Check correct number of rows deleted.\n",
    "print(len(null_list))\n",
    "df_reddit.shape"
   ]
  },
  {
   "cell_type": "markdown",
   "metadata": {},
   "source": [
    "Checking the number of rows before dropping is 19922 and after dropping is 19854 which is 68 rows drop. As it is meaningless to impute values in nlp, the right thing to do is to drop missing values. Additionally, the number of rows drop is small and less than 0.4% of the data thus it is not require to scrap more data."
   ]
  },
  {
   "cell_type": "markdown",
   "metadata": {},
   "source": [
    "# 3.0 Distribution of Data\n",
    "Before we look at the distribution of data, lets remove duplicate first. Duplicate titles will cause certain words to have high count after separating the titles to words and may become potential outliers"
   ]
  },
  {
   "cell_type": "code",
   "execution_count": null,
   "metadata": {},
   "outputs": [],
   "source": [
    "# Remove white spaces before and after the title\n",
    "df_reddit['title'] = df_reddit['title'].str.strip()\n",
    "\n",
    "# Remove double white spaces in title\n",
    "df_reddit = df_reddit.replace('\\s+', ' ', regex=True)\n",
    "\n",
    "# Check for duplicates\n",
    "df_reddit.duplicated(subset = 'title').sum()"
   ]
  },
  {
   "cell_type": "code",
   "execution_count": 38,
   "metadata": {},
   "outputs": [
    {
     "data": {
      "text/plain": [
       "(19278, 3)"
      ]
     },
     "execution_count": 38,
     "metadata": {},
     "output_type": "execute_result"
    }
   ],
   "source": [
    "# Drop duplicates\n",
    "df_reddit.drop_duplicates(inplace = True, ignore_index = True)\n",
    "df_reddit.shape"
   ]
  },
  {
   "cell_type": "markdown",
   "metadata": {},
   "source": [
    "555 rows of duplicated data is dropped."
   ]
  },
  {
   "cell_type": "markdown",
   "metadata": {},
   "source": [
    "# 3.1 Distribution of Data - Emoji"
   ]
  },
  {
   "cell_type": "code",
   "execution_count": null,
   "metadata": {},
   "outputs": [],
   "source": [
    "# Mapping rows with website links to 1 and without to 0\n",
    "df_reddit['website'] = np.where(df_reddit['website'].isnull(), 0, 1)\n",
    "\n",
    "# Mapping rows with emojis to 1 and without to 0\n",
    "df_reddit['emoji'] = np.where(df_reddit['emoji'] == '', 0, 1)\n",
    "\n",
    "# Mapping dogs to 1 and cats to 0\n",
    "df_reddit['subreddit'] = np.where(df_reddit['subreddit'] == 'dogs', 1, 0)"
   ]
  },
  {
   "cell_type": "code",
   "execution_count": null,
   "metadata": {},
   "outputs": [],
   "source": [
    "sns.countplot(x = 'subreddit', hue = 'emoji', data = df_reddit);"
   ]
  },
  {
   "cell_type": "markdown",
   "metadata": {},
   "source": [
    "The graph shows that subreddit cats has much more emojis than subreddit dogs. This means that cat lovers express themselves more through emojis than dog lovers."
   ]
  },
  {
   "cell_type": "markdown",
   "metadata": {},
   "source": [
    "# 3.2 Distribution of Data - Word Count"
   ]
  },
  {
   "cell_type": "code",
   "execution_count": 42,
   "metadata": {},
   "outputs": [
    {
     "data": {
      "text/html": [
       "<div>\n",
       "<style scoped>\n",
       "    .dataframe tbody tr th:only-of-type {\n",
       "        vertical-align: middle;\n",
       "    }\n",
       "\n",
       "    .dataframe tbody tr th {\n",
       "        vertical-align: top;\n",
       "    }\n",
       "\n",
       "    .dataframe thead th {\n",
       "        text-align: right;\n",
       "    }\n",
       "</style>\n",
       "<table border=\"1\" class=\"dataframe\">\n",
       "  <thead>\n",
       "    <tr style=\"text-align: right;\">\n",
       "      <th></th>\n",
       "      <th>subreddit</th>\n",
       "      <th>title</th>\n",
       "      <th>website</th>\n",
       "      <th>word_count</th>\n",
       "    </tr>\n",
       "  </thead>\n",
       "  <tbody>\n",
       "    <tr>\n",
       "      <th>0</th>\n",
       "      <td>cats</td>\n",
       "      <td>i came home sick from work with pneumonia here...</td>\n",
       "      <td>1</td>\n",
       "      <td>23</td>\n",
       "    </tr>\n",
       "    <tr>\n",
       "      <th>1</th>\n",
       "      <td>cats</td>\n",
       "      <td>my sleepyhead curled up this morning</td>\n",
       "      <td>1</td>\n",
       "      <td>6</td>\n",
       "    </tr>\n",
       "    <tr>\n",
       "      <th>2</th>\n",
       "      <td>cats</td>\n",
       "      <td>spooky takes care of me when i wfh who needs h...</td>\n",
       "      <td>1</td>\n",
       "      <td>15</td>\n",
       "    </tr>\n",
       "    <tr>\n",
       "      <th>3</th>\n",
       "      <td>cats</td>\n",
       "      <td>hi i am a new cat mom and am hoping someone mi...</td>\n",
       "      <td>1</td>\n",
       "      <td>25</td>\n",
       "    </tr>\n",
       "    <tr>\n",
       "      <th>4</th>\n",
       "      <td>cats</td>\n",
       "      <td>spooky looks after me when i wfh who needs a h...</td>\n",
       "      <td>1</td>\n",
       "      <td>19</td>\n",
       "    </tr>\n",
       "  </tbody>\n",
       "</table>\n",
       "</div>"
      ],
      "text/plain": [
       "  subreddit                                              title  website  \\\n",
       "0      cats  i came home sick from work with pneumonia here...        1   \n",
       "1      cats               my sleepyhead curled up this morning        1   \n",
       "2      cats  spooky takes care of me when i wfh who needs h...        1   \n",
       "3      cats  hi i am a new cat mom and am hoping someone mi...        1   \n",
       "4      cats  spooky looks after me when i wfh who needs a h...        1   \n",
       "\n",
       "   word_count  \n",
       "0          23  \n",
       "1           6  \n",
       "2          15  \n",
       "3          25  \n",
       "4          19  "
      ]
     },
     "execution_count": 42,
     "metadata": {},
     "output_type": "execute_result"
    }
   ],
   "source": [
    "# Creating a column to store the number of words of each title\n",
    "df_reddit['word_count'] = df_reddit['title'].map(lambda x: len(x.split()))\n",
    "df_reddit.head()"
   ]
  },
  {
   "cell_type": "code",
   "execution_count": 43,
   "metadata": {},
   "outputs": [
    {
     "data": {
      "text/html": [
       "<div>\n",
       "<style scoped>\n",
       "    .dataframe tbody tr th:only-of-type {\n",
       "        vertical-align: middle;\n",
       "    }\n",
       "\n",
       "    .dataframe tbody tr th {\n",
       "        vertical-align: top;\n",
       "    }\n",
       "\n",
       "    .dataframe thead th {\n",
       "        text-align: right;\n",
       "    }\n",
       "</style>\n",
       "<table border=\"1\" class=\"dataframe\">\n",
       "  <thead>\n",
       "    <tr style=\"text-align: right;\">\n",
       "      <th></th>\n",
       "      <th>word_count</th>\n",
       "    </tr>\n",
       "  </thead>\n",
       "  <tbody>\n",
       "    <tr>\n",
       "      <th>2326</th>\n",
       "      <td>64</td>\n",
       "    </tr>\n",
       "    <tr>\n",
       "      <th>210</th>\n",
       "      <td>63</td>\n",
       "    </tr>\n",
       "    <tr>\n",
       "      <th>8425</th>\n",
       "      <td>63</td>\n",
       "    </tr>\n",
       "    <tr>\n",
       "      <th>3658</th>\n",
       "      <td>63</td>\n",
       "    </tr>\n",
       "    <tr>\n",
       "      <th>577</th>\n",
       "      <td>62</td>\n",
       "    </tr>\n",
       "    <tr>\n",
       "      <th>...</th>\n",
       "      <td>...</td>\n",
       "    </tr>\n",
       "    <tr>\n",
       "      <th>14838</th>\n",
       "      <td>1</td>\n",
       "    </tr>\n",
       "    <tr>\n",
       "      <th>1854</th>\n",
       "      <td>1</td>\n",
       "    </tr>\n",
       "    <tr>\n",
       "      <th>18859</th>\n",
       "      <td>1</td>\n",
       "    </tr>\n",
       "    <tr>\n",
       "      <th>13452</th>\n",
       "      <td>1</td>\n",
       "    </tr>\n",
       "    <tr>\n",
       "      <th>2560</th>\n",
       "      <td>1</td>\n",
       "    </tr>\n",
       "  </tbody>\n",
       "</table>\n",
       "<p>19278 rows × 1 columns</p>\n",
       "</div>"
      ],
      "text/plain": [
       "       word_count\n",
       "2326           64\n",
       "210            63\n",
       "8425           63\n",
       "3658           63\n",
       "577            62\n",
       "...           ...\n",
       "14838           1\n",
       "1854            1\n",
       "18859           1\n",
       "13452           1\n",
       "2560            1\n",
       "\n",
       "[19278 rows x 1 columns]"
      ]
     },
     "execution_count": 43,
     "metadata": {},
     "output_type": "execute_result"
    }
   ],
   "source": [
    "df_reddit.sort_values(by='word_count', ascending=False)[['word_count']]"
   ]
  },
  {
   "cell_type": "markdown",
   "metadata": {},
   "source": [
    "The highest number of word count for title is 64 and the lowest is 1."
   ]
  },
  {
   "cell_type": "code",
   "execution_count": 44,
   "metadata": {},
   "outputs": [
    {
     "data": {
      "text/plain": [
       "<Figure size 432x288 with 0 Axes>"
      ]
     },
     "metadata": {},
     "output_type": "display_data"
    },
    {
     "data": {
      "image/png": "[encoded data removed]",
      "text/plain": [
       "<Figure size 360x360 with 1 Axes>"
      ]
     },
     "metadata": {
      "needs_background": "light"
     },
     "output_type": "display_data"
    }
   ],
   "source": [
    "plt.suptitle('Distribution of Word Count', fontsize=15)\n",
    "\n",
    "sns.displot(df_reddit['word_count'], kde=False);"
   ]
  },
  {
   "cell_type": "markdown",
   "metadata": {},
   "source": [
    "The distribution of word count is right skewed. Most of the word count lies between 1 to 15 with the rest stretching to 64.  This is coomon as most people do not use too much words in their title.\n",
    "\n",
    "The peak word count is about 5 to 7."
   ]
  },
  {
   "cell_type": "markdown",
   "metadata": {},
   "source": [
    "# 3.3 Distribution of Data - Title Length"
   ]
  },
  {
   "cell_type": "code",
   "execution_count": 45,
   "metadata": {},
   "outputs": [
    {
     "data": {
      "text/html": [
       "<div>\n",
       "<style scoped>\n",
       "    .dataframe tbody tr th:only-of-type {\n",
       "        vertical-align: middle;\n",
       "    }\n",
       "\n",
       "    .dataframe tbody tr th {\n",
       "        vertical-align: top;\n",
       "    }\n",
       "\n",
       "    .dataframe thead th {\n",
       "        text-align: right;\n",
       "    }\n",
       "</style>\n",
       "<table border=\"1\" class=\"dataframe\">\n",
       "  <thead>\n",
       "    <tr style=\"text-align: right;\">\n",
       "      <th></th>\n",
       "      <th>title</th>\n",
       "    </tr>\n",
       "  </thead>\n",
       "  <tbody>\n",
       "    <tr>\n",
       "      <th>11174</th>\n",
       "      <td>i love cocker spaniels because cocker spaniels are affectionate dogs that enjoy spending time with their owners and their families cockers have an excellent personality and are an ideal breed of dog for someone looking for a pet that enjoys company i recently got one and it had the biggest smile</td>\n",
       "    </tr>\n",
       "    <tr>\n",
       "      <th>7897</th>\n",
       "      <td>everyone knows that cats do not have a fixed price and they are constantly changing according to factors such as appearance and ancestry among all the english shorts the blue ones will be relatively expensive cats are not recommended to trade in different places try to choose the same city as p</td>\n",
       "    </tr>\n",
       "    <tr>\n",
       "      <th>7594</th>\n",
       "      <td>since august this baby has been gone but today we managed to track him down bcs of a lovely family on facebook i missed him so much and cried when i touched him again he ie back in his home all good and still remembers every room lt3 im so happy he walked to a whole new city we are all suprised</td>\n",
       "    </tr>\n",
       "    <tr>\n",
       "      <th>1783</th>\n",
       "      <td>update on my new adopted cat mrs kitty odd name but thats what previous owners named her shes finally decided not to hide is starting to eat and drink more frequently and has started using her litter box apparently she has chose me as her person because she hardly ever leaves my side so happy</td>\n",
       "    </tr>\n",
       "    <tr>\n",
       "      <th>2813</th>\n",
       "      <td>hello my name is martijntje and i am a student from the rottedam business school i am conducting a research regarding a fictional company called wispurrbed it is a company that specalizes in cat beds i need to find out if they could do business in latvia the survey is anonymous and in latvian</td>\n",
       "    </tr>\n",
       "  </tbody>\n",
       "</table>\n",
       "</div>"
      ],
      "text/plain": [
       "                                                                                                                                                                                                                                                                                                          title\n",
       "11174  i love cocker spaniels because cocker spaniels are affectionate dogs that enjoy spending time with their owners and their families cockers have an excellent personality and are an ideal breed of dog for someone looking for a pet that enjoys company i recently got one and it had the biggest smile\n",
       "7897    everyone knows that cats do not have a fixed price and they are constantly changing according to factors such as appearance and ancestry among all the english shorts the blue ones will be relatively expensive cats are not recommended to trade in different places try to choose the same city as p\n",
       "7594    since august this baby has been gone but today we managed to track him down bcs of a lovely family on facebook i missed him so much and cried when i touched him again he ie back in his home all good and still remembers every room lt3 im so happy he walked to a whole new city we are all suprised\n",
       "1783      update on my new adopted cat mrs kitty odd name but thats what previous owners named her shes finally decided not to hide is starting to eat and drink more frequently and has started using her litter box apparently she has chose me as her person because she hardly ever leaves my side so happy\n",
       "2813      hello my name is martijntje and i am a student from the rottedam business school i am conducting a research regarding a fictional company called wispurrbed it is a company that specalizes in cat beds i need to find out if they could do business in latvia the survey is anonymous and in latvian"
      ]
     },
     "execution_count": 45,
     "metadata": {},
     "output_type": "execute_result"
    }
   ],
   "source": [
    "# Create a new column to store length of title\n",
    "df_reddit['title_length'] = df_reddit['title'].map(len)\n",
    "\n",
    "# Display the top 5 longest titles\n",
    "pd. set_option('display.max_colwidth', None)\n",
    "df_reddit.sort_values(by='title_length', ascending=False)[['title']].head()"
   ]
  },
  {
   "cell_type": "code",
   "execution_count": 46,
   "metadata": {},
   "outputs": [
    {
     "data": {
      "text/plain": [
       "<Figure size 432x288 with 0 Axes>"
      ]
     },
     "metadata": {},
     "output_type": "display_data"
    },
    {
     "data": {
      "image/png": "[encoded data removed]",
      "text/plain": [
       "<Figure size 360x360 with 1 Axes>"
      ]
     },
     "metadata": {
      "needs_background": "light"
     },
     "output_type": "display_data"
    }
   ],
   "source": [
    "plt.suptitle('Distribution of Title Length', fontsize=15)\n",
    "\n",
    "sns.displot(df_reddit['title_length'], kde=False);"
   ]
  },
  {
   "cell_type": "markdown",
   "metadata": {},
   "source": [
    "The distribution of title length is right skewed. The length of majority of the titles lies between 1 to 100 with some of the titles been exceptionally long to about 300. This is a normal trend as most people tend to keep their titles short.\n",
    "\n",
    "The peak title length is about 30 to 40 in length."
   ]
  },
  {
   "cell_type": "markdown",
   "metadata": {},
   "source": [
    "# 4. Outliers"
   ]
  },
  {
   "cell_type": "code",
   "execution_count": 47,
   "metadata": {},
   "outputs": [
    {
     "data": {
      "image/png": "[encoded data removed]",
      "text/plain": [
       "<Figure size 432x288 with 1 Axes>"
      ]
     },
     "metadata": {
      "needs_background": "light"
     },
     "output_type": "display_data"
    }
   ],
   "source": [
    "plt.suptitle('Box Plot of Word Count', fontsize=15)\n",
    "\n",
    "sns.boxplot(x='subreddit', y='word_count', data = df_reddit);"
   ]
  },
  {
   "cell_type": "markdown",
   "metadata": {},
   "source": [
    "The titles from subreddit dogs contains more words than titles from subreddit cats. Although both reddit have alot of outliers in terms of word count but it may not matter once we split the title into individual words. However, we need to take note of posts with repeated words. This will unnecessary add to certain words been a more important feature and picked up during machine learning."
   ]
  },
  {
   "cell_type": "code",
   "execution_count": 48,
   "metadata": {},
   "outputs": [
    {
     "data": {
      "text/plain": [
       "'older dog attacked new puppy'"
      ]
     },
     "execution_count": 48,
     "metadata": {},
     "output_type": "execute_result"
    }
   ],
   "source": [
    "# Displaying a title with repeated words\n",
    "df_reddit['title'].iloc[18420]"
   ]
  },
  {
   "cell_type": "code",
   "execution_count": 49,
   "metadata": {},
   "outputs": [],
   "source": [
    "# Function to remove duplicate words in\n",
    "def Remove_Duplicates(sentence):\n",
    "    regex = r\"\\b(\\w+)(?:\\W\\1\\b)+\"\n",
    "    return re.sub(regex, r\"\\1\", sentence)\n",
    "\n",
    "df_reddit['title'] = df_reddit['title'].map(Remove_Duplicates)"
   ]
  },
  {
   "cell_type": "code",
   "execution_count": 50,
   "metadata": {},
   "outputs": [
    {
     "data": {
      "text/plain": [
       "'older dog attacked new puppy'"
      ]
     },
     "execution_count": 50,
     "metadata": {},
     "output_type": "execute_result"
    }
   ],
   "source": [
    "# Check to see duplicated words remove\n",
    "df_reddit['title'].iloc[18420]"
   ]
  },
  {
   "cell_type": "markdown",
   "metadata": {},
   "source": [
    "# 5. Summary Statistics"
   ]
  },
  {
   "cell_type": "code",
   "execution_count": 51,
   "metadata": {},
   "outputs": [
    {
     "data": {
      "text/html": [
       "<div>\n",
       "<style scoped>\n",
       "    .dataframe tbody tr th:only-of-type {\n",
       "        vertical-align: middle;\n",
       "    }\n",
       "\n",
       "    .dataframe tbody tr th {\n",
       "        vertical-align: top;\n",
       "    }\n",
       "\n",
       "    .dataframe thead th {\n",
       "        text-align: right;\n",
       "    }\n",
       "</style>\n",
       "<table border=\"1\" class=\"dataframe\">\n",
       "  <thead>\n",
       "    <tr style=\"text-align: right;\">\n",
       "      <th></th>\n",
       "      <th>website</th>\n",
       "      <th>word_count</th>\n",
       "      <th>title_length</th>\n",
       "    </tr>\n",
       "  </thead>\n",
       "  <tbody>\n",
       "    <tr>\n",
       "      <th>count</th>\n",
       "      <td>19278.0</td>\n",
       "      <td>19278.000000</td>\n",
       "      <td>19278.000000</td>\n",
       "    </tr>\n",
       "    <tr>\n",
       "      <th>mean</th>\n",
       "      <td>1.0</td>\n",
       "      <td>9.700176</td>\n",
       "      <td>49.331051</td>\n",
       "    </tr>\n",
       "    <tr>\n",
       "      <th>std</th>\n",
       "      <td>0.0</td>\n",
       "      <td>8.283585</td>\n",
       "      <td>40.871999</td>\n",
       "    </tr>\n",
       "    <tr>\n",
       "      <th>min</th>\n",
       "      <td>1.0</td>\n",
       "      <td>1.000000</td>\n",
       "      <td>1.000000</td>\n",
       "    </tr>\n",
       "    <tr>\n",
       "      <th>25%</th>\n",
       "      <td>1.0</td>\n",
       "      <td>5.000000</td>\n",
       "      <td>24.000000</td>\n",
       "    </tr>\n",
       "    <tr>\n",
       "      <th>50%</th>\n",
       "      <td>1.0</td>\n",
       "      <td>7.000000</td>\n",
       "      <td>38.000000</td>\n",
       "    </tr>\n",
       "    <tr>\n",
       "      <th>75%</th>\n",
       "      <td>1.0</td>\n",
       "      <td>12.000000</td>\n",
       "      <td>60.000000</td>\n",
       "    </tr>\n",
       "    <tr>\n",
       "      <th>max</th>\n",
       "      <td>1.0</td>\n",
       "      <td>64.000000</td>\n",
       "      <td>296.000000</td>\n",
       "    </tr>\n",
       "  </tbody>\n",
       "</table>\n",
       "</div>"
      ],
      "text/plain": [
       "       website    word_count  title_length\n",
       "count  19278.0  19278.000000  19278.000000\n",
       "mean       1.0      9.700176     49.331051\n",
       "std        0.0      8.283585     40.871999\n",
       "min        1.0      1.000000      1.000000\n",
       "25%        1.0      5.000000     24.000000\n",
       "50%        1.0      7.000000     38.000000\n",
       "75%        1.0     12.000000     60.000000\n",
       "max        1.0     64.000000    296.000000"
      ]
     },
     "execution_count": 51,
     "metadata": {},
     "output_type": "execute_result"
    }
   ],
   "source": [
    "df_reddit.describe()"
   ]
  },
  {
   "cell_type": "markdown",
   "metadata": {},
   "source": [
    "The summary statistics do not show any issues with the data."
   ]
  },
  {
   "cell_type": "code",
   "execution_count": 52,
   "metadata": {},
   "outputs": [],
   "source": [
    "# Saving the lemmatized version of the data\n",
    "df_reddit.to_csv('./dataset/cleaned.csv', index = False)"
   ]
  },
  {
   "cell_type": "markdown",
   "metadata": {},
   "source": [
    "# 6. Exploratory Data Analysis\n",
    "We will first lemmatize the titles then use count Vectoriser to split up the words and find the most common words."
   ]
  },
  {
   "cell_type": "code",
   "execution_count": 53,
   "metadata": {},
   "outputs": [
    {
     "data": {
      "text/html": [
       "<div>\n",
       "<style scoped>\n",
       "    .dataframe tbody tr th:only-of-type {\n",
       "        vertical-align: middle;\n",
       "    }\n",
       "\n",
       "    .dataframe tbody tr th {\n",
       "        vertical-align: top;\n",
       "    }\n",
       "\n",
       "    .dataframe thead th {\n",
       "        text-align: right;\n",
       "    }\n",
       "</style>\n",
       "<table border=\"1\" class=\"dataframe\">\n",
       "  <thead>\n",
       "    <tr style=\"text-align: right;\">\n",
       "      <th></th>\n",
       "      <th>subreddit</th>\n",
       "      <th>title</th>\n",
       "      <th>website</th>\n",
       "      <th>word_count</th>\n",
       "      <th>title_length</th>\n",
       "    </tr>\n",
       "  </thead>\n",
       "  <tbody>\n",
       "    <tr>\n",
       "      <th>0</th>\n",
       "      <td>cats</td>\n",
       "      <td>i came home sick from work with pneumonia here is where i found my wife cat watching tv then noticing me taking picture</td>\n",
       "      <td>1</td>\n",
       "      <td>23</td>\n",
       "      <td>121</td>\n",
       "    </tr>\n",
       "    <tr>\n",
       "      <th>1</th>\n",
       "      <td>cats</td>\n",
       "      <td>my sleepyhead curled up this morning</td>\n",
       "      <td>1</td>\n",
       "      <td>6</td>\n",
       "      <td>36</td>\n",
       "    </tr>\n",
       "    <tr>\n",
       "      <th>2</th>\n",
       "      <td>cats</td>\n",
       "      <td>spooky take care of me when i wfh who need hr when youve got haww</td>\n",
       "      <td>1</td>\n",
       "      <td>15</td>\n",
       "      <td>67</td>\n",
       "    </tr>\n",
       "    <tr>\n",
       "      <th>3</th>\n",
       "      <td>cats</td>\n",
       "      <td>hi i am a new cat mom and am hoping someone might have experience with something similar to my cat ear detail in post comment</td>\n",
       "      <td>1</td>\n",
       "      <td>25</td>\n",
       "      <td>128</td>\n",
       "    </tr>\n",
       "    <tr>\n",
       "      <th>4</th>\n",
       "      <td>cats</td>\n",
       "      <td>spooky look after me when i wfh who need a hr department when you can have a haww department</td>\n",
       "      <td>1</td>\n",
       "      <td>19</td>\n",
       "      <td>94</td>\n",
       "    </tr>\n",
       "  </tbody>\n",
       "</table>\n",
       "</div>"
      ],
      "text/plain": [
       "  subreddit  \\\n",
       "0      cats   \n",
       "1      cats   \n",
       "2      cats   \n",
       "3      cats   \n",
       "4      cats   \n",
       "\n",
       "                                                                                                                           title  \\\n",
       "0        i came home sick from work with pneumonia here is where i found my wife cat watching tv then noticing me taking picture   \n",
       "1                                                                                           my sleepyhead curled up this morning   \n",
       "2                                                              spooky take care of me when i wfh who need hr when youve got haww   \n",
       "3  hi i am a new cat mom and am hoping someone might have experience with something similar to my cat ear detail in post comment   \n",
       "4                                   spooky look after me when i wfh who need a hr department when you can have a haww department   \n",
       "\n",
       "   website  word_count  title_length  \n",
       "0        1          23           121  \n",
       "1        1           6            36  \n",
       "2        1          15            67  \n",
       "3        1          25           128  \n",
       "4        1          19            94  "
      ]
     },
     "execution_count": 53,
     "metadata": {},
     "output_type": "execute_result"
    }
   ],
   "source": [
    "# Instantiate lemmatizer.\n",
    "w_tokenizer = WhitespaceTokenizer()\n",
    "lemmatizer = WordNetLemmatizer()\n",
    "\n",
    "def lemmatize_text(text):\n",
    "    sentence = \" \".join([lemmatizer.lemmatize(w) for w in w_tokenizer.tokenize(text)])\n",
    "    return sentence\n",
    "\n",
    "df_reddit['title'] = df_reddit['title'].apply(lemmatize_text)\n",
    "\n",
    "df_reddit.head()"
   ]
  },
  {
   "cell_type": "code",
   "execution_count": 55,
   "metadata": {},
   "outputs": [
    {
     "data": {
      "text/plain": [
       "dog       6308\n",
       "cat       3520\n",
       "help      1076\n",
       "new        868\n",
       "year       816\n",
       "like       756\n",
       "ha         743\n",
       "just       719\n",
       "old        690\n",
       "puppy      673\n",
       "wa         651\n",
       "love       565\n",
       "doe        534\n",
       "need       528\n",
       "im         521\n",
       "breed      497\n",
       "advice     484\n",
       "kitten     448\n",
       "little     446\n",
       "day        443\n",
       "dtype: int64"
      ]
     },
     "execution_count": 55,
     "metadata": {},
     "output_type": "execute_result"
    }
   ],
   "source": [
    "X = df_reddit['title']\n",
    "\n",
    "# Instantiate a CountVectorizer with the default hyperparameters.\n",
    "cvec = CountVectorizer(stop_words='english', max_features = 20)\n",
    "\n",
    "# Fit the vectorizer on our corpus and transform it.\n",
    "X_vec = cvec.fit_transform(X)\n",
    "\n",
    "# Create a dataframe after count vectoriser\n",
    "df_vec_reddit = pd.DataFrame(X_vec.todense(), columns = cvec.get_feature_names())\n",
    "\n",
    "# Pulling out the top 15 words\n",
    "df_vec_reddit.sum().sort_values(ascending=False).head(20)"
   ]
  },
  {
   "cell_type": "code",
   "execution_count": 56,
   "metadata": {},
   "outputs": [
    {
     "data": {
      "image/png": "[encoded data removed]",
      "text/plain": [
       "<Figure size 432x288 with 1 Axes>"
      ]
     },
     "metadata": {
      "needs_background": "light"
     },
     "output_type": "display_data"
    }
   ],
   "source": [
    "df_vec_reddit.sum().sort_values(ascending=False).head(15).plot(kind='barh');"
   ]
  },
  {
   "cell_type": "markdown",
   "metadata": {},
   "source": [
    "# 7. Initial Assessment of Problem Statement"
   ]
  },
  {
   "cell_type": "markdown",
   "metadata": {},
   "source": [
    "After exploratory data analysis, the following evidence shows possibility that the model will score well.\n",
    "* Posts from subreddit cats contains a lot more emojis than posts from subreddit dogs.\n",
    "* The top 20 words after counttokeniser shows that there are about 7500 instances of dog, puppy and breed which is about 75% of the posts from subreddit dogs. \n",
    "* Although there are only about 4000 instances of the words cat and kitten, there is still a high chance the model will perform well to predict the source of the subreddit by learning from other words."
   ]
  }
 ],
 "metadata": {
  "anaconda-cloud": {},
  "celltoolbar": "Raw Cell Format",
  "kernelspec": {
   "display_name": "Python 3 (ipykernel)",
   "language": "python",
   "name": "python3"
  },
  "language_info": {
   "codemirror_mode": {
    "name": "ipython",
    "version": 3
   },
   "file_extension": ".py",
   "mimetype": "text/x-python",
   "name": "python",
   "nbconvert_exporter": "python",
   "pygments_lexer": "ipython3",
   "version": "3.9.7"
  }
 },
 "nbformat": 4,
 "nbformat_minor": 4
}
