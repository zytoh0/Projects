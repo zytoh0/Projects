{
 "cells": [
  {
   "cell_type": "code",
   "execution_count": null,
   "id": "b1d71a75",
   "metadata": {},
   "outputs": [],
   "source": [
    "COME OUT WITH AOC MODEL "
   ]
  },
  {
   "cell_type": "code",
   "execution_count": 20,
   "id": "ce3a6e88",
   "metadata": {},
   "outputs": [],
   "source": [
    "# imports\n",
    "import pandas as pd\n",
    "import numpy as np\n",
    "import seaborn as sns\n",
    "import matplotlib.pyplot as plt\n",
    "from sklearn.linear_model import LogisticRegression \n",
    "from sklearn.model_selection import train_test_split, GridSearchCV,cross_val_score\n",
    "from sklearn.pipeline import Pipeline\n",
    "from sklearn.naive_bayes import MultinomialNB\n",
    "\n",
    "# Import CountVectorizer and TFIDFVectorizer from feature_extraction.text.\n",
    "import sklearn.feature_extraction.text \n",
    "from sklearn.feature_extraction.text import TfidfVectorizer, TfidfTransformer, CountVectorizer\n",
    "\n",
    "from sklearn.ensemble import RandomForestClassifier\n",
    "from sklearn.metrics import plot_confusion_matrix, confusion_matrix, mean_squared_error, classification_report\n",
    "from sklearn.metrics import accuracy_score, precision_score, recall_score, f1_score, roc_auc_score\n"
   ]
  },
  {
   "cell_type": "code",
   "execution_count": 2,
   "id": "1a3a5c36",
   "metadata": {},
   "outputs": [],
   "source": [
    "df = pd.read_csv('../project_3/CSV files/final_df.csv')"
   ]
  },
  {
   "cell_type": "code",
   "execution_count": 3,
   "id": "7db8f4ea",
   "metadata": {},
   "outputs": [],
   "source": [
    "df.drop(columns ='Unnamed: 0', axis=1, inplace=True) #to drop unnamed column\n"
   ]
  },
  {
   "cell_type": "code",
   "execution_count": 4,
   "id": "279feb3f",
   "metadata": {
    "scrolled": false
   },
   "outputs": [
    {
     "name": "stdout",
     "output_type": "stream",
     "text": [
      "(19912, 2)\n",
      "<class 'pandas.core.frame.DataFrame'>\n",
      "RangeIndex: 19912 entries, 0 to 19911\n",
      "Data columns (total 2 columns):\n",
      " #   Column       Non-Null Count  Dtype \n",
      "---  ------       --------------  ----- \n",
      " 0   subreddit    19912 non-null  int64 \n",
      " 1   clean_title  19892 non-null  object\n",
      "dtypes: int64(1), object(1)\n",
      "memory usage: 311.2+ KB\n"
     ]
    }
   ],
   "source": [
    "print(df.shape)\n",
    "df.info()"
   ]
  },
  {
   "cell_type": "code",
   "execution_count": 5,
   "id": "3c15cc6c",
   "metadata": {},
   "outputs": [],
   "source": [
    "bool_series = pd.isnull(df[\"clean_title\"]) "
   ]
  },
  {
   "cell_type": "code",
   "execution_count": 6,
   "id": "5f3b6694",
   "metadata": {},
   "outputs": [
    {
     "data": {
      "text/html": [
       "<div>\n",
       "<style scoped>\n",
       "    .dataframe tbody tr th:only-of-type {\n",
       "        vertical-align: middle;\n",
       "    }\n",
       "\n",
       "    .dataframe tbody tr th {\n",
       "        vertical-align: top;\n",
       "    }\n",
       "\n",
       "    .dataframe thead th {\n",
       "        text-align: right;\n",
       "    }\n",
       "</style>\n",
       "<table border=\"1\" class=\"dataframe\">\n",
       "  <thead>\n",
       "    <tr style=\"text-align: right;\">\n",
       "      <th></th>\n",
       "      <th>subreddit</th>\n",
       "      <th>clean_title</th>\n",
       "    </tr>\n",
       "  </thead>\n",
       "  <tbody>\n",
       "    <tr>\n",
       "      <th>1812</th>\n",
       "      <td>1</td>\n",
       "      <td>NaN</td>\n",
       "    </tr>\n",
       "    <tr>\n",
       "      <th>2790</th>\n",
       "      <td>1</td>\n",
       "      <td>NaN</td>\n",
       "    </tr>\n",
       "    <tr>\n",
       "      <th>2935</th>\n",
       "      <td>1</td>\n",
       "      <td>NaN</td>\n",
       "    </tr>\n",
       "    <tr>\n",
       "      <th>3719</th>\n",
       "      <td>1</td>\n",
       "      <td>NaN</td>\n",
       "    </tr>\n",
       "    <tr>\n",
       "      <th>5906</th>\n",
       "      <td>1</td>\n",
       "      <td>NaN</td>\n",
       "    </tr>\n",
       "    <tr>\n",
       "      <th>7504</th>\n",
       "      <td>1</td>\n",
       "      <td>NaN</td>\n",
       "    </tr>\n",
       "    <tr>\n",
       "      <th>9052</th>\n",
       "      <td>1</td>\n",
       "      <td>NaN</td>\n",
       "    </tr>\n",
       "    <tr>\n",
       "      <th>10670</th>\n",
       "      <td>0</td>\n",
       "      <td>NaN</td>\n",
       "    </tr>\n",
       "    <tr>\n",
       "      <th>11315</th>\n",
       "      <td>0</td>\n",
       "      <td>NaN</td>\n",
       "    </tr>\n",
       "    <tr>\n",
       "      <th>12534</th>\n",
       "      <td>0</td>\n",
       "      <td>NaN</td>\n",
       "    </tr>\n",
       "    <tr>\n",
       "      <th>12845</th>\n",
       "      <td>0</td>\n",
       "      <td>NaN</td>\n",
       "    </tr>\n",
       "    <tr>\n",
       "      <th>12983</th>\n",
       "      <td>0</td>\n",
       "      <td>NaN</td>\n",
       "    </tr>\n",
       "    <tr>\n",
       "      <th>13771</th>\n",
       "      <td>0</td>\n",
       "      <td>NaN</td>\n",
       "    </tr>\n",
       "    <tr>\n",
       "      <th>13815</th>\n",
       "      <td>0</td>\n",
       "      <td>NaN</td>\n",
       "    </tr>\n",
       "    <tr>\n",
       "      <th>14428</th>\n",
       "      <td>0</td>\n",
       "      <td>NaN</td>\n",
       "    </tr>\n",
       "    <tr>\n",
       "      <th>15036</th>\n",
       "      <td>0</td>\n",
       "      <td>NaN</td>\n",
       "    </tr>\n",
       "    <tr>\n",
       "      <th>16633</th>\n",
       "      <td>0</td>\n",
       "      <td>NaN</td>\n",
       "    </tr>\n",
       "    <tr>\n",
       "      <th>17118</th>\n",
       "      <td>0</td>\n",
       "      <td>NaN</td>\n",
       "    </tr>\n",
       "    <tr>\n",
       "      <th>18080</th>\n",
       "      <td>0</td>\n",
       "      <td>NaN</td>\n",
       "    </tr>\n",
       "    <tr>\n",
       "      <th>18595</th>\n",
       "      <td>0</td>\n",
       "      <td>NaN</td>\n",
       "    </tr>\n",
       "  </tbody>\n",
       "</table>\n",
       "</div>"
      ],
      "text/plain": [
       "       subreddit clean_title\n",
       "1812           1         NaN\n",
       "2790           1         NaN\n",
       "2935           1         NaN\n",
       "3719           1         NaN\n",
       "5906           1         NaN\n",
       "7504           1         NaN\n",
       "9052           1         NaN\n",
       "10670          0         NaN\n",
       "11315          0         NaN\n",
       "12534          0         NaN\n",
       "12845          0         NaN\n",
       "12983          0         NaN\n",
       "13771          0         NaN\n",
       "13815          0         NaN\n",
       "14428          0         NaN\n",
       "15036          0         NaN\n",
       "16633          0         NaN\n",
       "17118          0         NaN\n",
       "18080          0         NaN\n",
       "18595          0         NaN"
      ]
     },
     "execution_count": 6,
     "metadata": {},
     "output_type": "execute_result"
    }
   ],
   "source": [
    "df[bool_series] #shows nan values under \"clean_title\" column"
   ]
  },
  {
   "cell_type": "code",
   "execution_count": 7,
   "id": "be1e6f93",
   "metadata": {},
   "outputs": [],
   "source": [
    "df.dropna(subset = [\"clean_title\"], inplace=True)"
   ]
  },
  {
   "cell_type": "code",
   "execution_count": 8,
   "id": "17187d61",
   "metadata": {
    "scrolled": true
   },
   "outputs": [
    {
     "data": {
      "text/plain": [
       "subreddit      0\n",
       "clean_title    0\n",
       "dtype: int64"
      ]
     },
     "execution_count": 8,
     "metadata": {},
     "output_type": "execute_result"
    }
   ],
   "source": [
    "df.isna().sum()"
   ]
  },
  {
   "cell_type": "code",
   "execution_count": 9,
   "id": "5f9b08de",
   "metadata": {
    "scrolled": false
   },
   "outputs": [
    {
     "name": "stdout",
     "output_type": "stream",
     "text": [
      "<class 'pandas.core.frame.DataFrame'>\n",
      "Int64Index: 19892 entries, 0 to 19911\n",
      "Data columns (total 2 columns):\n",
      " #   Column       Non-Null Count  Dtype \n",
      "---  ------       --------------  ----- \n",
      " 0   subreddit    19892 non-null  int64 \n",
      " 1   clean_title  19892 non-null  object\n",
      "dtypes: int64(1), object(1)\n",
      "memory usage: 466.2+ KB\n",
      "None\n"
     ]
    }
   ],
   "source": [
    "print(df.info()) #no more isna "
   ]
  },
  {
   "cell_type": "markdown",
   "id": "afd85f7d",
   "metadata": {},
   "source": [
    "## Earlier on, I shared that we will evaluate 2 models - Logistic Regression with TFIDF Vectorizer and Random Forest Classifier with TFIDF Vectorizer - and pick the best."
   ]
  },
  {
   "cell_type": "markdown",
   "id": "66f27d8e",
   "metadata": {},
   "source": [
    "### Model Evaluation"
   ]
  },
  {
   "cell_type": "code",
   "execution_count": 11,
   "id": "d6f92224",
   "metadata": {},
   "outputs": [],
   "source": [
    "# Define X and y\n",
    "X = df['clean_title']\n",
    "y = df['subreddit']\n",
    "\n",
    "# Split data into train and test sets\n",
    "X_train, X_test, y_train, y_test = train_test_split(X, y, \n",
    "                                                    test_size=.33, \n",
    "                                                    random_state=42)"
   ]
  },
  {
   "cell_type": "code",
   "execution_count": 12,
   "id": "c97eb374",
   "metadata": {},
   "outputs": [
    {
     "data": {
      "text/plain": [
       "1    0.501106\n",
       "0    0.498894\n",
       "Name: subreddit, dtype: float64"
      ]
     },
     "execution_count": 12,
     "metadata": {},
     "output_type": "execute_result"
    }
   ],
   "source": [
    "# Define baseline accuracy\n",
    "y.value_counts(normalize=True)"
   ]
  },
  {
   "cell_type": "markdown",
   "id": "c53df678",
   "metadata": {},
   "source": [
    "### Random Forest - TFIDF Vectorizer"
   ]
  },
  {
   "cell_type": "code",
   "execution_count": 13,
   "id": "d6724f76",
   "metadata": {},
   "outputs": [],
   "source": [
    "# Set up pipeline\n",
    "pipe_rf_t = Pipeline([\n",
    "    ('tvec', TfidfVectorizer(stop_words='english', max_features=500, ngram_range=(1,2))),\n",
    "    ('rf', RandomForestClassifier(criterion='gini'))\n",
    "])"
   ]
  },
  {
   "cell_type": "code",
   "execution_count": 14,
   "id": "17e86e01",
   "metadata": {},
   "outputs": [],
   "source": [
    "# Set up pipeline parameters with best parameters computed in notebook part 3\n",
    "pipe_rf_t_params = {\n",
    "    'rf__n_estimators': [200],\n",
    "    'rf__max_depth': [None], \n",
    "    'rf__max_features': ['log2'],\n",
    "    'rf__min_samples_split': [2]\n",
    "}"
   ]
  },
  {
   "cell_type": "code",
   "execution_count": 15,
   "id": "40ee590a",
   "metadata": {},
   "outputs": [],
   "source": [
    "# Set up a gridsearch\n",
    "gs_rf_t = GridSearchCV(pipe_rf_t, pipe_rf_t_params, cv=5, verbose=1)"
   ]
  },
  {
   "cell_type": "code",
   "execution_count": 16,
   "id": "ef0ed6de",
   "metadata": {},
   "outputs": [
    {
     "name": "stdout",
     "output_type": "stream",
     "text": [
      "Fitting 5 folds for each of 1 candidates, totalling 5 fits\n"
     ]
    }
   ],
   "source": [
    "# Fit the gridsearch\n",
    "gs_rf_t.fit(X_train, y_train);"
   ]
  },
  {
   "cell_type": "markdown",
   "id": "bd9c83eb",
   "metadata": {},
   "source": [
    "#### Training Accuracy"
   ]
  },
  {
   "cell_type": "code",
   "execution_count": 17,
   "id": "280685ac",
   "metadata": {},
   "outputs": [
    {
     "data": {
      "text/plain": [
       "0.9582801830869663"
      ]
     },
     "execution_count": 17,
     "metadata": {},
     "output_type": "execute_result"
    }
   ],
   "source": [
    "# Score model on train data\n",
    "gs_rf_t.score(X_train, y_train)"
   ]
  },
  {
   "cell_type": "markdown",
   "id": "d6a12786",
   "metadata": {},
   "source": [
    "#### Testing Accuracy"
   ]
  },
  {
   "cell_type": "code",
   "execution_count": 18,
   "id": "79cdf2a5",
   "metadata": {
    "scrolled": false
   },
   "outputs": [
    {
     "data": {
      "text/plain": [
       "0.9073876618431074"
      ]
     },
     "execution_count": 18,
     "metadata": {},
     "output_type": "execute_result"
    }
   ],
   "source": [
    "# Test data score\n",
    "gs_rf_t.score(X_test, y_test)"
   ]
  },
  {
   "cell_type": "markdown",
   "id": "611f1b26",
   "metadata": {},
   "source": [
    "### Logistic Regression - TFIDF Vectorizer"
   ]
  },
  {
   "cell_type": "code",
   "execution_count": 22,
   "id": "346ec65f",
   "metadata": {},
   "outputs": [
    {
     "data": {
      "text/plain": [
       "LogisticRegression(max_iter=5000)"
      ]
     },
     "execution_count": 22,
     "metadata": {},
     "output_type": "execute_result"
    }
   ],
   "source": [
    "# Transform X_train with TFIDFVectorizer\n",
    "tvec = TfidfVectorizer(stop_words='english', ngram_range=(1,2), max_features=500)\n",
    "Z_train = tvec.fit_transform(X_train)\n",
    "\n",
    "# Instantiate and fit model\n",
    "lr = LogisticRegression(solver='lbfgs', max_iter=5000)\n",
    "lr.fit(Z_train, y_train)\n"
   ]
  },
  {
   "cell_type": "markdown",
   "id": "17c39eb8",
   "metadata": {},
   "source": [
    "#### Training Accuracy"
   ]
  },
  {
   "cell_type": "code",
   "execution_count": 23,
   "id": "ac512220",
   "metadata": {},
   "outputs": [
    {
     "data": {
      "text/plain": [
       "0.9128836197193667"
      ]
     },
     "execution_count": 23,
     "metadata": {},
     "output_type": "execute_result"
    }
   ],
   "source": [
    "# Score model on train data\n",
    "lr.score(Z_train, y_train)"
   ]
  },
  {
   "cell_type": "markdown",
   "id": "65e8b3c2",
   "metadata": {},
   "source": [
    "#### Testing Accuracy"
   ]
  },
  {
   "cell_type": "code",
   "execution_count": 24,
   "id": "59d96e2f",
   "metadata": {},
   "outputs": [],
   "source": [
    "# Transform X_test with TFIDFVectorizer\n",
    "Z_test = tvec.transform(X_test)"
   ]
  },
  {
   "cell_type": "code",
   "execution_count": 26,
   "id": "266e596a",
   "metadata": {},
   "outputs": [
    {
     "data": {
      "text/plain": [
       "0.9047981721249048"
      ]
     },
     "execution_count": 26,
     "metadata": {},
     "output_type": "execute_result"
    }
   ],
   "source": [
    "# Score model on train data\n",
    "lr.score(Z_test, y_test)"
   ]
  },
  {
   "cell_type": "markdown",
   "id": "44526f47",
   "metadata": {},
   "source": [
    "In both models, one can observe overfit. However,the Random Forest Classifier is quite overfit and actually performs worse on test data than Logistic Regression. For this reason and for interpretability, we will use Logistic Regression for prediction, visualizations, and presentation."
   ]
  },
  {
   "cell_type": "markdown",
   "id": "87e81a4e",
   "metadata": {},
   "source": [
    "### Explore and visualize Random Logistic Regression model"
   ]
  },
  {
   "cell_type": "code",
   "execution_count": 27,
   "id": "dfbf790b",
   "metadata": {},
   "outputs": [],
   "source": [
    "# Create dataframe with all corpus words and text frequency inverse document frequency score\n",
    "Z_train_df = pd.DataFrame(data=Z_train.toarray(),\n",
    "                          columns=tvec.get_feature_names())"
   ]
  },
  {
   "cell_type": "code",
   "execution_count": 30,
   "id": "9c0a1d0b",
   "metadata": {},
   "outputs": [
    {
     "data": {
      "text/plain": [
       "dog       1226.924876\n",
       "cat        848.019975\n",
       "help       330.329568\n",
       "puppi      210.649731\n",
       "like       202.938988\n",
       "love       202.147275\n",
       "good       188.508922\n",
       "need       186.566782\n",
       "new        180.333920\n",
       "old        177.630020\n",
       "look       177.439068\n",
       "littl      160.281477\n",
       "advic      159.340791\n",
       "breed      151.380673\n",
       "kitten     146.450480\n",
       "eat        139.276820\n",
       "know       137.706632\n",
       "think      136.828217\n",
       "food       133.095855\n",
       "kitti      131.738033\n",
       "year       131.507766\n",
       "day        128.026164\n",
       "dtype: float64"
      ]
     },
     "execution_count": 30,
     "metadata": {},
     "output_type": "execute_result"
    }
   ],
   "source": [
    "# Look at 20 words (excluding dog and cat) that appear most often across some documents, but not all documents\n",
    "# AKA likely best predictors of subreddit classification\n",
    "Z_train_df.sum().sort_values(ascending=False).head(22)"
   ]
  },
  {
   "cell_type": "markdown",
   "id": "45592d70",
   "metadata": {},
   "source": [
    "- help is a neutral word? not able to distinguish between cat or dog"
   ]
  },
  {
   "cell_type": "code",
   "execution_count": 31,
   "id": "39ec3aa0",
   "metadata": {},
   "outputs": [
    {
     "data": {
      "text/plain": [
       "[(-10.040387884421738, 'cat'),\n",
       " (-5.534394838948374, 'kitten'),\n",
       " (-4.456473271492089, 'kitti'),\n",
       " (-2.5240556538644405, 'love'),\n",
       " (-2.4899328631765507, 'littl'),\n",
       " (-2.453826610230054, 'beauti'),\n",
       " (-2.3703052022708007, 'meet'),\n",
       " (-2.232500945603138, 'babi'),\n",
       " (-2.1485975836583235, 'boy'),\n",
       " (-2.101652988505418, 'pictur'),\n",
       " (2.4675610548290874, 'colli'),\n",
       " (2.55357393022383, 'rip'),\n",
       " (2.912665124663251, 'doggi'),\n",
       " (2.999905372956497, 'breed'),\n",
       " (3.1475369646887468, 'breeder'),\n",
       " (3.268035129849224, 'bark'),\n",
       " (3.3004336523041875, 'huski'),\n",
       " (4.399516307350813, 'pup'),\n",
       " (7.353424411758545, 'puppi'),\n",
       " (16.347585742647436, 'dog')]"
      ]
     },
     "execution_count": 31,
     "metadata": {},
     "output_type": "execute_result"
    }
   ],
   "source": [
    "# Look at strength of each of top 10 of the 500 features in predicting either subreddit\n",
    "# Negative correlations --> Cat ; Positive correlations --> Dog\n",
    "features_500 = sorted(list(zip(lr.coef_[0], tvec.get_feature_names())))\n",
    "features_500[:10] + features_500[-10:]"
   ]
  },
  {
   "cell_type": "code",
   "execution_count": 68,
   "id": "d07a4ff3",
   "metadata": {},
   "outputs": [
    {
     "data": {
      "text/plain": [
       "[(-10.040387884421738, 'cat'),\n",
       " (-5.534394838948374, 'kitten'),\n",
       " (-4.456473271492089, 'kitti'),\n",
       " (-2.5240556538644405, 'love'),\n",
       " (-2.4899328631765507, 'littl'),\n",
       " (-2.453826610230054, 'beauti'),\n",
       " (-2.3703052022708007, 'meet'),\n",
       " (-2.232500945603138, 'babi'),\n",
       " (-2.1485975836583235, 'boy'),\n",
       " (-2.101652988505418, 'pictur'),\n",
       " (-2.042007261331029, 'nap'),\n",
       " (-1.8763214592651358, 'lil'),\n",
       " (-1.854918853771362, 'sleepi'),\n",
       " (-1.8465769346928316, 'face'),\n",
       " (-1.8377366433929387, 'brother'),\n",
       " (-1.8184244064996582, 'meow'),\n",
       " (-1.78595262570698, 'cute'),\n",
       " (-1.7516362356837707, 'halloween'),\n",
       " (-1.7256574212924538, 'morn'),\n",
       " (-1.7075044709099445, 'say'),\n",
       " (-1.6622155804545935, 'handsom'),\n",
       " (-1.6513154633106202, 'cuti'),\n",
       " (-1.5755229215416875, 'man'),\n",
       " (-1.567416723635118, 'ago'),\n",
       " (-1.5309918236753286, 'hello'),\n",
       " (-1.5264988096584613, 'sit'),\n",
       " (-1.496607783718543, 'guess'),\n",
       " (-1.4903876878602318, 'pretti'),\n",
       " (-1.4874113148730377, 'turn'),\n",
       " (-1.4579725760319298, 'alway'),\n",
       " (-1.4566748984853963, 'like'),\n",
       " (-1.4496842331274984, 'bean'),\n",
       " (-1.4443008891801155, 'think'),\n",
       " (-1.400508094836002, 'big'),\n",
       " (-1.4004508597929288, 'girl'),\n",
       " (-1.3755397110090855, 'comment'),\n",
       " (-1.3212813074817813, 'buddi'),\n",
       " (-1.3151999950198552, 'enjoy'),\n",
       " (-1.2879052514066767, 'lt'),\n",
       " (-1.2700553092272302, 'sweet'),\n",
       " (-1.2552026684788864, 'pic'),\n",
       " (-1.2353741122635, 'happi'),\n",
       " (-1.234397965669053, 'cuddl'),\n",
       " (-1.219811562557074, 'feral'),\n",
       " (-1.2147614052769846, 'ador'),\n",
       " (-1.212473718900843, 'help cat'),\n",
       " (-1.210130965510024, 'sleep'),\n",
       " (-1.2007795533762693, 'photo'),\n",
       " (-1.1999836328402702, 'litter'),\n",
       " (-1.1913853055344747, 'sun'),\n",
       " (-1.1651757095935786, 'hi'),\n",
       " (-1.1305285219073113, 'alreadi'),\n",
       " (-1.12076272271303, 'wake'),\n",
       " (-1.0999933141384555, 'belli'),\n",
       " (-1.0976796279998278, 'chill'),\n",
       " (-1.0976346964703996, 'pillow'),\n",
       " (-1.0957264942711216, 'luna'),\n",
       " (-1.0954471513760131, 'ye'),\n",
       " (-1.0929035551085258, 'snuggl'),\n",
       " (-1.0911212005732165, 'catch'),\n",
       " (-1.0820948822880907, 'sister'),\n",
       " (-1.0693377251161236, 'warm'),\n",
       " (-1.0686443999988182, 'sunday'),\n",
       " (-1.0598835928958779, 'tree'),\n",
       " (-1.0572864913080557, 'ladi'),\n",
       " (-1.0339417697347315, 'head'),\n",
       " (-1.0172852768629637, 'world'),\n",
       " (-1.0061260979488698, 'fall'),\n",
       " (-0.9904376897488583, 'look'),\n",
       " (-0.9872005047326634, 'watch'),\n",
       " (-0.9869498994114189, 'window'),\n",
       " (-0.9729292032864588, 'asleep'),\n",
       " (-0.957125843277475, 'sometim'),\n",
       " (-0.951234710906116, 'purr'),\n",
       " (-0.942557397797384, 'wet'),\n",
       " (-0.942478024292748, 'readi'),\n",
       " (-0.9218992429198152, 'heart'),\n",
       " (-0.9155389174306243, 'tell'),\n",
       " (-0.911556854421537, 'allow'),\n",
       " (-0.8943955119686129, 'lazi'),\n",
       " (-0.8917510747878536, 'lol'),\n",
       " (-0.8738727020321003, 'guy'),\n",
       " (-0.8635489248129713, 'blanket'),\n",
       " (-0.8623956564663875, 'eye'),\n",
       " (-0.85634015646126, 'hide'),\n",
       " (-0.8526315627585537, 'jump'),\n",
       " (-0.8516016121341143, 'box'),\n",
       " (-0.8358565605444207, 'touch'),\n",
       " (-0.8268359946004864, 'noth'),\n",
       " (-0.8097318349088765, 'fight'),\n",
       " (-0.790455988658676, 'tri'),\n",
       " (-0.7738313816602147, 'want'),\n",
       " (-0.7615454001392455, 'final'),\n",
       " (-0.7545137645823901, 'room'),\n",
       " (-0.7450575991015307, 'steal'),\n",
       " (-0.7415659891333294, 'sure'),\n",
       " (-0.7410924267960508, 'comfort'),\n",
       " (-0.734698236513, 'wait'),\n",
       " (-0.7301710453937573, 'come'),\n",
       " (-0.7233830103419432, 'new cat'),\n",
       " (-0.7162443638700661, 'week old'),\n",
       " (-0.7131140549132412, 'year ago'),\n",
       " (-0.6830317657022378, 'favorit'),\n",
       " (-0.6672294070021949, 'human'),\n",
       " (-0.6577427059575692, 'stray'),\n",
       " (-0.6399131311354288, 'anyon know'),\n",
       " (-0.6382528092065072, 'els cat'),\n",
       " (-0.6300793839052329, 'absolut'),\n",
       " (-0.6268923781230378, 'hey'),\n",
       " (-0.6252589485142157, 'let'),\n",
       " (-0.622247585636704, 'rub'),\n",
       " (-0.619027259528137, 'bed'),\n",
       " (-0.5999467703053807, 'wish'),\n",
       " (-0.594488955220145, 'lay'),\n",
       " (-0.5900444147227217, 'everyon'),\n",
       " (-0.5655759931598743, 'complet'),\n",
       " (-0.5653706022705238, 'sinc'),\n",
       " (-0.5533131591947692, 'work'),\n",
       " (-0.5479330721060898, 'send'),\n",
       " (-0.5436640662895669, 'mom'),\n",
       " (-0.5383236697240014, 'month ago'),\n",
       " (-0.534292105179123, 'close'),\n",
       " (-0.5209479076361151, 'pick'),\n",
       " (-0.5190752852173312, 'post'),\n",
       " (-0.517058293371725, 'nose'),\n",
       " (-0.5136115752749767, 've'),\n",
       " (-0.5114177322774989, 'spend'),\n",
       " (-0.49892778121958486, 'check'),\n",
       " (-0.4964140312908431, 'togeth'),\n",
       " (-0.4877883859840354, 'hous'),\n",
       " (-0.48691061113499173, 'visit'),\n",
       " (-0.4855575481151885, 'reddit'),\n",
       " (-0.48390116963749097, 'play'),\n",
       " (-0.48323046931803876, 'cat like'),\n",
       " (-0.481918218231829, 'els'),\n",
       " (-0.4789895905283273, 'abandon'),\n",
       " (-0.4776368584579424, 'old cat'),\n",
       " (-0.4711238464430015, 'life'),\n",
       " (-0.46736353813112613, 'moment'),\n",
       " (-0.4467214475577738, 'water'),\n",
       " (-0.4302130348923874, 'someon'),\n",
       " (-0.42879172883972183, 'member'),\n",
       " (-0.4227053761110464, 'na'),\n",
       " (-0.4105237996922297, 'drink'),\n",
       " (-0.41005780478207093, 'fetch'),\n",
       " (-0.4074231395683604, 'look like'),\n",
       " (-0.39438799128289187, 'street'),\n",
       " (-0.39222758837948446, 'ball'),\n",
       " (-0.3917366870471943, 'cut'),\n",
       " (-0.3512662236569392, 'spot'),\n",
       " (-0.35091641655349076, 'right'),\n",
       " (-0.35027763189297745, 'kind'),\n",
       " (-0.3442491062138704, 'learn'),\n",
       " (-0.3395755015698138, 'mean'),\n",
       " (-0.33500331046020093, 'new'),\n",
       " (-0.3326730047678333, 'nt'),\n",
       " (-0.3071936666558865, 'birthday'),\n",
       " (-0.3053740416496499, 'litter box'),\n",
       " (-0.2944418891783488, 'hit'),\n",
       " (-0.29168224814127475, 'na na'),\n",
       " (-0.28890515061735283, 'live'),\n",
       " (-0.2886635670542348, 'day'),\n",
       " (-0.2840864360230412, 'open'),\n",
       " (-0.2792728978058828, 'bath'),\n",
       " (-0.2739194017795272, 'soon'),\n",
       " (-0.2735562730094481, 'attack'),\n",
       " (-0.2713085261276017, 'stray cat'),\n",
       " (-0.2695395123128506, 'hear'),\n",
       " (-0.26477127926630034, 'yesterday'),\n",
       " (-0.2637715268613828, 'thing'),\n",
       " (-0.2634824693612234, 'hope'),\n",
       " (-0.26243087805910886, 'bag'),\n",
       " (-0.25425039747176426, 'hate'),\n",
       " (-0.24553290341629827, 'sound'),\n",
       " (-0.23499097798167282, 'becom'),\n",
       " (-0.23238855424736182, 'decid'),\n",
       " (-0.22958158092288425, 'cat sleep'),\n",
       " (-0.22112112813248197, 'amp'),\n",
       " (-0.21796320744123768, 'return'),\n",
       " (-0.20593153690832153, 'second'),\n",
       " (-0.18983591981349904, 'choos'),\n",
       " (-0.18860786506949254, 'fit'),\n",
       " (-0.18740213164380795, 'sick'),\n",
       " (-0.17951718271881387, 'ill'),\n",
       " (-0.17308712808579327, 'wife'),\n",
       " (-0.17012226095910155, 'pictur cat'),\n",
       " (-0.16988476881872655, 'famili'),\n",
       " (-0.1689782716480083, 'wonder'),\n",
       " (-0.16416023649025535, 'break'),\n",
       " (-0.16158948148321237, 'know'),\n",
       " (-0.16074491020349432, 'past'),\n",
       " (-0.1597545491060524, 'introduc'),\n",
       " (-0.1573810943751959, 'night'),\n",
       " (-0.14277816912750346, 'lot'),\n",
       " (-0.1398083635127275, 'couch'),\n",
       " (-0.1379213658842857, 'door'),\n",
       " (-0.13699626566526205, 'happen'),\n",
       " (-0.13503324097340366, 'recent'),\n",
       " (-0.1348841050703537, 'hand'),\n",
       " (-0.13263092212574418, 'ear'),\n",
       " (-0.1293420479273736, 'pass away'),\n",
       " (-0.12374904539132903, 'clean'),\n",
       " (-0.11886438672162192, 'good friend'),\n",
       " (-0.11043622354343827, 'peac'),\n",
       " (-0.10223199036387622, 'everyth'),\n",
       " (-0.10218639038108082, 'floor'),\n",
       " (-0.10132614885527293, 'week'),\n",
       " (-0.09111112833026754, 'home'),\n",
       " (-0.08207426607562886, 'stick'),\n",
       " (-0.08014935144838782, 'everi'),\n",
       " (-0.07616870043745591, 'miss'),\n",
       " (-0.07146588663259594, 'anoth'),\n",
       " (-0.06451687516113411, 'bring'),\n",
       " (-0.05469987732966239, 'high'),\n",
       " (-0.0463266774484668, 'rest'),\n",
       " (-0.046267511098550575, 'away'),\n",
       " (-0.0445493262389894, 'black'),\n",
       " (-0.03663363469580225, 'dad'),\n",
       " (-0.031072016897988754, 'share'),\n",
       " (-0.023758368897648312, 'friend'),\n",
       " (-0.020180886291638358, 'hour'),\n",
       " (-0.019543399776256753, 'cri'),\n",
       " (-0.01082290104317831, 'refus'),\n",
       " (0.007334596625741023, 'day ago'),\n",
       " (0.016808638103533845, 'scratch'),\n",
       " (0.02699873055691812, 'grow'),\n",
       " (0.030025916076124697, 'today'),\n",
       " (0.034425596555551406, 'foster'),\n",
       " (0.042624736132747254, 'realli'),\n",
       " (0.04393528750467165, 'follow'),\n",
       " (0.04509266715996687, 'act'),\n",
       " (0.04554731676266048, 'foot'),\n",
       " (0.04666260484614634, 'crazi'),\n",
       " (0.053140791776824986, 'end'),\n",
       " (0.05690394382926722, 'anyon els'),\n",
       " (0.06640855699981359, 'talk'),\n",
       " (0.06744944463722503, 'new kitten'),\n",
       " (0.06793858606150416, 'short'),\n",
       " (0.06960343156833494, 'remov'),\n",
       " (0.07059781695163132, 'video'),\n",
       " (0.07570992731699405, 'anyth'),\n",
       " (0.07826033045846775, 'pleas'),\n",
       " (0.08171210316665739, 'near'),\n",
       " (0.08418771567767407, 'type'),\n",
       " (0.09305844040421289, 'hard'),\n",
       " (0.0945710606268359, 'mayb'),\n",
       " (0.10266602469693847, 'month old'),\n",
       " (0.11698727772728448, 'park'),\n",
       " (0.1183793135391733, 'buy'),\n",
       " (0.12104164910834414, 'dog bark'),\n",
       " (0.12258714924399772, 'cat love'),\n",
       " (0.12965313659793426, 'start'),\n",
       " (0.13279999098220754, 'fur'),\n",
       " (0.13912403449841568, 'low'),\n",
       " (0.15044883562189768, 'hurt'),\n",
       " (0.15285278923889234, 'pass'),\n",
       " (0.1543896881788928, 'lose'),\n",
       " (0.16281174833176568, 'make'),\n",
       " (0.16607257299146788, 'coupl'),\n",
       " (0.17337610315008045, 'adopt'),\n",
       " (0.17475515616579276, 'someth'),\n",
       " (0.2057609729956864, 'updat'),\n",
       " (0.22107339133262488, 'earli'),\n",
       " (0.23540417112105488, 'dog food'),\n",
       " (0.23842589521238686, 'way'),\n",
       " (0.23968535816288342, 'tomorrow'),\n",
       " (0.244796451630766, 'tail'),\n",
       " (0.24629380947906274, 'white'),\n",
       " (0.24709450159603075, 'male'),\n",
       " (0.25012372597366284, 'littl guy'),\n",
       " (0.25549884777896564, 'pad'),\n",
       " (0.25595263935096496, 'long'),\n",
       " (0.2660338067859673, 'differ'),\n",
       " (0.2697340547138695, 'young'),\n",
       " (0.27243994318227116, 'friendli'),\n",
       " (0.27970026877041104, 'place'),\n",
       " (0.29172314753848666, 'anymor'),\n",
       " (0.2961346502609815, 'use'),\n",
       " (0.30644807234367977, 'vs'),\n",
       " (0.31445473382316413, 'anoth dog'),\n",
       " (0.31447809257345716, 'come home'),\n",
       " (0.3239812267246458, 'outsid'),\n",
       " (0.32878993028311976, 'poor'),\n",
       " (0.33354012048555187, 'mani'),\n",
       " (0.34174031564559676, 'late'),\n",
       " (0.34415442115496625, 'boyfriend'),\n",
       " (0.34440397227353153, 'safe'),\n",
       " (0.3496916923318784, 'healthi'),\n",
       " (0.3576655458492714, 'love cat'),\n",
       " (0.36100028280382196, 'stay'),\n",
       " (0.36430583611439177, 'year old'),\n",
       " (0.36984200092508307, 'think dog'),\n",
       " (0.37125564828878027, 'emerg'),\n",
       " (0.3730496102315026, 'tooth'),\n",
       " (0.37979470422085615, 'heat'),\n",
       " (0.3947220086153793, 'bathroom'),\n",
       " (0.3987204050903382, 'fli'),\n",
       " (0.4009308365821129, 'indoor'),\n",
       " (0.40432089102330665, 'person'),\n",
       " (0.41016412182479084, 'posit'),\n",
       " (0.41437269639766156, 'bit'),\n",
       " (0.4187536850528832, 'red'),\n",
       " (0.42946183821327055, 'time'),\n",
       " (0.4391720031902861, 'extrem'),\n",
       " (0.4432292624982192, 'train dog'),\n",
       " (0.44528258178515506, 'small'),\n",
       " (0.45650773549749185, 'need'),\n",
       " (0.4709221378671502, 'year'),\n",
       " (0.47128152087958775, 'small dog'),\n",
       " (0.4753977278664814, 'calm'),\n",
       " (0.47758782470198624, 'feed'),\n",
       " (0.47873193284480514, 'run'),\n",
       " (0.4817586908501239, 'sad'),\n",
       " (0.4891050960868145, 'constantli'),\n",
       " (0.49412139590415455, 'dog act'),\n",
       " (0.49546891242981855, 'die'),\n",
       " (0.5063089346161608, 'senior dog'),\n",
       " (0.5112659038230133, 'dog owner'),\n",
       " (0.5139168245175219, 'leav'),\n",
       " (0.5154993536315654, 'dog need'),\n",
       " (0.5180550913224754, 'weird'),\n",
       " (0.5271836134552442, 'bite'),\n",
       " (0.540053487438137, 'treat'),\n",
       " (0.5433749113651847, 'lick'),\n",
       " (0.5529991257066738, 'dog pee'),\n",
       " (0.5622078118081271, 'good'),\n",
       " (0.5629124052243959, 'firework'),\n",
       " (0.583605222092121, 'cold'),\n",
       " (0.5903414327626421, 'feel'),\n",
       " (0.5904970990701207, 'new dog'),\n",
       " (0.5921409975079365, 'roommat'),\n",
       " (0.5990732028919257, 'rescu dog'),\n",
       " (0.6058073827589419, 'dog breed'),\n",
       " (0.6087394122462553, 'ask'),\n",
       " (0.617104783585635, 'seriou'),\n",
       " (0.6173092495175995, 'blue'),\n",
       " (0.6290665058026531, 'dog park'),\n",
       " (0.6427502272393968, 'reason'),\n",
       " (0.6500956197657539, 'save'),\n",
       " (0.6505669817399103, 'month'),\n",
       " (0.6703130377016663, 'smell'),\n",
       " (0.677468332540808, 'neuter'),\n",
       " (0.6796062512520806, 'caus'),\n",
       " (0.6846850997583034, 'larg'),\n",
       " (0.6854307205354483, 'teach'),\n",
       " (0.6867103355705599, 'drive'),\n",
       " (0.6892264482999776, 'yr old'),\n",
       " (0.6895871431867157, 'pain'),\n",
       " (0.6962580978649624, 'super'),\n",
       " (0.700185584770823, 'great'),\n",
       " (0.7044488790605326, 'funni'),\n",
       " (0.7060224076843534, 'leg'),\n",
       " (0.706125461150965, 'obsess'),\n",
       " (0.7119418026578327, 'yo'),\n",
       " (0.7222274504174565, 'dog stop'),\n",
       " (0.7232701258505749, 'actual'),\n",
       " (0.7334623921023681, 'dog poop'),\n",
       " (0.7354279579178139, 'vet'),\n",
       " (0.7407360291777554, 'potti'),\n",
       " (0.7411665398870048, 'apart'),\n",
       " (0.7525627031570642, 'suddenli'),\n",
       " (0.7561714359735164, 'need advic'),\n",
       " (0.7696080490143956, 'throw'),\n",
       " (0.7722449083226401, 'skin'),\n",
       " (0.7789446522852772, 'food'),\n",
       " (0.7873654899296861, 'cancer'),\n",
       " (0.8133623297917568, 'eat'),\n",
       " (0.8139345195794292, 'yard'),\n",
       " (0.82477743564746, 'need help'),\n",
       " (0.8404990635929946, 'board'),\n",
       " (0.8406065261095857, 'shelter'),\n",
       " (0.8449137305506625, 'dog attack'),\n",
       " (0.8452999836573274, 'daili'),\n",
       " (0.85731333931444, 'help dog'),\n",
       " (0.8582891092234834, 'thank'),\n",
       " (0.8605443886410066, 'infect'),\n",
       " (0.8648413680559737, 'walk'),\n",
       " (0.8675867977459327, 'hair'),\n",
       " (0.8785317028046186, 'picki'),\n",
       " (0.8868505019272639, 'paw'),\n",
       " (0.8914377633964347, 'possibl'),\n",
       " (0.9005135380491128, 'care'),\n",
       " (0.9076641840077866, 'problem'),\n",
       " (0.9080608187800261, 'depress'),\n",
       " (0.9083586915316906, 'breed recommend'),\n",
       " (0.9207791078701125, 'scare'),\n",
       " (0.92255263600547, 'dri'),\n",
       " (0.9281762455857392, 'lb'),\n",
       " (0.9322608027411762, 'wrong'),\n",
       " (0.9361898366642264, 'adult'),\n",
       " (0.9446881031005535, 'old'),\n",
       " (0.9447833101094794, 'separ'),\n",
       " (0.9469584570667765, 'surgeri'),\n",
       " (0.9487929821799297, 'strang'),\n",
       " (0.9513428152651738, 'feel like'),\n",
       " (0.953544800910054, 'german shepherd'),\n",
       " (0.9578744695033798, 'toy'),\n",
       " (0.9595346965877487, 'medic'),\n",
       " (0.9613104635718321, 'size'),\n",
       " (0.9660767721219129, 'bree'),\n",
       " (0.9851468875772855, 'stop'),\n",
       " (0.9903754634427552, 'tick'),\n",
       " (0.9934035839094811, 'old dog'),\n",
       " (1.0144529517359597, 'dog eat'),\n",
       " (1.0168387965419647, 'winter'),\n",
       " (1.0280560109311894, 'coat'),\n",
       " (1.02967526600321, 'growl'),\n",
       " (1.041740357970155, 'separ anxieti'),\n",
       " (1.044029723370243, 'kill'),\n",
       " (1.0481489581660397, 'normal'),\n",
       " (1.0569837558006459, 'yr'),\n",
       " (1.0611688207164895, 'dog like'),\n",
       " (1.0622195151474372, 'goodby'),\n",
       " (1.0703133261795, 'okay'),\n",
       " (1.0760902190357435, 'adopt dog'),\n",
       " (1.07913801256168, 'flea'),\n",
       " (1.0860302879217165, 'christma'),\n",
       " (1.0920460563520387, 'alon'),\n",
       " (1.0996771651319366, 'suggest'),\n",
       " (1.1129570162691556, 'pet insur'),\n",
       " (1.1139191702790188, 'diet'),\n",
       " (1.1150171640049151, 'nail'),\n",
       " (1.127890929151365, 'insid'),\n",
       " (1.1626976154919193, 'anxiou'),\n",
       " (1.1816192989472913, 'spay'),\n",
       " (1.1969328767501035, 'worri'),\n",
       " (1.2096792383940675, 'idea'),\n",
       " (1.2106416138916918, 'senior'),\n",
       " (1.2107019658297944, 'new puppi'),\n",
       " (1.2256591332585198, 'protect'),\n",
       " (1.2291520865620258, 'diarrhea'),\n",
       " (1.2497355376816166, 'chang'),\n",
       " (1.2527635552425578, 'german'),\n",
       " (1.273253965107802, 'peopl'),\n",
       " (1.2801876434439234, 'parent'),\n",
       " (1.2807380830508206, 'old puppi'),\n",
       " (1.2863400057116874, 'health'),\n",
       " (1.3020891023752161, 'neighbor'),\n",
       " (1.3313927875424998, 'diseas'),\n",
       " (1.3884738792754923, 'rescu'),\n",
       " (1.3986671288388686, 'stori'),\n",
       " (1.4315879203642925, 'treatment'),\n",
       " (1.4443515297885825, 'anyon'),\n",
       " (1.444551397767655, 'bone'),\n",
       " (1.4583714515782211, 'tear'),\n",
       " (1.471613681648887, 'thought'),\n",
       " (1.4755940265267422, 'femal'),\n",
       " (1.4763536631759935, 'pee'),\n",
       " (1.477158330751909, 'vaccin'),\n",
       " (1.5021186505750341, 'travel'),\n",
       " (1.5039496495393962, 'chew'),\n",
       " (1.5317379301003362, 'car'),\n",
       " (1.5612355166140788, 'anim'),\n",
       " (1.562969651472356, 'allergi'),\n",
       " (1.5835644199077599, 'aggress'),\n",
       " (1.6116010318713967, 'kibbl'),\n",
       " (1.6521079382540647, 'retriev'),\n",
       " (1.6593601026782454, 'owner'),\n",
       " (1.6647777534767136, 'daili bark'),\n",
       " (1.6752612140664964, 'tip'),\n",
       " (1.6805438389956493, 'question'),\n",
       " (1.6909568670358592, 'pet'),\n",
       " (1.6986484145182168, 'behavior'),\n",
       " (1.6990885036857117, 'bad'),\n",
       " (1.7138763493635212, 'poop'),\n",
       " (1.7362944867564518, 'leash'),\n",
       " (1.7395573423130328, 'test'),\n",
       " (1.7729535573586526, 'issu'),\n",
       " (1.7987817738486496, 'kennel'),\n",
       " (1.8150656756734544, 'concern'),\n",
       " (1.8163577674108056, 'pleas help'),\n",
       " (1.8361411880592502, 'collar'),\n",
       " (1.8402436309729862, 'lab'),\n",
       " (1.8896129554390986, 'golden'),\n",
       " (1.9245128603964408, 'mix'),\n",
       " (1.9736153508925551, 'experi'),\n",
       " (2.04175599214301, 'train'),\n",
       " (2.0611786559633183, 'deal'),\n",
       " (2.067994414866123, 'opinion'),\n",
       " (2.1374971970550485, 'help'),\n",
       " (2.138837812002035, 'shepherd'),\n",
       " (2.164142128046246, 'crate'),\n",
       " (2.211204601951085, 'bulldog'),\n",
       " (2.221172068098569, 'rehom'),\n",
       " (2.222768016192058, 'insur'),\n",
       " (2.2391226810122165, 'anxieti'),\n",
       " (2.281084468785379, 'advic'),\n",
       " (2.3773760140505824, 'pug'),\n",
       " (2.435895821262227, 'recommend'),\n",
       " (2.451391099769702, 'chihuahua'),\n",
       " (2.4675610548290874, 'colli'),\n",
       " (2.55357393022383, 'rip'),\n",
       " (2.912665124663251, 'doggi'),\n",
       " (2.999905372956497, 'breed'),\n",
       " (3.1475369646887468, 'breeder'),\n",
       " (3.268035129849224, 'bark'),\n",
       " (3.3004336523041875, 'huski'),\n",
       " (4.399516307350813, 'pup'),\n",
       " (7.353424411758545, 'puppi'),\n",
       " (16.347585742647436, 'dog')]"
      ]
     },
     "execution_count": 68,
     "metadata": {},
     "output_type": "execute_result"
    }
   ],
   "source": [
    "features_500"
   ]
  },
  {
   "cell_type": "code",
   "execution_count": 69,
   "id": "e443c96a",
   "metadata": {},
   "outputs": [
    {
     "name": "stdout",
     "output_type": "stream",
     "text": [
      "(21, 2)\n"
     ]
    },
    {
     "data": {
      "text/html": [
       "<div>\n",
       "<style scoped>\n",
       "    .dataframe tbody tr th:only-of-type {\n",
       "        vertical-align: middle;\n",
       "    }\n",
       "\n",
       "    .dataframe tbody tr th {\n",
       "        vertical-align: top;\n",
       "    }\n",
       "\n",
       "    .dataframe thead th {\n",
       "        text-align: right;\n",
       "    }\n",
       "</style>\n",
       "<table border=\"1\" class=\"dataframe\">\n",
       "  <thead>\n",
       "    <tr style=\"text-align: right;\">\n",
       "      <th></th>\n",
       "      <th>feature</th>\n",
       "      <th>coefficient</th>\n",
       "    </tr>\n",
       "  </thead>\n",
       "  <tbody>\n",
       "    <tr>\n",
       "      <th>0</th>\n",
       "      <td>cat</td>\n",
       "      <td>-10.040388</td>\n",
       "    </tr>\n",
       "    <tr>\n",
       "      <th>1</th>\n",
       "      <td>kitten</td>\n",
       "      <td>-5.534395</td>\n",
       "    </tr>\n",
       "    <tr>\n",
       "      <th>2</th>\n",
       "      <td>kitti</td>\n",
       "      <td>-4.456473</td>\n",
       "    </tr>\n",
       "    <tr>\n",
       "      <th>3</th>\n",
       "      <td>love</td>\n",
       "      <td>-2.524056</td>\n",
       "    </tr>\n",
       "    <tr>\n",
       "      <th>4</th>\n",
       "      <td>littl</td>\n",
       "      <td>-2.489933</td>\n",
       "    </tr>\n",
       "    <tr>\n",
       "      <th>5</th>\n",
       "      <td>beauti</td>\n",
       "      <td>-2.453827</td>\n",
       "    </tr>\n",
       "    <tr>\n",
       "      <th>6</th>\n",
       "      <td>meet</td>\n",
       "      <td>-2.370305</td>\n",
       "    </tr>\n",
       "    <tr>\n",
       "      <th>7</th>\n",
       "      <td>babi</td>\n",
       "      <td>-2.232501</td>\n",
       "    </tr>\n",
       "    <tr>\n",
       "      <th>8</th>\n",
       "      <td>boy</td>\n",
       "      <td>-2.148598</td>\n",
       "    </tr>\n",
       "    <tr>\n",
       "      <th>9</th>\n",
       "      <td>pictur</td>\n",
       "      <td>-2.101653</td>\n",
       "    </tr>\n",
       "    <tr>\n",
       "      <th>10</th>\n",
       "      <td>nap</td>\n",
       "      <td>-2.042007</td>\n",
       "    </tr>\n",
       "    <tr>\n",
       "      <th>11</th>\n",
       "      <td>lil</td>\n",
       "      <td>-1.876321</td>\n",
       "    </tr>\n",
       "    <tr>\n",
       "      <th>12</th>\n",
       "      <td>sleepi</td>\n",
       "      <td>-1.854919</td>\n",
       "    </tr>\n",
       "    <tr>\n",
       "      <th>13</th>\n",
       "      <td>face</td>\n",
       "      <td>-1.846577</td>\n",
       "    </tr>\n",
       "    <tr>\n",
       "      <th>14</th>\n",
       "      <td>brother</td>\n",
       "      <td>-1.837737</td>\n",
       "    </tr>\n",
       "    <tr>\n",
       "      <th>15</th>\n",
       "      <td>meow</td>\n",
       "      <td>-1.818424</td>\n",
       "    </tr>\n",
       "    <tr>\n",
       "      <th>16</th>\n",
       "      <td>cute</td>\n",
       "      <td>-1.785953</td>\n",
       "    </tr>\n",
       "    <tr>\n",
       "      <th>17</th>\n",
       "      <td>halloween</td>\n",
       "      <td>-1.751636</td>\n",
       "    </tr>\n",
       "    <tr>\n",
       "      <th>18</th>\n",
       "      <td>morn</td>\n",
       "      <td>-1.725657</td>\n",
       "    </tr>\n",
       "    <tr>\n",
       "      <th>19</th>\n",
       "      <td>say</td>\n",
       "      <td>-1.707504</td>\n",
       "    </tr>\n",
       "    <tr>\n",
       "      <th>20</th>\n",
       "      <td>handsom</td>\n",
       "      <td>-1.662216</td>\n",
       "    </tr>\n",
       "  </tbody>\n",
       "</table>\n",
       "</div>"
      ],
      "text/plain": [
       "      feature  coefficient\n",
       "0         cat   -10.040388\n",
       "1      kitten    -5.534395\n",
       "2       kitti    -4.456473\n",
       "3        love    -2.524056\n",
       "4       littl    -2.489933\n",
       "5      beauti    -2.453827\n",
       "6        meet    -2.370305\n",
       "7        babi    -2.232501\n",
       "8         boy    -2.148598\n",
       "9      pictur    -2.101653\n",
       "10        nap    -2.042007\n",
       "11        lil    -1.876321\n",
       "12     sleepi    -1.854919\n",
       "13       face    -1.846577\n",
       "14    brother    -1.837737\n",
       "15       meow    -1.818424\n",
       "16       cute    -1.785953\n",
       "17  halloween    -1.751636\n",
       "18       morn    -1.725657\n",
       "19        say    -1.707504\n",
       "20    handsom    -1.662216"
      ]
     },
     "execution_count": 69,
     "metadata": {},
     "output_type": "execute_result"
    }
   ],
   "source": [
    "# Make a dataframe of top 20 strongest predictors for Cats\n",
    "cat_feats_list = []\n",
    "\n",
    "for x,y in features_500[:21]:\n",
    "    feat = {}\n",
    "    feat['feature'] = y\n",
    "    feat['coefficient'] = x\n",
    "    cat_feats_list.append(feat)\n",
    "\n",
    "cat_feats_df = pd.DataFrame(cat_feats_list)\n",
    "print(cat_feats_df.shape)\n",
    "cat_feats_df.head(21)"
   ]
  },
  {
   "cell_type": "code",
   "execution_count": 74,
   "id": "d7af6f97",
   "metadata": {},
   "outputs": [
    {
     "name": "stdout",
     "output_type": "stream",
     "text": [
      "(22, 2)\n"
     ]
    },
    {
     "data": {
      "text/html": [
       "<div>\n",
       "<style scoped>\n",
       "    .dataframe tbody tr th:only-of-type {\n",
       "        vertical-align: middle;\n",
       "    }\n",
       "\n",
       "    .dataframe tbody tr th {\n",
       "        vertical-align: top;\n",
       "    }\n",
       "\n",
       "    .dataframe thead th {\n",
       "        text-align: right;\n",
       "    }\n",
       "</style>\n",
       "<table border=\"1\" class=\"dataframe\">\n",
       "  <thead>\n",
       "    <tr style=\"text-align: right;\">\n",
       "      <th></th>\n",
       "      <th>feature</th>\n",
       "      <th>coefficient</th>\n",
       "    </tr>\n",
       "  </thead>\n",
       "  <tbody>\n",
       "    <tr>\n",
       "      <th>0</th>\n",
       "      <td>dog</td>\n",
       "      <td>16.347586</td>\n",
       "    </tr>\n",
       "    <tr>\n",
       "      <th>1</th>\n",
       "      <td>puppi</td>\n",
       "      <td>7.353424</td>\n",
       "    </tr>\n",
       "    <tr>\n",
       "      <th>2</th>\n",
       "      <td>pup</td>\n",
       "      <td>4.399516</td>\n",
       "    </tr>\n",
       "    <tr>\n",
       "      <th>3</th>\n",
       "      <td>huski</td>\n",
       "      <td>3.300434</td>\n",
       "    </tr>\n",
       "    <tr>\n",
       "      <th>4</th>\n",
       "      <td>bark</td>\n",
       "      <td>3.268035</td>\n",
       "    </tr>\n",
       "    <tr>\n",
       "      <th>5</th>\n",
       "      <td>breeder</td>\n",
       "      <td>3.147537</td>\n",
       "    </tr>\n",
       "    <tr>\n",
       "      <th>6</th>\n",
       "      <td>breed</td>\n",
       "      <td>2.999905</td>\n",
       "    </tr>\n",
       "    <tr>\n",
       "      <th>7</th>\n",
       "      <td>doggi</td>\n",
       "      <td>2.912665</td>\n",
       "    </tr>\n",
       "    <tr>\n",
       "      <th>8</th>\n",
       "      <td>rip</td>\n",
       "      <td>2.553574</td>\n",
       "    </tr>\n",
       "    <tr>\n",
       "      <th>9</th>\n",
       "      <td>colli</td>\n",
       "      <td>2.467561</td>\n",
       "    </tr>\n",
       "    <tr>\n",
       "      <th>10</th>\n",
       "      <td>chihuahua</td>\n",
       "      <td>2.451391</td>\n",
       "    </tr>\n",
       "    <tr>\n",
       "      <th>11</th>\n",
       "      <td>recommend</td>\n",
       "      <td>2.435896</td>\n",
       "    </tr>\n",
       "    <tr>\n",
       "      <th>12</th>\n",
       "      <td>pug</td>\n",
       "      <td>2.377376</td>\n",
       "    </tr>\n",
       "    <tr>\n",
       "      <th>13</th>\n",
       "      <td>advic</td>\n",
       "      <td>2.281084</td>\n",
       "    </tr>\n",
       "    <tr>\n",
       "      <th>14</th>\n",
       "      <td>anxieti</td>\n",
       "      <td>2.239123</td>\n",
       "    </tr>\n",
       "    <tr>\n",
       "      <th>15</th>\n",
       "      <td>insur</td>\n",
       "      <td>2.222768</td>\n",
       "    </tr>\n",
       "    <tr>\n",
       "      <th>16</th>\n",
       "      <td>rehom</td>\n",
       "      <td>2.221172</td>\n",
       "    </tr>\n",
       "    <tr>\n",
       "      <th>17</th>\n",
       "      <td>bulldog</td>\n",
       "      <td>2.211205</td>\n",
       "    </tr>\n",
       "    <tr>\n",
       "      <th>18</th>\n",
       "      <td>crate</td>\n",
       "      <td>2.164142</td>\n",
       "    </tr>\n",
       "    <tr>\n",
       "      <th>19</th>\n",
       "      <td>shepherd</td>\n",
       "      <td>2.138838</td>\n",
       "    </tr>\n",
       "    <tr>\n",
       "      <th>20</th>\n",
       "      <td>help</td>\n",
       "      <td>2.137497</td>\n",
       "    </tr>\n",
       "    <tr>\n",
       "      <th>21</th>\n",
       "      <td>opinion</td>\n",
       "      <td>2.067994</td>\n",
       "    </tr>\n",
       "  </tbody>\n",
       "</table>\n",
       "</div>"
      ],
      "text/plain": [
       "      feature  coefficient\n",
       "0         dog    16.347586\n",
       "1       puppi     7.353424\n",
       "2         pup     4.399516\n",
       "3       huski     3.300434\n",
       "4        bark     3.268035\n",
       "5     breeder     3.147537\n",
       "6       breed     2.999905\n",
       "7       doggi     2.912665\n",
       "8         rip     2.553574\n",
       "9       colli     2.467561\n",
       "10  chihuahua     2.451391\n",
       "11  recommend     2.435896\n",
       "12        pug     2.377376\n",
       "13      advic     2.281084\n",
       "14    anxieti     2.239123\n",
       "15      insur     2.222768\n",
       "16      rehom     2.221172\n",
       "17    bulldog     2.211205\n",
       "18      crate     2.164142\n",
       "19   shepherd     2.138838\n",
       "20       help     2.137497\n",
       "21    opinion     2.067994"
      ]
     },
     "execution_count": 74,
     "metadata": {},
     "output_type": "execute_result"
    }
   ],
   "source": [
    "# Make a dataframe of top 20 strongest predictors for Dogs\n",
    "dog_feats_list = []\n",
    "\n",
    "for x,y in features_500[:-23:-1]:\n",
    "    feat = {}\n",
    "    feat['feature'] = y\n",
    "    feat['coefficient'] = x\n",
    "    dog_feats_list.append(feat)\n",
    "\n",
    "dog_feats_df = pd.DataFrame(dog_feats_list)\n",
    "print(dog_feats_df.shape)\n",
    "dog_feats_df.head(30)"
   ]
  },
  {
   "cell_type": "code",
   "execution_count": 77,
   "id": "eeb1c704",
   "metadata": {},
   "outputs": [
    {
     "data": {
      "image/png": "[encoded data removed]",
      "text/plain": [
       "<Figure size 1440x864 with 1 Axes>"
      ]
     },
     "metadata": {
      "needs_background": "light"
     },
     "output_type": "display_data"
    }
   ],
   "source": [
    "# Plot the top predictors for Cats\n",
    "plt.figure(figsize=(20,12))\n",
    "sns.barplot(data=cat_feats_df, x='coefficient', y='feature').invert_xaxis()\n",
    "plt.xlabel('Coefficient Strength', size=28)\n",
    "plt.ylabel('Word', size=28)\n",
    "plt.yticks(size=28)\n",
    "plt.xticks(size=28)\n",
    "plt.title('Top 20 Words with Strongest Predictive Power for\\nCats Subreddit', size=40)\n",
    "sns.despine(left=True, bottom=True);"
   ]
  },
  {
   "cell_type": "markdown",
   "id": "65968624",
   "metadata": {},
   "source": [
    "- Seems like cat owners appreciate aesthetically pleasing photos/looks of their own/other cats, given words such as 'cute', 'sleeping', 'little', kitten' and 'beautiful'.\n",
    "- I noticed that the first 3 words are all kitten/cat related, which shows I could have cleaned the data a bit better. Otherwise, it seems to indicate that there are many titles/posts on kittens. "
   ]
  },
  {
   "cell_type": "code",
   "execution_count": 78,
   "id": "4903d3f8",
   "metadata": {},
   "outputs": [
    {
     "name": "stderr",
     "output_type": "stream",
     "text": [
      "/opt/anaconda3/lib/python3.8/site-packages/seaborn/_decorators.py:36: FutureWarning: Pass the following variables as keyword args: x, y. From version 0.12, the only valid positional argument will be `data`, and passing other arguments without an explicit keyword will result in an error or misinterpretation.\n",
      "  warnings.warn(\n"
     ]
    },
    {
     "data": {
      "image/png": "[encoded data removed]",
      "text/plain": [
       "<Figure size 1440x864 with 1 Axes>"
      ]
     },
     "metadata": {
      "needs_background": "light"
     },
     "output_type": "display_data"
    }
   ],
   "source": [
    "# Plot the top 20 predictors for Dogs\n",
    "plt.figure(figsize=(20,12))\n",
    "sns.barplot(dog_feats_df['coefficient'], dog_feats_df['feature'])\n",
    "plt.xlabel('Coefficient Strength', size=28)\n",
    "plt.ylabel('Word', size=28)\n",
    "plt.yticks(size=28)\n",
    "plt.xticks(size=28)\n",
    "plt.title('Top 20 Words with Strongest Predictive Power for\\nDogs Subreddit', size=40)\n",
    "sns.despine(left=True, bottom=True);"
   ]
  },
  {
   "cell_type": "markdown",
   "id": "c45e95d2",
   "metadata": {},
   "source": [
    "- Similar to cats, I could have cleaned the words 'pup', 'puppi' as it is merely duplicates. However, seems dog owners love to post on their puppies as well. \n",
    "- Unlike the vibe from the cats Subreddit, dog owners seem to discuss mainly dog breeds (e.g. 'breeder', 'chihuahua', 'bulldog', 'pug') as well as seek advice/help (based on words e.g.'advice', 'anxieti', 'recommend','help', 'opinion', 'insur'). Dog owners seem more practical?"
   ]
  },
  {
   "cell_type": "code",
   "execution_count": 79,
   "id": "c8c76b3c",
   "metadata": {},
   "outputs": [
    {
     "data": {
      "text/plain": [
       "array([0.20137316, 0.351333  , 0.60699954, 0.9952296 , 0.54713434,\n",
       "       0.66450706, 0.84209274, 0.01949283, 0.02103517, 0.00435266])"
      ]
     },
     "execution_count": 79,
     "metadata": {},
     "output_type": "execute_result"
    }
   ],
   "source": [
    "# Get probability for 'subreddit' == 'cat'\n",
    "probs = lr.predict_proba(Z_test)[:, 0]\n",
    "probs[:10]"
   ]
  },
  {
   "cell_type": "code",
   "execution_count": 80,
   "id": "0b11ccda",
   "metadata": {},
   "outputs": [
    {
     "data": {
      "text/plain": [
       "array([1, 1, 0, 0, 0, 0, 0, 1, 1, 1])"
      ]
     },
     "execution_count": 80,
     "metadata": {},
     "output_type": "execute_result"
    }
   ],
   "source": [
    "# Get predictions\n",
    "preds = lr.predict(Z_test)\n",
    "preds[:10]"
   ]
  },
  {
   "cell_type": "code",
   "execution_count": 81,
   "id": "312c986b",
   "metadata": {},
   "outputs": [
    {
     "data": {
      "text/plain": [
       "[(0.20137316171542852, 1, 1),\n",
       " (0.3513329957712408, 1, 1),\n",
       " (0.6069995384805743, 0, 0),\n",
       " (0.9952295995286043, 0, 0),\n",
       " (0.547134343348074, 0, 0),\n",
       " (0.6645070551774954, 0, 1),\n",
       " (0.8420927407645449, 0, 0),\n",
       " (0.019492826364218674, 1, 1),\n",
       " (0.02103517393127785, 1, 1),\n",
       " (0.004352659314695417, 1, 1)]"
      ]
     },
     "execution_count": 81,
     "metadata": {},
     "output_type": "execute_result"
    }
   ],
   "source": [
    "# Zip probs / preds / actuals\n",
    "probs_preds_actual = list(zip(probs, preds, y_test))\n",
    "probs_preds_actual[:10]"
   ]
  },
  {
   "cell_type": "code",
   "execution_count": 85,
   "id": "3ee77182",
   "metadata": {},
   "outputs": [],
   "source": [
    "# Generate confusion matrix\n",
    "cm = confusion_matrix(y_test, preds)\n",
    "tn, fp, fn, tp = confusion_matrix(y_test, preds).ravel()"
   ]
  },
  {
   "cell_type": "code",
   "execution_count": 86,
   "id": "16cc95f2",
   "metadata": {},
   "outputs": [
    {
     "data": {
      "text/html": [
       "<div>\n",
       "<style scoped>\n",
       "    .dataframe tbody tr th:only-of-type {\n",
       "        vertical-align: middle;\n",
       "    }\n",
       "\n",
       "    .dataframe tbody tr th {\n",
       "        vertical-align: top;\n",
       "    }\n",
       "\n",
       "    .dataframe thead th {\n",
       "        text-align: right;\n",
       "    }\n",
       "</style>\n",
       "<table border=\"1\" class=\"dataframe\">\n",
       "  <thead>\n",
       "    <tr style=\"text-align: right;\">\n",
       "      <th></th>\n",
       "      <th>Predicted Cats</th>\n",
       "      <th>Predicted Dogs</th>\n",
       "    </tr>\n",
       "  </thead>\n",
       "  <tbody>\n",
       "    <tr>\n",
       "      <th>Actual Cats</th>\n",
       "      <td>3083</td>\n",
       "      <td>161</td>\n",
       "    </tr>\n",
       "    <tr>\n",
       "      <th>Actual Dogs</th>\n",
       "      <td>464</td>\n",
       "      <td>2857</td>\n",
       "    </tr>\n",
       "  </tbody>\n",
       "</table>\n",
       "</div>"
      ],
      "text/plain": [
       "             Predicted Cats  Predicted Dogs\n",
       "Actual Cats            3083             161\n",
       "Actual Dogs             464            2857"
      ]
     },
     "execution_count": 86,
     "metadata": {},
     "output_type": "execute_result"
    }
   ],
   "source": [
    "# Create labeled dataframe from confusion matrix\n",
    "# Code adapted from lesson 4.03-lesson-classification_metrics_i by Matt Brems & Riley Dallas\n",
    "cm_df = pd.DataFrame(cm, \n",
    "             columns=['Predicted Cats', 'Predicted Dogs'], \n",
    "             index=['Actual Cats', 'Actual Dogs'])\n",
    "cm_df"
   ]
  },
  {
   "cell_type": "code",
   "execution_count": 91,
   "id": "98d962fb",
   "metadata": {},
   "outputs": [
    {
     "name": "stdout",
     "output_type": "stream",
     "text": [
      "\n",
      "Accuracy:  0.9047981721249048\n",
      "Sensitivity:  0.8602830472749172\n",
      "Specificity:  0.9503699136868065\n",
      "Precision:  0.9466534128561962\n",
      "Misclassification rate:  0.09520182787509521\n"
     ]
    }
   ],
   "source": [
    "print(\"\\nAccuracy: \", (tn + tp) / (tn + fp + fn + tp))\n",
    "print(\"Sensitivity: \", tp / (tp + fn))\n",
    "print(\"Specificity: \", tn / (tn + fp))\n",
    "print(\"Precision: \", tp / (tp + fp))\n",
    "print(\"Misclassification rate: \",  (fp + fn) / (tn + fp + fn + tp))"
   ]
  },
  {
   "cell_type": "code",
   "execution_count": null,
   "id": "4f3afd2f",
   "metadata": {},
   "outputs": [],
   "source": []
  },
  {
   "cell_type": "markdown",
   "id": "102bcf7c",
   "metadata": {},
   "source": [
    "### Recommendations and Conclusions \n",
    "- For modeling rigor, literal subreddit name references should have been removed as individual words (e.g. \"dog\", \"cat\") were left in earlier on. \n",
    "- Perhaps this project could be improved by performing a form of sentiment analysis on the data in future studies. Lastly, though this model scored only around ~ 90% accuracy on testing data, this model still predicts much better than the baseline (~ 50.6%) and might be helpful in differentiating between dogs and cats. "
   ]
  },
  {
   "cell_type": "code",
   "execution_count": null,
   "id": "d9354dd0",
   "metadata": {},
   "outputs": [],
   "source": []
  }
 ],
 "metadata": {
  "kernelspec": {
   "display_name": "Python 3",
   "language": "python",
   "name": "python3"
  },
  "language_info": {
   "codemirror_mode": {
    "name": "ipython",
    "version": 3
   },
   "file_extension": ".py",
   "mimetype": "text/x-python",
   "name": "python",
   "nbconvert_exporter": "python",
   "pygments_lexer": "ipython3",
   "version": "3.8.8"
  }
 },
 "nbformat": 4,
 "nbformat_minor": 5
}
