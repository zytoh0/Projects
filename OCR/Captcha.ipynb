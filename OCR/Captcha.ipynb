{
 "cells": [
  {
   "cell_type": "code",
   "execution_count": 16,
   "id": "35f7c415-5a27-46de-82fb-9bdc0c2ad751",
   "metadata": {},
   "outputs": [],
   "source": [
    "#! python3 -m pip install --upgrade pip\n",
    "#! pip install pytesseract\n",
    "#! brew install tesseract-lang\n",
    "#! pip3 install opencv-python\n",
    "#! python -m pip install -U matplotlib\n",
    "\n",
    "import matplotlib.pyplot as plt, cv2, pytesseract\n",
    "\n",
    "class Captcha(object):\n",
    "    def __init__(self, im_path, save_path):\n",
    "        \n",
    "        # load image\n",
    "        img = cv2.imread(im_path,0)\n",
    "        \n",
    "        # setting threshold\n",
    "        threshold = 100\n",
    "        \n",
    "        # thresholding\n",
    "        def thresholding(image):\n",
    "            return cv2.threshold(image, threshold, 255, cv2.THRESH_BINARY + cv2.THRESH_OTSU)[1]\n",
    "        img = thresholding(img)\n",
    "        \n",
    "        # inference\n",
    "        inference = pytesseract.image_to_string(img)\n",
    "        \n",
    "        # save inference as .txt file\n",
    "        with open(save_path, 'w') as f:\n",
    "            f.write(inference)\n",
    "        pass\n",
    "    \n",
    "# Captcha('./sampleCaptchas/input/input00.jpg', './sampleCaptchas/test.txt');"
   ]
  }
 ],
 "metadata": {
  "kernelspec": {
   "display_name": "Python 3 (ipykernel)",
   "language": "python",
   "name": "python3"
  },
  "language_info": {
   "codemirror_mode": {
    "name": "ipython",
    "version": 3
   },
   "file_extension": ".py",
   "mimetype": "text/x-python",
   "name": "python",
   "nbconvert_exporter": "python",
   "pygments_lexer": "ipython3",
   "version": "3.8.12"
  }
 },
 "nbformat": 4,
 "nbformat_minor": 5
}
